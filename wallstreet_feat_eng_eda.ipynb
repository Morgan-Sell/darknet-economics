{
 "cells": [
  {
   "cell_type": "code",
   "execution_count": 1,
   "metadata": {},
   "outputs": [],
   "source": [
    "# Use for SageMaker\n",
    "# !pip install --upgrade pip\n",
    "# !pip install wordcloud\n",
    "# !pip install jupyterlab \"ipywidgets>=7.5\"\n",
    "# !pip install nodejs\n",
    "# !jupyter labextension install jupyterlab-plotly@4.11.0"
   ]
  },
  {
   "cell_type": "code",
   "execution_count": 1,
   "metadata": {},
   "outputs": [],
   "source": [
    "import pandas as pd\n",
    "import numpy as np\n",
    "\n",
    "import matplotlib.pyplot as plt\n",
    "import seaborn as sns\n",
    "import plotly.express as px\n",
    "%matplotlib inline\n",
    "\n",
    "import re\n",
    "from src import utils, lda_utils, nlp_topic_utils\n",
    "from bs4 import BeautifulSoup\n",
    "import itertools\n",
    "\n",
    "import nltk\n",
    "from nltk.corpus import stopwords\n",
    "from nltk.tokenize import TweetTokenizer\n",
    "import string\n",
    "\n",
    "from datetime import datetime\n",
    "from wordcloud import WordCloud\n",
    "\n",
    "from collections import Counter\n",
    "\n",
    "from src.process_text_variables import contracted_words_dict, stop_words_dict, punc \n",
    "\n",
    "from vaderSentiment.vaderSentiment import SentimentIntensityAnalyzer"
   ]
  },
  {
   "cell_type": "code",
   "execution_count": 2,
   "metadata": {},
   "outputs": [
    {
     "name": "stderr",
     "output_type": "stream",
     "text": [
      "[nltk_data] Downloading package wordnet to\n",
      "[nltk_data]     C:\\Users\\morga\\AppData\\Roaming\\nltk_data...\n",
      "[nltk_data]   Package wordnet is already up-to-date!\n",
      "[nltk_data] Downloading package stopwords to\n",
      "[nltk_data]     C:\\Users\\morga\\AppData\\Roaming\\nltk_data...\n",
      "[nltk_data]   Package stopwords is already up-to-date!\n",
      "[nltk_data] Downloading package averaged_perceptron_tagger to\n",
      "[nltk_data]     C:\\Users\\morga\\AppData\\Roaming\\nltk_data...\n",
      "[nltk_data]   Package averaged_perceptron_tagger is already up-to-\n",
      "[nltk_data]       date!\n"
     ]
    },
    {
     "data": {
      "text/plain": [
       "True"
      ]
     },
     "execution_count": 2,
     "metadata": {},
     "output_type": "execute_result"
    }
   ],
   "source": [
    "nltk.download('wordnet')\n",
    "nltk.download('stopwords')\n",
    "nltk.download('averaged_perceptron_tagger')"
   ]
  },
  {
   "cell_type": "markdown",
   "metadata": {},
   "source": [
    "# Wall Street Forum\n",
    "\n",
    "## EDA - Raw Data"
   ]
  },
  {
   "cell_type": "code",
   "execution_count": 3,
   "metadata": {},
   "outputs": [],
   "source": [
    "wallstreet = pd.read_csv('data/wallstreet.csv')"
   ]
  },
  {
   "cell_type": "code",
   "execution_count": 4,
   "metadata": {},
   "outputs": [
    {
     "name": "stdout",
     "output_type": "stream",
     "text": [
      "# of Postings:  45372\n",
      "# of Unique Threads :  8755\n",
      "# of Unique Subforums :  40\n",
      "# of Unique Authors :  5533\n",
      "# of Membership Types :  8\n"
     ]
    }
   ],
   "source": [
    "total_num_posts_wall = wallstreet.shape[0] \n",
    "print('# of Postings: ', total_num_posts_wall)\n",
    "print('# of Unique Threads : ', len(wallstreet['threadID'].unique()))\n",
    "print('# of Unique Subforums : ', len(wallstreet['subforum'].unique()))\n",
    "print('# of Unique Authors : ', len(wallstreet['authorName'].unique()))\n",
    "print('# of Membership Types : ', len(wallstreet['postAuthorMembership'].unique()))"
   ]
  },
  {
   "cell_type": "code",
   "execution_count": 5,
   "metadata": {},
   "outputs": [
    {
     "data": {
      "text/html": [
       "<div>\n",
       "<style scoped>\n",
       "    .dataframe tbody tr th:only-of-type {\n",
       "        vertical-align: middle;\n",
       "    }\n",
       "\n",
       "    .dataframe tbody tr th {\n",
       "        vertical-align: top;\n",
       "    }\n",
       "\n",
       "    .dataframe thead th {\n",
       "        text-align: right;\n",
       "    }\n",
       "</style>\n",
       "<table border=\"1\" class=\"dataframe\">\n",
       "  <thead>\n",
       "    <tr style=\"text-align: right;\">\n",
       "      <th></th>\n",
       "      <th>author</th>\n",
       "      <th>num_postings</th>\n",
       "      <th>prcnt_total_posts</th>\n",
       "    </tr>\n",
       "  </thead>\n",
       "  <tbody>\n",
       "    <tr>\n",
       "      <th>0</th>\n",
       "      <td>med3l1n</td>\n",
       "      <td>4889</td>\n",
       "      <td>0.107754</td>\n",
       "    </tr>\n",
       "    <tr>\n",
       "      <th>1</th>\n",
       "      <td>6LACK</td>\n",
       "      <td>1500</td>\n",
       "      <td>0.033060</td>\n",
       "    </tr>\n",
       "    <tr>\n",
       "      <th>2</th>\n",
       "      <td>leaguemode</td>\n",
       "      <td>1146</td>\n",
       "      <td>0.025258</td>\n",
       "    </tr>\n",
       "    <tr>\n",
       "      <th>3</th>\n",
       "      <td>ExpectUS</td>\n",
       "      <td>1113</td>\n",
       "      <td>0.024531</td>\n",
       "    </tr>\n",
       "    <tr>\n",
       "      <th>4</th>\n",
       "      <td>PurityRing</td>\n",
       "      <td>1111</td>\n",
       "      <td>0.024486</td>\n",
       "    </tr>\n",
       "    <tr>\n",
       "      <th>5</th>\n",
       "      <td>BonesKoopa</td>\n",
       "      <td>476</td>\n",
       "      <td>0.010491</td>\n",
       "    </tr>\n",
       "    <tr>\n",
       "      <th>6</th>\n",
       "      <td>Icepapi</td>\n",
       "      <td>446</td>\n",
       "      <td>0.009830</td>\n",
       "    </tr>\n",
       "    <tr>\n",
       "      <th>7</th>\n",
       "      <td>code48k</td>\n",
       "      <td>379</td>\n",
       "      <td>0.008353</td>\n",
       "    </tr>\n",
       "    <tr>\n",
       "      <th>8</th>\n",
       "      <td>deusxmacina</td>\n",
       "      <td>354</td>\n",
       "      <td>0.007802</td>\n",
       "    </tr>\n",
       "    <tr>\n",
       "      <th>9</th>\n",
       "      <td>dabbingtimes</td>\n",
       "      <td>334</td>\n",
       "      <td>0.007361</td>\n",
       "    </tr>\n",
       "  </tbody>\n",
       "</table>\n",
       "</div>"
      ],
      "text/plain": [
       "         author  num_postings  prcnt_total_posts\n",
       "0       med3l1n          4889           0.107754\n",
       "1         6LACK          1500           0.033060\n",
       "2    leaguemode          1146           0.025258\n",
       "3      ExpectUS          1113           0.024531\n",
       "4    PurityRing          1111           0.024486\n",
       "5    BonesKoopa           476           0.010491\n",
       "6       Icepapi           446           0.009830\n",
       "7       code48k           379           0.008353\n",
       "8   deusxmacina           354           0.007802\n",
       "9  dabbingtimes           334           0.007361"
      ]
     },
     "execution_count": 5,
     "metadata": {},
     "output_type": "execute_result"
    }
   ],
   "source": [
    "wall_authors = pd.DataFrame(wallstreet['authorName'].value_counts()).reset_index()\n",
    "wall_authors.columns = ['author','num_postings']\n",
    "wall_authors['prcnt_total_posts'] = wall_authors['num_postings'] / total_num_posts_wall\n",
    "wall_authors.head(10)"
   ]
  },
  {
   "cell_type": "code",
   "execution_count": 6,
   "metadata": {},
   "outputs": [
    {
     "data": {
      "text/html": [
       "<div>\n",
       "<style scoped>\n",
       "    .dataframe tbody tr th:only-of-type {\n",
       "        vertical-align: middle;\n",
       "    }\n",
       "\n",
       "    .dataframe tbody tr th {\n",
       "        vertical-align: top;\n",
       "    }\n",
       "\n",
       "    .dataframe thead th {\n",
       "        text-align: right;\n",
       "    }\n",
       "</style>\n",
       "<table border=\"1\" class=\"dataframe\">\n",
       "  <thead>\n",
       "    <tr style=\"text-align: right;\">\n",
       "      <th></th>\n",
       "      <th>thread_topic</th>\n",
       "      <th>num_postings</th>\n",
       "      <th>prcnt_total_posts</th>\n",
       "    </tr>\n",
       "  </thead>\n",
       "  <tbody>\n",
       "    <tr>\n",
       "      <th>0</th>\n",
       "      <td>GozNym 2.0 Banking Bot (Page 1 of 3)</td>\n",
       "      <td>75</td>\n",
       "      <td>0.001653</td>\n",
       "    </tr>\n",
       "    <tr>\n",
       "      <th>1</th>\n",
       "      <td>GozNym 2.0 Banking Bot (Page 2 of 3)</td>\n",
       "      <td>75</td>\n",
       "      <td>0.001653</td>\n",
       "    </tr>\n",
       "    <tr>\n",
       "      <th>2</th>\n",
       "      <td>[Price &amp; Version update] BTC ATM Malware</td>\n",
       "      <td>73</td>\n",
       "      <td>0.001609</td>\n",
       "    </tr>\n",
       "    <tr>\n",
       "      <th>3</th>\n",
       "      <td>GozNym 2.0 Banking Bot (Page 3 of 3)</td>\n",
       "      <td>56</td>\n",
       "      <td>0.001234</td>\n",
       "    </tr>\n",
       "    <tr>\n",
       "      <th>4</th>\n",
       "      <td>Hello</td>\n",
       "      <td>52</td>\n",
       "      <td>0.001146</td>\n",
       "    </tr>\n",
       "    <tr>\n",
       "      <th>5</th>\n",
       "      <td>US Tax Refund: 2018 Tax W2 Forms With AGI &amp; DO...</td>\n",
       "      <td>50</td>\n",
       "      <td>0.001102</td>\n",
       "    </tr>\n",
       "    <tr>\n",
       "      <th>6</th>\n",
       "      <td>CASHAPP GUIDE</td>\n",
       "      <td>50</td>\n",
       "      <td>0.001102</td>\n",
       "    </tr>\n",
       "    <tr>\n",
       "      <th>7</th>\n",
       "      <td>ANZ AU Bank accounts with security Q&amp;A! (Page ...</td>\n",
       "      <td>50</td>\n",
       "      <td>0.001102</td>\n",
       "    </tr>\n",
       "    <tr>\n",
       "      <th>8</th>\n",
       "      <td>ANZ AU Bank accounts with security Q&amp;A! (Page ...</td>\n",
       "      <td>50</td>\n",
       "      <td>0.001102</td>\n",
       "    </tr>\n",
       "    <tr>\n",
       "      <th>9</th>\n",
       "      <td>US Tax Refund: 2018 Tax W2 Forms With AGI &amp; DO...</td>\n",
       "      <td>50</td>\n",
       "      <td>0.001102</td>\n",
       "    </tr>\n",
       "  </tbody>\n",
       "</table>\n",
       "</div>"
      ],
      "text/plain": [
       "                                        thread_topic  num_postings  \\\n",
       "0               GozNym 2.0 Banking Bot (Page 1 of 3)            75   \n",
       "1               GozNym 2.0 Banking Bot (Page 2 of 3)            75   \n",
       "2           [Price & Version update] BTC ATM Malware            73   \n",
       "3               GozNym 2.0 Banking Bot (Page 3 of 3)            56   \n",
       "4                                              Hello            52   \n",
       "5  US Tax Refund: 2018 Tax W2 Forms With AGI & DO...            50   \n",
       "6                                      CASHAPP GUIDE            50   \n",
       "7  ANZ AU Bank accounts with security Q&A! (Page ...            50   \n",
       "8  ANZ AU Bank accounts with security Q&A! (Page ...            50   \n",
       "9  US Tax Refund: 2018 Tax W2 Forms With AGI & DO...            50   \n",
       "\n",
       "   prcnt_total_posts  \n",
       "0           0.001653  \n",
       "1           0.001653  \n",
       "2           0.001609  \n",
       "3           0.001234  \n",
       "4           0.001146  \n",
       "5           0.001102  \n",
       "6           0.001102  \n",
       "7           0.001102  \n",
       "8           0.001102  \n",
       "9           0.001102  "
      ]
     },
     "execution_count": 6,
     "metadata": {},
     "output_type": "execute_result"
    }
   ],
   "source": [
    "wall_threads = pd.DataFrame(wallstreet['threadTitle'].value_counts()).reset_index()\n",
    "wall_threads.columns = ['thread_topic','num_postings']\n",
    "wall_threads['prcnt_total_posts'] = wall_threads['num_postings'] / total_num_posts_wall\n",
    "wall_threads.head(10)"
   ]
  },
  {
   "cell_type": "code",
   "execution_count": 7,
   "metadata": {},
   "outputs": [
    {
     "data": {
      "text/html": [
       "<div>\n",
       "<style scoped>\n",
       "    .dataframe tbody tr th:only-of-type {\n",
       "        vertical-align: middle;\n",
       "    }\n",
       "\n",
       "    .dataframe tbody tr th {\n",
       "        vertical-align: top;\n",
       "    }\n",
       "\n",
       "    .dataframe thead th {\n",
       "        text-align: right;\n",
       "    }\n",
       "</style>\n",
       "<table border=\"1\" class=\"dataframe\">\n",
       "  <thead>\n",
       "    <tr style=\"text-align: right;\">\n",
       "      <th></th>\n",
       "      <th>subforum</th>\n",
       "      <th>num_postings</th>\n",
       "      <th>prcnt_total_posts</th>\n",
       "    </tr>\n",
       "  </thead>\n",
       "  <tbody>\n",
       "    <tr>\n",
       "      <th>0</th>\n",
       "      <td>Fraud</td>\n",
       "      <td>12277</td>\n",
       "      <td>0.270585</td>\n",
       "    </tr>\n",
       "    <tr>\n",
       "      <th>1</th>\n",
       "      <td>General Questions</td>\n",
       "      <td>5225</td>\n",
       "      <td>0.115159</td>\n",
       "    </tr>\n",
       "    <tr>\n",
       "      <th>2</th>\n",
       "      <td>Carding Stuff</td>\n",
       "      <td>3836</td>\n",
       "      <td>0.084546</td>\n",
       "    </tr>\n",
       "    <tr>\n",
       "      <th>3</th>\n",
       "      <td>Services</td>\n",
       "      <td>2973</td>\n",
       "      <td>0.065525</td>\n",
       "    </tr>\n",
       "    <tr>\n",
       "      <th>4</th>\n",
       "      <td>Cannabis</td>\n",
       "      <td>2431</td>\n",
       "      <td>0.053579</td>\n",
       "    </tr>\n",
       "    <tr>\n",
       "      <th>5</th>\n",
       "      <td>Introductions</td>\n",
       "      <td>2418</td>\n",
       "      <td>0.053293</td>\n",
       "    </tr>\n",
       "    <tr>\n",
       "      <th>6</th>\n",
       "      <td>Counterfeits</td>\n",
       "      <td>1727</td>\n",
       "      <td>0.038063</td>\n",
       "    </tr>\n",
       "    <tr>\n",
       "      <th>7</th>\n",
       "      <td>Stimulants</td>\n",
       "      <td>1537</td>\n",
       "      <td>0.033876</td>\n",
       "    </tr>\n",
       "    <tr>\n",
       "      <th>8</th>\n",
       "      <td>Announcements</td>\n",
       "      <td>1507</td>\n",
       "      <td>0.033214</td>\n",
       "    </tr>\n",
       "    <tr>\n",
       "      <th>9</th>\n",
       "      <td>Digital goods</td>\n",
       "      <td>1443</td>\n",
       "      <td>0.031804</td>\n",
       "    </tr>\n",
       "    <tr>\n",
       "      <th>10</th>\n",
       "      <td>Guides &amp; Tutorials</td>\n",
       "      <td>1248</td>\n",
       "      <td>0.027506</td>\n",
       "    </tr>\n",
       "    <tr>\n",
       "      <th>11</th>\n",
       "      <td>Off-Topic</td>\n",
       "      <td>882</td>\n",
       "      <td>0.019439</td>\n",
       "    </tr>\n",
       "    <tr>\n",
       "      <th>12</th>\n",
       "      <td>Wanted - Carding, Fraud &amp; Related</td>\n",
       "      <td>779</td>\n",
       "      <td>0.017169</td>\n",
       "    </tr>\n",
       "    <tr>\n",
       "      <th>13</th>\n",
       "      <td>Opiates</td>\n",
       "      <td>723</td>\n",
       "      <td>0.015935</td>\n",
       "    </tr>\n",
       "    <tr>\n",
       "      <th>14</th>\n",
       "      <td>Bitcoin &amp; Multisig</td>\n",
       "      <td>671</td>\n",
       "      <td>0.014789</td>\n",
       "    </tr>\n",
       "  </tbody>\n",
       "</table>\n",
       "</div>"
      ],
      "text/plain": [
       "                             subforum  num_postings  prcnt_total_posts\n",
       "0                               Fraud         12277           0.270585\n",
       "1                   General Questions          5225           0.115159\n",
       "2                       Carding Stuff          3836           0.084546\n",
       "3                            Services          2973           0.065525\n",
       "4                            Cannabis          2431           0.053579\n",
       "5                       Introductions          2418           0.053293\n",
       "6                        Counterfeits          1727           0.038063\n",
       "7                          Stimulants          1537           0.033876\n",
       "8                       Announcements          1507           0.033214\n",
       "9                       Digital goods          1443           0.031804\n",
       "10                 Guides & Tutorials          1248           0.027506\n",
       "11                          Off-Topic           882           0.019439\n",
       "12  Wanted - Carding, Fraud & Related           779           0.017169\n",
       "13                            Opiates           723           0.015935\n",
       "14                 Bitcoin & Multisig           671           0.014789"
      ]
     },
     "execution_count": 7,
     "metadata": {},
     "output_type": "execute_result"
    }
   ],
   "source": [
    "wall_subforums = pd.DataFrame(wallstreet['subforum'].value_counts()).reset_index()\n",
    "wall_subforums.columns = ['subforum','num_postings']\n",
    "wall_subforums['prcnt_total_posts'] = wall_subforums['num_postings'] / total_num_posts_wall\n",
    "wall_subforums.head(15)"
   ]
  },
  {
   "cell_type": "code",
   "execution_count": 8,
   "metadata": {},
   "outputs": [
    {
     "data": {
      "text/html": [
       "<div>\n",
       "<style scoped>\n",
       "    .dataframe tbody tr th:only-of-type {\n",
       "        vertical-align: middle;\n",
       "    }\n",
       "\n",
       "    .dataframe tbody tr th {\n",
       "        vertical-align: top;\n",
       "    }\n",
       "\n",
       "    .dataframe thead th {\n",
       "        text-align: right;\n",
       "    }\n",
       "</style>\n",
       "<table border=\"1\" class=\"dataframe\">\n",
       "  <thead>\n",
       "    <tr style=\"text-align: right;\">\n",
       "      <th></th>\n",
       "      <th>join_date</th>\n",
       "      <th>count</th>\n",
       "      <th>prcnt_total_posts</th>\n",
       "    </tr>\n",
       "  </thead>\n",
       "  <tbody>\n",
       "    <tr>\n",
       "      <th>0</th>\n",
       "      <td>Despacitoland</td>\n",
       "      <td>4889</td>\n",
       "      <td>0.107754</td>\n",
       "    </tr>\n",
       "    <tr>\n",
       "      <th>1</th>\n",
       "      <td>G</td>\n",
       "      <td>1500</td>\n",
       "      <td>0.033060</td>\n",
       "    </tr>\n",
       "    <tr>\n",
       "      <th>2</th>\n",
       "      <td>2017-11-06</td>\n",
       "      <td>1227</td>\n",
       "      <td>0.027043</td>\n",
       "    </tr>\n",
       "    <tr>\n",
       "      <th>3</th>\n",
       "      <td>2018-01-10</td>\n",
       "      <td>1146</td>\n",
       "      <td>0.025258</td>\n",
       "    </tr>\n",
       "    <tr>\n",
       "      <th>4</th>\n",
       "      <td>InterWebz</td>\n",
       "      <td>1113</td>\n",
       "      <td>0.024531</td>\n",
       "    </tr>\n",
       "    <tr>\n",
       "      <th>5</th>\n",
       "      <td>2017-07-27</td>\n",
       "      <td>524</td>\n",
       "      <td>0.011549</td>\n",
       "    </tr>\n",
       "    <tr>\n",
       "      <th>6</th>\n",
       "      <td>2018-03-03</td>\n",
       "      <td>498</td>\n",
       "      <td>0.010976</td>\n",
       "    </tr>\n",
       "    <tr>\n",
       "      <th>7</th>\n",
       "      <td>2017-11-09</td>\n",
       "      <td>427</td>\n",
       "      <td>0.009411</td>\n",
       "    </tr>\n",
       "    <tr>\n",
       "      <th>8</th>\n",
       "      <td>2018-05-06</td>\n",
       "      <td>415</td>\n",
       "      <td>0.009147</td>\n",
       "    </tr>\n",
       "    <tr>\n",
       "      <th>9</th>\n",
       "      <td>2017-10-17</td>\n",
       "      <td>403</td>\n",
       "      <td>0.008882</td>\n",
       "    </tr>\n",
       "  </tbody>\n",
       "</table>\n",
       "</div>"
      ],
      "text/plain": [
       "       join_date  count  prcnt_total_posts\n",
       "0  Despacitoland   4889           0.107754\n",
       "1              G   1500           0.033060\n",
       "2     2017-11-06   1227           0.027043\n",
       "3     2018-01-10   1146           0.025258\n",
       "4      InterWebz   1113           0.024531\n",
       "5     2017-07-27    524           0.011549\n",
       "6     2018-03-03    498           0.010976\n",
       "7     2017-11-09    427           0.009411\n",
       "8     2018-05-06    415           0.009147\n",
       "9     2017-10-17    403           0.008882"
      ]
     },
     "execution_count": 8,
     "metadata": {},
     "output_type": "execute_result"
    }
   ],
   "source": [
    "wall_joindate = pd.DataFrame(wallstreet['postAuthorJoinDate'].value_counts()).reset_index()\n",
    "wall_joindate.columns = ['join_date','count']\n",
    "wall_joindate['prcnt_total_posts'] = wall_joindate['count'] / total_num_posts_wall\n",
    "wall_joindate.head(10)"
   ]
  },
  {
   "cell_type": "code",
   "execution_count": 9,
   "metadata": {},
   "outputs": [
    {
     "name": "stderr",
     "output_type": "stream",
     "text": [
      "C:\\Users\\morga\\anaconda3\\lib\\site-packages\\seaborn\\distributions.py:2551: FutureWarning: `distplot` is a deprecated function and will be removed in a future version. Please adapt your code to use either `displot` (a figure-level function with similar flexibility) or `histplot` (an axes-level function for histograms).\n",
      "  warnings.warn(msg, FutureWarning)\n"
     ]
    },
    {
     "data": {
      "image/png": "[encoded data removed]",
      "text/plain": [
       "<Figure size 720x432 with 1 Axes>"
      ]
     },
     "metadata": {
      "needs_background": "light"
     },
     "output_type": "display_data"
    }
   ],
   "source": [
    "# Max value ~ 5,400.\n",
    "constraint = 500\n",
    "reputation = wallstreet[wallstreet['authorReputation'] < constraint]['authorReputation']\n",
    "fig, ax = plt.subplots(figsize=(10,6))\n",
    "ax = sns.distplot(reputation)\n",
    "ax.set_title(\"Author's Reputation Score Distribution\", fontsize=14);"
   ]
  },
  {
   "cell_type": "code",
   "execution_count": 10,
   "metadata": {},
   "outputs": [
    {
     "name": "stderr",
     "output_type": "stream",
     "text": [
      "C:\\Users\\morga\\anaconda3\\lib\\site-packages\\seaborn\\distributions.py:2551: FutureWarning: `distplot` is a deprecated function and will be removed in a future version. Please adapt your code to use either `displot` (a figure-level function with similar flexibility) or `histplot` (an axes-level function for histograms).\n",
      "  warnings.warn(msg, FutureWarning)\n",
      "C:\\Users\\morga\\anaconda3\\lib\\site-packages\\seaborn\\distributions.py:305: UserWarning: Dataset has 0 variance; skipping density estimate.\n",
      "  warnings.warn(msg, UserWarning)\n"
     ]
    },
    {
     "data": {
      "image/png": "[encoded data removed]",
      "text/plain": [
       "<Figure size 576x288 with 1 Axes>"
      ]
     },
     "metadata": {
      "needs_background": "light"
     },
     "output_type": "display_data"
    }
   ],
   "source": [
    "constraint = 100\n",
    "likes = wallstreet[wallstreet['likes'] < constraint]['likes']\n",
    "fig, ax = plt.subplots(figsize=(8,4))\n",
    "ax = sns.distplot(likes)\n",
    "ax.set_title(\"A Post's Like Distribution\", fontsize=14);"
   ]
  },
  {
   "cell_type": "code",
   "execution_count": null,
   "metadata": {},
   "outputs": [],
   "source": []
  },
  {
   "cell_type": "markdown",
   "metadata": {},
   "source": [
    "---\n",
    "# Data Processing / Feature Engineering"
   ]
  },
  {
   "cell_type": "code",
   "execution_count": 14,
   "metadata": {},
   "outputs": [],
   "source": [
    "wallstreet_v2 = wallstreet.copy()\n",
    "\n",
    "# Date/time-related features\n",
    "wallstreet_v2['post_date_dt'] = wallstreet_v2['postDate'].apply(utils.fix_postdate_col)\n",
    "wallstreet_v2['author_join_date'] = wallstreet_v2.apply(lambda x: utils.fix_author_join_date_col(x['postAuthorJoinDate'], x['postAuthorMembership'], x['post_date_dt']), axis=1)\n",
    "wallstreet_v2['post_date_only'] = wallstreet_v2['post_date_dt'].apply(lambda x: x.date())\n",
    "wallstreet_v2['num_days_member_when_posted'] = wallstreet_v2['post_date_dt'].dt.date - wallstreet_v2['author_join_date'].dt.date\n",
    "wallstreet_v2['num_days_member_when_posted'] = wallstreet_v2['num_days_member_when_posted'].dt.days\n",
    "\n",
    "cols_to_drop = ['URL', 'likes', 'postDate', 'postAuthorJoinDate', 'flatContent']\n",
    "wallstreet_v2.drop(cols_to_drop, axis=1, inplace=True)\n",
    "\n",
    "# Text-related features\n",
    "wallstreet_v2['processed_text'] = wallstreet_v2['contentWithHTMLTag'].apply(lambda x: nlp_topic_utils.process_text(x, contracted_words_dict, punc, stop_words_dict, min_len=3))\n",
    "wallstreet_v2['parts_of_speech'] = wallstreet_v2['processed_text'].apply(lambda x: nltk.pos_tag(x))\n",
    "wallstreet_v2['wordcloud_text'] = wallstreet_v2['processed_text'].apply(lambda x: ' '.join(x)).astype('str')"
   ]
  },
  {
   "cell_type": "code",
   "execution_count": null,
   "metadata": {},
   "outputs": [],
   "source": [
    "\n",
    "\n"
   ]
  },
  {
   "cell_type": "code",
   "execution_count": 15,
   "metadata": {},
   "outputs": [
    {
     "data": {
      "text/html": [
       "<div>\n",
       "<style scoped>\n",
       "    .dataframe tbody tr th:only-of-type {\n",
       "        vertical-align: middle;\n",
       "    }\n",
       "\n",
       "    .dataframe tbody tr th {\n",
       "        vertical-align: top;\n",
       "    }\n",
       "\n",
       "    .dataframe thead th {\n",
       "        text-align: right;\n",
       "    }\n",
       "</style>\n",
       "<table border=\"1\" class=\"dataframe\">\n",
       "  <thead>\n",
       "    <tr style=\"text-align: right;\">\n",
       "      <th></th>\n",
       "      <th>postID</th>\n",
       "      <th>threadID</th>\n",
       "      <th>threadTitle</th>\n",
       "      <th>subforum</th>\n",
       "      <th>authorName</th>\n",
       "      <th>postAuthorMembership</th>\n",
       "      <th>authorReputation</th>\n",
       "      <th>postSequence</th>\n",
       "      <th>contentWithHTMLTag</th>\n",
       "      <th>post_date_dt</th>\n",
       "      <th>author_join_date</th>\n",
       "      <th>post_date_only</th>\n",
       "      <th>num_days_member_when_posted</th>\n",
       "      <th>processed_text</th>\n",
       "      <th>parts_of_speech</th>\n",
       "      <th>wordcloud_text</th>\n",
       "    </tr>\n",
       "  </thead>\n",
       "  <tbody>\n",
       "    <tr>\n",
       "      <th>0</th>\n",
       "      <td>6</td>\n",
       "      <td>5</td>\n",
       "      <td>Hi</td>\n",
       "      <td>Introductions</td>\n",
       "      <td>Punka421</td>\n",
       "      <td>New member</td>\n",
       "      <td>-3</td>\n",
       "      <td>1</td>\n",
       "      <td>&lt;div class=\"entry-content\"&gt;\\n&lt;p&gt;Just thought I...</td>\n",
       "      <td>2016-10-26 13:58:36</td>\n",
       "      <td>2016-10-26</td>\n",
       "      <td>2016-10-26</td>\n",
       "      <td>0.0</td>\n",
       "      <td>[thought, introduce, new, community, trying, l...</td>\n",
       "      <td>[(thought, VBN), (introduce, VB), (new, JJ), (...</td>\n",
       "      <td>thought introduce new community trying learn m...</td>\n",
       "    </tr>\n",
       "    <tr>\n",
       "      <th>1</th>\n",
       "      <td>7</td>\n",
       "      <td>5</td>\n",
       "      <td>Hi</td>\n",
       "      <td>Introductions</td>\n",
       "      <td>WSM</td>\n",
       "      <td>Administrator</td>\n",
       "      <td>66</td>\n",
       "      <td>2</td>\n",
       "      <td>&lt;div class=\"entry-content\"&gt;\\n&lt;p&gt;Hello &lt;img alt...</td>\n",
       "      <td>2016-10-26 14:04:04</td>\n",
       "      <td>2016-10-02</td>\n",
       "      <td>2016-10-26</td>\n",
       "      <td>24.0</td>\n",
       "      <td>[hello, nice, see, regard]</td>\n",
       "      <td>[(hello, JJ), (nice, JJ), (see, NN), (regard, ...</td>\n",
       "      <td>hello nice see regard</td>\n",
       "    </tr>\n",
       "    <tr>\n",
       "      <th>2</th>\n",
       "      <td>8</td>\n",
       "      <td>6</td>\n",
       "      <td>WSM Updates - Changelog (Page 1 of 4)</td>\n",
       "      <td>Announcements</td>\n",
       "      <td>WSM</td>\n",
       "      <td>Administrator</td>\n",
       "      <td>74</td>\n",
       "      <td>1</td>\n",
       "      <td>&lt;div class=\"entry-content\"&gt;\\n&lt;p&gt;Hello everyone...</td>\n",
       "      <td>2016-10-26 16:54:27</td>\n",
       "      <td>2016-10-02</td>\n",
       "      <td>2016-10-26</td>\n",
       "      <td>24.0</td>\n",
       "      <td>[hello, everyone, like, tell, implemented, new...</td>\n",
       "      <td>[(hello, RB), (everyone, NN), (like, IN), (tel...</td>\n",
       "      <td>hello everyone like tell implemented new featu...</td>\n",
       "    </tr>\n",
       "    <tr>\n",
       "      <th>3</th>\n",
       "      <td>11</td>\n",
       "      <td>5</td>\n",
       "      <td>Hi</td>\n",
       "      <td>Introductions</td>\n",
       "      <td>Estrazy</td>\n",
       "      <td>Banned</td>\n",
       "      <td>0</td>\n",
       "      <td>3</td>\n",
       "      <td>&lt;div class=\"entry-content\"&gt;\\n&lt;p&gt;Hello Punka! n...</td>\n",
       "      <td>2016-10-27 14:00:16</td>\n",
       "      <td>2016-10-27</td>\n",
       "      <td>2016-10-27</td>\n",
       "      <td>0.0</td>\n",
       "      <td>[hello, punka, nice, meet, asked, stay, secure...</td>\n",
       "      <td>[(hello, NN), (punka, NN), (nice, JJ), (meet, ...</td>\n",
       "      <td>hello punka nice meet asked stay secure tip ca...</td>\n",
       "    </tr>\n",
       "    <tr>\n",
       "      <th>4</th>\n",
       "      <td>13</td>\n",
       "      <td>6</td>\n",
       "      <td>WSM Updates - Changelog (Page 1 of 4)</td>\n",
       "      <td>Announcements</td>\n",
       "      <td>WSM</td>\n",
       "      <td>Administrator</td>\n",
       "      <td>74</td>\n",
       "      <td>2</td>\n",
       "      <td>&lt;div class=\"entry-content\"&gt;\\n&lt;h5&gt;Changelog fro...</td>\n",
       "      <td>2016-11-02 15:42:27</td>\n",
       "      <td>2016-10-02</td>\n",
       "      <td>2016-11-02</td>\n",
       "      <td>31.0</td>\n",
       "      <td>[changelog, wednesday, november, lot, small, i...</td>\n",
       "      <td>[(changelog, NN), (wednesday, JJ), (november, ...</td>\n",
       "      <td>changelog wednesday november lot small issue b...</td>\n",
       "    </tr>\n",
       "  </tbody>\n",
       "</table>\n",
       "</div>"
      ],
      "text/plain": [
       "   postID  threadID                            threadTitle       subforum  \\\n",
       "0       6         5                                     Hi  Introductions   \n",
       "1       7         5                                     Hi  Introductions   \n",
       "2       8         6  WSM Updates - Changelog (Page 1 of 4)  Announcements   \n",
       "3      11         5                                     Hi  Introductions   \n",
       "4      13         6  WSM Updates - Changelog (Page 1 of 4)  Announcements   \n",
       "\n",
       "  authorName postAuthorMembership  authorReputation  postSequence  \\\n",
       "0   Punka421           New member                -3             1   \n",
       "1        WSM        Administrator                66             2   \n",
       "2        WSM        Administrator                74             1   \n",
       "3    Estrazy               Banned                 0             3   \n",
       "4        WSM        Administrator                74             2   \n",
       "\n",
       "                                  contentWithHTMLTag        post_date_dt  \\\n",
       "0  <div class=\"entry-content\">\\n<p>Just thought I... 2016-10-26 13:58:36   \n",
       "1  <div class=\"entry-content\">\\n<p>Hello <img alt... 2016-10-26 14:04:04   \n",
       "2  <div class=\"entry-content\">\\n<p>Hello everyone... 2016-10-26 16:54:27   \n",
       "3  <div class=\"entry-content\">\\n<p>Hello Punka! n... 2016-10-27 14:00:16   \n",
       "4  <div class=\"entry-content\">\\n<h5>Changelog fro... 2016-11-02 15:42:27   \n",
       "\n",
       "  author_join_date post_date_only  num_days_member_when_posted  \\\n",
       "0       2016-10-26     2016-10-26                          0.0   \n",
       "1       2016-10-02     2016-10-26                         24.0   \n",
       "2       2016-10-02     2016-10-26                         24.0   \n",
       "3       2016-10-27     2016-10-27                          0.0   \n",
       "4       2016-10-02     2016-11-02                         31.0   \n",
       "\n",
       "                                      processed_text  \\\n",
       "0  [thought, introduce, new, community, trying, l...   \n",
       "1                         [hello, nice, see, regard]   \n",
       "2  [hello, everyone, like, tell, implemented, new...   \n",
       "3  [hello, punka, nice, meet, asked, stay, secure...   \n",
       "4  [changelog, wednesday, november, lot, small, i...   \n",
       "\n",
       "                                     parts_of_speech  \\\n",
       "0  [(thought, VBN), (introduce, VB), (new, JJ), (...   \n",
       "1  [(hello, JJ), (nice, JJ), (see, NN), (regard, ...   \n",
       "2  [(hello, RB), (everyone, NN), (like, IN), (tel...   \n",
       "3  [(hello, NN), (punka, NN), (nice, JJ), (meet, ...   \n",
       "4  [(changelog, NN), (wednesday, JJ), (november, ...   \n",
       "\n",
       "                                      wordcloud_text  \n",
       "0  thought introduce new community trying learn m...  \n",
       "1                              hello nice see regard  \n",
       "2  hello everyone like tell implemented new featu...  \n",
       "3  hello punka nice meet asked stay secure tip ca...  \n",
       "4  changelog wednesday november lot small issue b...  "
      ]
     },
     "execution_count": 15,
     "metadata": {},
     "output_type": "execute_result"
    }
   ],
   "source": [
    "wallstreet_v2.head()"
   ]
  },
  {
   "cell_type": "code",
   "execution_count": 18,
   "metadata": {},
   "outputs": [],
   "source": [
    "wallstreet_v2.to_csv('data/wallstreet_master.csv', index=False)"
   ]
  },
  {
   "cell_type": "markdown",
   "metadata": {},
   "source": [
    "---\n",
    "# EDA using Engineering Features"
   ]
  },
  {
   "cell_type": "code",
   "execution_count": 27,
   "metadata": {},
   "outputs": [
    {
     "data": {
      "image/png": "[encoded data removed]",
      "text/plain": [
       "<Figure size 720x432 with 1 Axes>"
      ]
     },
     "metadata": {
      "needs_background": "light"
     },
     "output_type": "display_data"
    }
   ],
   "source": [
    "rep_limit = 500\n",
    "excl_rep_outliers = wallstreet_v2[wallstreet_v2['authorReputation'] < rep_limit]\n",
    "\n",
    "plt.figure(figsize=(10,6))\n",
    "\n",
    "sns.scatterplot(y='num_days_member_when_posted', x='authorReputation', data=excl_rep_outliers)\n",
    "plt.title('Correlation between Membership Duration and Reputation', fontsize=18)\n",
    "plt.tight_layout();"
   ]
  },
  {
   "cell_type": "code",
   "execution_count": 20,
   "metadata": {},
   "outputs": [
    {
     "data": {
      "image/png": "[encoded data removed]",
      "text/plain": [
       "<Figure size 1440x504 with 1 Axes>"
      ]
     },
     "metadata": {
      "needs_background": "light"
     },
     "output_type": "display_data"
    }
   ],
   "source": [
    "all_words_arr = joined_wordcloud_text.split(' ')\n",
    "word_freq_df = pd.DataFrame(pd.Series(all_words_arr).value_counts()).reset_index()\n",
    "word_freq_df.columns = ['word', 'freq'] \n",
    "\n",
    "top25_words = word_freq_df[:25]\n",
    "fig, ax = plt.subplots(figsize=(20,7))\n",
    "\n",
    "ax = sns.barplot(x='word', y='freq', data=top25_words, palette='YlGnBu')\n",
    "ax.set_title('Word Frequency', fontsize=22)\n",
    "ax.set_xlabel('Words')\n",
    "ax.set_ylabel('Frequency')\n",
    "\n",
    "plt.tight_layout();"
   ]
  },
  {
   "cell_type": "code",
   "execution_count": 21,
   "metadata": {},
   "outputs": [
    {
     "name": "stderr",
     "output_type": "stream",
     "text": [
      "C:\\Users\\morga\\anaconda3\\lib\\site-packages\\seaborn\\distributions.py:2551: FutureWarning: `distplot` is a deprecated function and will be removed in a future version. Please adapt your code to use either `displot` (a figure-level function with similar flexibility) or `histplot` (an axes-level function for histograms).\n",
      "  warnings.warn(msg, FutureWarning)\n"
     ]
    },
    {
     "data": {
      "image/png": "[encoded data removed]",
      "text/plain": [
       "<Figure size 1080x432 with 1 Axes>"
      ]
     },
     "metadata": {
      "needs_background": "light"
     },
     "output_type": "display_data"
    }
   ],
   "source": [
    "word_freq_dist = word_freq_df[word_freq_df['freq'] < 200]['freq']\n",
    "\n",
    "word_freq_dist.describe()\n",
    "\n",
    "fig, ax = plt.subplots(figsize=(15,6))\n",
    "ax = sns.distplot(word_freq_dist, bins=500)\n",
    "ax.set_title(\"Word Frequency Distribution\", fontsize=14);"
   ]
  },
  {
   "cell_type": "code",
   "execution_count": 22,
   "metadata": {},
   "outputs": [
    {
     "ename": "KeyError",
     "evalue": "'freq'",
     "output_type": "error",
     "traceback": [
      "\u001b[1;31m---------------------------------------------------------------------------\u001b[0m",
      "\u001b[1;31mKeyError\u001b[0m                                  Traceback (most recent call last)",
      "\u001b[1;32m<ipython-input-22-b25f6e69a3b4>\u001b[0m in \u001b[0;36m<module>\u001b[1;34m\u001b[0m\n\u001b[0;32m     11\u001b[0m \u001b[0mpos_freq_df\u001b[0m \u001b[1;33m=\u001b[0m \u001b[0mpd\u001b[0m\u001b[1;33m.\u001b[0m\u001b[0mDataFrame\u001b[0m\u001b[1;33m.\u001b[0m\u001b[0mfrom_dict\u001b[0m\u001b[1;33m(\u001b[0m\u001b[0mpos_dist\u001b[0m\u001b[1;33m,\u001b[0m \u001b[0morient\u001b[0m\u001b[1;33m=\u001b[0m\u001b[1;34m'index'\u001b[0m\u001b[1;33m)\u001b[0m\u001b[1;33m.\u001b[0m\u001b[0mreset_index\u001b[0m\u001b[1;33m(\u001b[0m\u001b[1;33m)\u001b[0m\u001b[1;33m\u001b[0m\u001b[1;33m\u001b[0m\u001b[0m\n\u001b[0;32m     12\u001b[0m \u001b[0mpos_freq_df\u001b[0m\u001b[1;33m.\u001b[0m\u001b[0mcolumns\u001b[0m \u001b[1;33m=\u001b[0m \u001b[1;33m[\u001b[0m\u001b[1;34m'pos'\u001b[0m\u001b[1;33m,\u001b[0m \u001b[1;34m'freq'\u001b[0m\u001b[1;33m]\u001b[0m\u001b[1;33m\u001b[0m\u001b[1;33m\u001b[0m\u001b[0m\n\u001b[1;32m---> 13\u001b[1;33m \u001b[0mpos_freq_df\u001b[0m\u001b[1;33m.\u001b[0m\u001b[0msort_values\u001b[0m\u001b[1;33m(\u001b[0m\u001b[0mby\u001b[0m\u001b[1;33m=\u001b[0m\u001b[1;33m[\u001b[0m\u001b[1;34m'freq'\u001b[0m\u001b[1;33m]\u001b[0m\u001b[1;33m,\u001b[0m \u001b[0maxis\u001b[0m\u001b[1;33m=\u001b[0m\u001b[1;36m1\u001b[0m\u001b[1;33m)\u001b[0m\u001b[1;31m#, inplace=True)\u001b[0m\u001b[1;33m\u001b[0m\u001b[1;33m\u001b[0m\u001b[0m\n\u001b[0m",
      "\u001b[1;32m~\\anaconda3\\lib\\site-packages\\pandas\\core\\frame.py\u001b[0m in \u001b[0;36msort_values\u001b[1;34m(self, by, axis, ascending, inplace, kind, na_position, ignore_index, key)\u001b[0m\n\u001b[0;32m   5289\u001b[0m \u001b[1;33m\u001b[0m\u001b[0m\n\u001b[0;32m   5290\u001b[0m             \u001b[0mby\u001b[0m \u001b[1;33m=\u001b[0m \u001b[0mby\u001b[0m\u001b[1;33m[\u001b[0m\u001b[1;36m0\u001b[0m\u001b[1;33m]\u001b[0m\u001b[1;33m\u001b[0m\u001b[1;33m\u001b[0m\u001b[0m\n\u001b[1;32m-> 5291\u001b[1;33m             \u001b[0mk\u001b[0m \u001b[1;33m=\u001b[0m \u001b[0mself\u001b[0m\u001b[1;33m.\u001b[0m\u001b[0m_get_label_or_level_values\u001b[0m\u001b[1;33m(\u001b[0m\u001b[0mby\u001b[0m\u001b[1;33m,\u001b[0m \u001b[0maxis\u001b[0m\u001b[1;33m=\u001b[0m\u001b[0maxis\u001b[0m\u001b[1;33m)\u001b[0m\u001b[1;33m\u001b[0m\u001b[1;33m\u001b[0m\u001b[0m\n\u001b[0m\u001b[0;32m   5292\u001b[0m \u001b[1;33m\u001b[0m\u001b[0m\n\u001b[0;32m   5293\u001b[0m             \u001b[1;31m# need to rewrap column in Series to apply key function\u001b[0m\u001b[1;33m\u001b[0m\u001b[1;33m\u001b[0m\u001b[1;33m\u001b[0m\u001b[0m\n",
      "\u001b[1;32m~\\anaconda3\\lib\\site-packages\\pandas\\core\\generic.py\u001b[0m in \u001b[0;36m_get_label_or_level_values\u001b[1;34m(self, key, axis)\u001b[0m\n\u001b[0;32m   1558\u001b[0m             \u001b[0mvalues\u001b[0m \u001b[1;33m=\u001b[0m \u001b[0mself\u001b[0m\u001b[1;33m.\u001b[0m\u001b[0maxes\u001b[0m\u001b[1;33m[\u001b[0m\u001b[0maxis\u001b[0m\u001b[1;33m]\u001b[0m\u001b[1;33m.\u001b[0m\u001b[0mget_level_values\u001b[0m\u001b[1;33m(\u001b[0m\u001b[0mkey\u001b[0m\u001b[1;33m)\u001b[0m\u001b[1;33m.\u001b[0m\u001b[0m_values\u001b[0m\u001b[1;33m\u001b[0m\u001b[1;33m\u001b[0m\u001b[0m\n\u001b[0;32m   1559\u001b[0m         \u001b[1;32melse\u001b[0m\u001b[1;33m:\u001b[0m\u001b[1;33m\u001b[0m\u001b[1;33m\u001b[0m\u001b[0m\n\u001b[1;32m-> 1560\u001b[1;33m             \u001b[1;32mraise\u001b[0m \u001b[0mKeyError\u001b[0m\u001b[1;33m(\u001b[0m\u001b[0mkey\u001b[0m\u001b[1;33m)\u001b[0m\u001b[1;33m\u001b[0m\u001b[1;33m\u001b[0m\u001b[0m\n\u001b[0m\u001b[0;32m   1561\u001b[0m \u001b[1;33m\u001b[0m\u001b[0m\n\u001b[0;32m   1562\u001b[0m         \u001b[1;31m# Check for duplicates\u001b[0m\u001b[1;33m\u001b[0m\u001b[1;33m\u001b[0m\u001b[1;33m\u001b[0m\u001b[0m\n",
      "\u001b[1;31mKeyError\u001b[0m: 'freq'"
     ]
    }
   ],
   "source": [
    "pos_tag_arr = wallstreet_v2['parts_of_speech']\n",
    "pos_dist = {}\n",
    "\n",
    "for text in pos_tag_arr:\n",
    "    for tag in text:\n",
    "        if tag[1] not in pos_dist:\n",
    "            pos_dist[tag[1]] = 1\n",
    "        else:\n",
    "            pos_dist[tag[1]] += 1\n",
    "\n",
    "pos_freq_df = pd.DataFrame.from_dict(pos_dist, orient='index').reset_index()\n",
    "pos_freq_df.columns = ['pos', 'freq']\n",
    "pos_freq_df.sort_values(by=['freq'], axis=1)#, inplace=True)"
   ]
  },
  {
   "cell_type": "code",
   "execution_count": null,
   "metadata": {},
   "outputs": [],
   "source": [
    "pos_freq_df.columns"
   ]
  },
  {
   "cell_type": "code",
   "execution_count": null,
   "metadata": {},
   "outputs": [],
   "source": [
    "fig, ax = plt.subplots(figsize=(20,7))\n",
    "\n",
    "ax = sns.barplot(x='pos', y='feq', data=pos_freq_df, palette='YlGnBu')\n",
    "ax.set_title('Parts of Speech Frequency', fontsize=22)\n",
    "ax.set_xlabel('Parts of Speech')\n",
    "ax.set_ylabel('Frequency')\n",
    "\n",
    "plt.tight_layout();"
   ]
  },
  {
   "cell_type": "code",
   "execution_count": null,
   "metadata": {},
   "outputs": [],
   "source": [
    "# pos_dist"
   ]
  },
  {
   "cell_type": "code",
   "execution_count": null,
   "metadata": {},
   "outputs": [],
   "source": []
  }
 ],
 "metadata": {
  "kernelspec": {
   "display_name": "Python 3",
   "language": "python",
   "name": "python3"
  },
  "language_info": {
   "codemirror_mode": {
    "name": "ipython",
    "version": 3
   },
   "file_extension": ".py",
   "mimetype": "text/x-python",
   "name": "python",
   "nbconvert_exporter": "python",
   "pygments_lexer": "ipython3",
   "version": "3.7.9"
  }
 },
 "nbformat": 4,
 "nbformat_minor": 4
}
