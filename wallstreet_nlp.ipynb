{
 "cells": [
  {
   "cell_type": "code",
   "execution_count": 1,
   "metadata": {},
   "outputs": [
    {
     "name": "stderr",
     "output_type": "stream",
     "text": [
      "[nltk_data] Downloading package wordnet to\n",
      "[nltk_data]     C:\\Users\\morga\\AppData\\Roaming\\nltk_data...\n",
      "[nltk_data]   Package wordnet is already up-to-date!\n"
     ]
    }
   ],
   "source": [
    "import pandas as pd\n",
    "import numpy as np\n",
    "\n",
    "import matplotlib.pyplot as plt\n",
    "import seaborn as sns\n",
    "%matplotlib inline\n",
    "\n",
    "import re\n",
    "import utils, nlp_utils\n",
    "from bs4 import BeautifulSoup\n",
    "\n",
    "import nltk\n",
    "from nltk.corpus import stopwords\n",
    "\n",
    "from datetime import datetime\n",
    "\n",
    "nltk.download('wordnet')\n",
    "\n",
    "from sklearn.feature_extraction.text import CountVectorizer\n",
    "from sklearn.decomposition import LatentDirichletAllocation"
   ]
  },
  {
   "cell_type": "markdown",
   "metadata": {},
   "source": [
    "# Topical Modeling - Wall Street Market"
   ]
  },
  {
   "cell_type": "markdown",
   "metadata": {},
   "source": [
    "## Data Processing"
   ]
  },
  {
   "cell_type": "code",
   "execution_count": 2,
   "metadata": {},
   "outputs": [],
   "source": [
    "wallstreet = pd.read_csv('data/wallstreet.csv')\n",
    "wall_nlp = wallstreet[['subforum', 'contentWithHTMLTag']].copy()"
   ]
  },
  {
   "cell_type": "code",
   "execution_count": 3,
   "metadata": {},
   "outputs": [],
   "source": [
    "wall_nlp['cleaned_content'] = wall_nlp['contentWithHTMLTag'].apply(lambda x: nlp_utils.clean_parse_text(x))\n",
    "wall_nlp['lemmatized_tokens'] = wall_nlp['contentWithHTMLTag'].apply(lambda x: nlp_utils.clean_tokenize_lemmatize(x))"
   ]
  },
  {
   "cell_type": "markdown",
   "metadata": {},
   "source": [
    "--- \n",
    "# LDA"
   ]
  },
  {
   "cell_type": "code",
   "execution_count": 12,
   "metadata": {},
   "outputs": [],
   "source": [
    "def convert_to_bow_and_fit_lda_model(text_dataset, max_feats, freq_thresh, n_topics, learning_method, max_iter, random_state=3):\n",
    "    '''\n",
    "    Convert text into a vector representation, i.e. Bag of Words.\n",
    "    \n",
    "    Args:\n",
    "        text_dataset(arr) : An array comprised of numerous texts.\n",
    "        max_feats (int) : Number of words to limit the bag-of-words.\n",
    "        freq-thresh (float) : Words that have a document frequency greater than the selected amount will be ignored.\n",
    "    Return:\n",
    "        text_transformed (arr) : Vectorized texted.\n",
    "    \n",
    "    '''\n",
    "    \n",
    "    vect = CountVectorizer(max_features=max_feats, max_df=freq_thresh)\n",
    "    text_transformed = vect.fit_transform(text_dataset)\n",
    "\n",
    "    lda = LatentDirichletAllocation(n_components=n_topics, learning_method=learning_method, max_iter=max_iter, random_state=random_state, n_jobs=-1)\n",
    "    doc_topics = lda.fit_transform(text_transformed)\n",
    "    \n",
    "    return doc_topics, lda, vect\n",
    "    \n",
    "#def summarize_lca_topics(lda_model)\n",
    "    "
   ]
  },
  {
   "cell_type": "code",
   "execution_count": null,
   "metadata": {},
   "outputs": [],
   "source": []
  },
  {
   "cell_type": "code",
   "execution_count": 13,
   "metadata": {},
   "outputs": [],
   "source": [
    "cleaned_content = wall_nlp['cleaned_content'].values\n",
    "doc_topics, lda_model, vect = vectorize_data_and_fit_lda_model(cleaned_content, 10000, 0.15, 10, 'batch', 25, 3)\n",
    "\n",
    "sorted_components = np.argsort(lda_model.components_, axis=1)[:, ::-1]\n",
    "feat_names = np.array(vect.get_feature_names())"
   ]
  },
  {
   "cell_type": "code",
   "execution_count": 28,
   "metadata": {},
   "outputs": [],
   "source": [
    "def print_topics(model, count_vectorizer, n_top_words):\n",
    "    words = count_vectorizer.get_feature_names()\n",
    "    for topic_idx, topic in enumerate(model.components_):\n",
    "        top_words_arr = [words[i] for i in topic.argsort()[:-n_top_words - 1:-1]]\n",
    "        print(\"\\nTopic #{}:\".format(topic_idx))\n",
    "        print(\" \".join(top_words_arr))"
   ]
  },
  {
   "cell_type": "code",
   "execution_count": 30,
   "metadata": {},
   "outputs": [
    {
     "name": "stdout",
     "output_type": "stream",
     "text": [
      "\n",
      "Topic #0:\n",
      "contact please allowed need external here am how pm any\n",
      "\n",
      "Topic #1:\n",
      "use store key using card infodesk infodesksorcvsgq leaguemodegrams 9a7ae0b905 address\n",
      "\n",
      "Topic #2:\n",
      "chat day room bank one cashout fraud wallst3gi4a5wtn4 log change\n",
      "\n",
      "Topic #3:\n",
      "bank account credit card need fullz accounts uk drop cards\n",
      "\n",
      "Topic #4:\n",
      "he they as like was what some there about know\n",
      "\n",
      "Topic #5:\n",
      "cashout bank guides 10 records ssn link extras expectus fraud\n",
      "\n",
      "Topic #6:\n",
      "wallst4qihu6lvsa up new good thanks code re boneskoopa code48k see\n",
      "\n",
      "Topic #7:\n",
      "we our pgp quality an begin hash weed high signature\n",
      "\n",
      "Topic #8:\n",
      "order we use as was now at mirror when they\n",
      "\n",
      "Topic #9:\n",
      "id php x7bwsmcore5fmx56 viewtopic ref signup rules phished dreadditevelidot 14060don\n"
     ]
    }
   ],
   "source": [
    "print_topics(lda_model, vect, 10)"
   ]
  },
  {
   "cell_type": "code",
   "execution_count": 25,
   "metadata": {},
   "outputs": [
    {
     "data": {
      "text/plain": [
       "10000"
      ]
     },
     "execution_count": 25,
     "metadata": {},
     "output_type": "execute_result"
    }
   ],
   "source": [
    "len(lda_model.components_[0])"
   ]
  }
 ],
 "metadata": {
  "kernelspec": {
   "display_name": "Python 3",
   "language": "python",
   "name": "python3"
  },
  "language_info": {
   "codemirror_mode": {
    "name": "ipython",
    "version": 3
   },
   "file_extension": ".py",
   "mimetype": "text/x-python",
   "name": "python",
   "nbconvert_exporter": "python",
   "pygments_lexer": "ipython3",
   "version": "3.7.6"
  }
 },
 "nbformat": 4,
 "nbformat_minor": 4
}
