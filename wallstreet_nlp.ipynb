{
 "cells": [
  {
   "cell_type": "code",
   "execution_count": 1,
   "metadata": {},
   "outputs": [],
   "source": [
    "import pandas as pd\n",
    "import numpy as np\n",
    "\n",
    "import matplotlib.pyplot as plt\n",
    "import seaborn as sns\n",
    "%matplotlib inline\n",
    "\n",
    "import re\n",
    "from src import utils, nlp_utils\n",
    "from bs4 import BeautifulSoup\n",
    "\n",
    "import nltk\n",
    "from nltk.corpus import stopwords\n",
    "\n",
    "from datetime import datetime\n",
    "\n",
    "#nltk.download('wordnet')\n",
    "\n",
    "from sklearn.feature_extraction.text import CountVectorizer\n",
    "from sklearn.decomposition import LatentDirichletAllocation"
   ]
  },
  {
   "cell_type": "markdown",
   "metadata": {},
   "source": [
    "# Topical Modeling - Wall Street Market"
   ]
  },
  {
   "cell_type": "markdown",
   "metadata": {},
   "source": [
    "## Data Processing"
   ]
  },
  {
   "cell_type": "code",
   "execution_count": null,
   "metadata": {},
   "outputs": [],
   "source": [
    "# wallstreet = pd.read_csv('data/wallstreet.csv')\n",
    "# wall_nlp = wallstreet[['subforum', 'contentWithHTMLTag']].copy()"
   ]
  },
  {
   "cell_type": "code",
   "execution_count": null,
   "metadata": {},
   "outputs": [],
   "source": [
    "# wall_nlp['cleaned_content'] = wall_nlp['contentWithHTMLTag'].apply(lambda x: nlp_utils.clean_parse_text(x))\n",
    "# wall_nlp['lemmatized_tokens'] = wall_nlp['contentWithHTMLTag'].apply(lambda x: nlp_utils.clean_tokenize_lemmatize(x))"
   ]
  },
  {
   "cell_type": "code",
   "execution_count": null,
   "metadata": {},
   "outputs": [],
   "source": [
    "# wall_nlp.to_csv('data/wall_nlp.csv', index=False)"
   ]
  },
  {
   "cell_type": "markdown",
   "metadata": {},
   "source": [
    "--- \n",
    "# LDA"
   ]
  },
  {
   "cell_type": "code",
   "execution_count": null,
   "metadata": {},
   "outputs": [],
   "source": []
  },
  {
   "cell_type": "code",
   "execution_count": 2,
   "metadata": {},
   "outputs": [],
   "source": [
    "wall_nlp = pd.read_csv('data/wall_nlp.csv')"
   ]
  },
  {
   "cell_type": "code",
   "execution_count": 6,
   "metadata": {},
   "outputs": [],
   "source": [
    "# Must be even for visualizations.\n",
    "n_topics = 20\n",
    "\n",
    "cleaned_content = wall_nlp['lemmatized_tokens'].values\n",
    "doc_topics, lda_model, vect = nlp_utils.convert_to_bow_and_fit_lda_model(cleaned_content, 10000, 0.15, n_topics, 'batch', 25, 3)\n",
    "\n",
    "sorted_components = np.argsort(lda_model.components_, axis=1)[:, ::-1]\n",
    "feat_names = np.array(vect.get_feature_names())"
   ]
  },
  {
   "cell_type": "code",
   "execution_count": 8,
   "metadata": {},
   "outputs": [
    {
     "name": "stdout",
     "output_type": "stream",
     "text": [
      "\n",
      "Topic #0:\n",
      "quality high weed product the price stealth best gram strain\n",
      "\n",
      "Topic #1:\n",
      "use key using tor file click user it system the\n",
      "\n",
      "Topic #2:\n",
      "signup ref com ai the this lchudifyeqm4ldjj 2271281763 71713http site\n",
      "\n",
      "Topic #3:\n",
      "contact allowed external link please read not the by rules\n",
      "\n",
      "Topic #4:\n",
      "card use need know method like would carding one make\n",
      "\n",
      "Topic #5:\n",
      "fullz bank italian selling account service vouch check wallst4qihu6lvsa card\n",
      "\n",
      "Topic #6:\n",
      "the fake quality high de interested original gold if shop\n",
      "\n",
      "Topic #7:\n",
      "we order quality shipping product price mdma new euro free\n",
      "\n",
      "Topic #8:\n",
      "cashout bank guides 10 ssn records link extras money new\n",
      "\n",
      "Topic #9:\n",
      "pgp begin signature mirror use message bump end store signed\n",
      "\n",
      "Topic #10:\n",
      "utopia the we refund order with to reship be kush\n",
      "\n",
      "Topic #11:\n",
      "the to and you free fullz for deal listing with\n",
      "\n",
      "Topic #12:\n",
      "order like know would time good one make day people\n",
      "\n",
      "Topic #13:\n",
      "you btc wallet bitcoin good address code know see work\n",
      "\n",
      "Topic #14:\n",
      "id php x7bwsmcore5fmx56 viewtopic rule signup ref phished dreadditevelidot 67406faq\n",
      "\n",
      "Topic #15:\n",
      "consider drugs ice arab sand nun smashed testicle eskimo card\n",
      "\n",
      "Topic #16:\n",
      "chat room log day bank cashout one wallst3gi4a5wtn4 fraud can\n",
      "\n",
      "Topic #17:\n",
      "account buy paypal need cc credit name address number scan\n",
      "\n",
      "Topic #18:\n",
      "message thanks please key send pm hi need hello thank\n",
      "\n",
      "Topic #19:\n",
      "bank drop transfer credit card paypal account us money debit\n"
     ]
    }
   ],
   "source": [
    "nlp_utils.print_topics(lda_model, vect, 10)"
   ]
  },
  {
   "cell_type": "code",
   "execution_count": 10,
   "metadata": {},
   "outputs": [
    {
     "data": {
      "image/png": "[encoded data removed]",
      "text/plain": [
       "<Figure size 1080x576 with 2 Axes>"
      ]
     },
     "metadata": {
      "needs_background": "light"
     },
     "output_type": "display_data"
    }
   ],
   "source": [
    "# Evaluate each topics (components) overall weight.\n",
    "# Topics are named by the two most common words.\n",
    "\n",
    "topics_per_plot = int(n_topics / 2)\n",
    "barh_xlim = 2000\n",
    "plot_pad = 100\n",
    "fig_size = (15,8)\n",
    "fig, ax = plt.subplots(1, 2, figsize=fig_size)\n",
    "\n",
    "topic_names = ['{} {}'.format(i, ' '.join(words)) for i, words in enumerate(feat_names[sorted_components[:, :2]])]\n",
    "\n",
    "for col in [0, 1]:\n",
    "    start = col * topics_per_plot\n",
    "    end = (col + 1) * topics_per_plot\n",
    "    plot_width = np.sum(doc_topics, axis=0)[start:end]\n",
    "    ax[col].barh(np.arange(topics_per_plot), plot_width)\n",
    "    ax[col].set_yticks(np.arange(topics_per_plot))\n",
    "    ax[col].set_yticklabels(topic_names[start:end], ha='left', va='top')\n",
    "    ax[col].invert_yaxis()\n",
    "    ax[col].set_xlim(0, barh_xlim)\n",
    "    y_ax = ax[col].get_yaxis()\n",
    "    y_ax.set_tick_params(pad=plot_pad)\n",
    "\n",
    "plt.tight_layout();"
   ]
  },
  {
   "cell_type": "code",
   "execution_count": null,
   "metadata": {},
   "outputs": [],
   "source": []
  }
 ],
 "metadata": {
  "kernelspec": {
   "display_name": "Python 3",
   "language": "python",
   "name": "python3"
  },
  "language_info": {
   "codemirror_mode": {
    "name": "ipython",
    "version": 3
   },
   "file_extension": ".py",
   "mimetype": "text/x-python",
   "name": "python",
   "nbconvert_exporter": "python",
   "pygments_lexer": "ipython3",
   "version": "3.7.6"
  }
 },
 "nbformat": 4,
 "nbformat_minor": 4
}
