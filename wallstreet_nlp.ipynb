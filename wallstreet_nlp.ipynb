{
 "cells": [
  {
   "cell_type": "code",
   "execution_count": 1,
   "metadata": {},
   "outputs": [
    {
     "name": "stderr",
     "output_type": "stream",
     "text": [
      "[nltk_data] Downloading package wordnet to\n",
      "[nltk_data]     C:\\Users\\morga\\AppData\\Roaming\\nltk_data...\n",
      "[nltk_data]   Package wordnet is already up-to-date!\n"
     ]
    }
   ],
   "source": [
    "import pandas as pd\n",
    "import numpy as np\n",
    "\n",
    "import matplotlib.pyplot as plt\n",
    "import seaborn as sns\n",
    "%matplotlib inline\n",
    "\n",
    "import re\n",
    "from src import utils, nlp_utils\n",
    "from bs4 import BeautifulSoup\n",
    "\n",
    "import nltk\n",
    "from nltk.corpus import stopwords\n",
    "\n",
    "from datetime import datetime\n",
    "\n",
    "#nltk.download('wordnet')\n",
    "\n",
    "from sklearn.feature_extraction.text import CountVectorizer\n",
    "from sklearn.decomposition import LatentDirichletAllocation"
   ]
  },
  {
   "cell_type": "markdown",
   "metadata": {},
   "source": [
    "# Topical Modeling - Wall Street Market"
   ]
  },
  {
   "cell_type": "markdown",
   "metadata": {},
   "source": [
    "## Data Processing"
   ]
  },
  {
   "cell_type": "code",
   "execution_count": 2,
   "metadata": {},
   "outputs": [],
   "source": [
    "wallstreet = pd.read_csv('data/wallstreet.csv')\n",
    "wall_nlp = wallstreet[['subforum', 'contentWithHTMLTag']].copy()"
   ]
  },
  {
   "cell_type": "code",
   "execution_count": 3,
   "metadata": {},
   "outputs": [],
   "source": [
    "wall_nlp['cleaned_content'] = wall_nlp['contentWithHTMLTag'].apply(lambda x: nlp_utils.clean_parse_text(x))\n",
    "wall_nlp['lemmatized_tokens'] = wall_nlp['contentWithHTMLTag'].apply(lambda x: nlp_utils.clean_tokenize_lemmatize(x))"
   ]
  },
  {
   "cell_type": "code",
   "execution_count": 4,
   "metadata": {},
   "outputs": [],
   "source": [
    "wall_nlp.to_csv('data/wall_nlp.csv', index=False)"
   ]
  },
  {
   "cell_type": "markdown",
   "metadata": {},
   "source": [
    "--- \n",
    "# LDA"
   ]
  },
  {
   "cell_type": "code",
   "execution_count": null,
   "metadata": {},
   "outputs": [],
   "source": [
    "def convert_to_bow_and_fit_lda_model(text_dataset, max_feats, freq_thresh, n_topics, learning_method, max_iter, random_state=3):\n",
    "    '''\n",
    "    Convert text into a vector representation, i.e. Bag of Words.\n",
    "    \n",
    "    Args:\n",
    "        text_dataset(arr) : An array comprised of numerous texts.\n",
    "        max_feats (int) : Number of words to limit the bag-of-words.\n",
    "        freq-thresh (float) : Words that have a document frequency greater than the selected amount will be ignored.\n",
    "    Return:\n",
    "        text_transformed (arr) : Vectorized texted.\n",
    "    \n",
    "    '''\n",
    "    \n",
    "    vect = CountVectorizer(max_features=max_feats, max_df=freq_thresh)\n",
    "    text_transformed = vect.fit_transform(text_dataset)\n",
    "\n",
    "    lda = LatentDirichletAllocation(n_components=n_topics, learning_method=learning_method, max_iter=max_iter, random_state=random_state, n_jobs=-1)\n",
    "    doc_topics = lda.fit_transform(text_transformed)\n",
    "    \n",
    "    return doc_topics, lda, vect\n",
    "    \n",
    "#def summarize_lca_topics(lda_model)\n",
    "    "
   ]
  },
  {
   "cell_type": "code",
   "execution_count": null,
   "metadata": {},
   "outputs": [],
   "source": [
    "wall_nlp = pd.read_csv('data/wall_nlp.csv')"
   ]
  },
  {
   "cell_type": "code",
   "execution_count": null,
   "metadata": {},
   "outputs": [],
   "source": [
    "# Must be even for visualizations.\n",
    "n_topics = 10\n",
    "\n",
    "cleaned_content = wall_nlp['cleaned_content'].values\n",
    "doc_topics, lda_model, vect = nlp_utils.convert_to_bow_and_fit_lda_model(cleaned_content, 10000, 0.15, n_topics, 'batch', 25, 3)\n",
    "\n",
    "sorted_components = np.argsort(lda_model.components_, axis=1)[:, ::-1]\n",
    "feat_names = np.array(vect.get_feature_names())"
   ]
  },
  {
   "cell_type": "code",
   "execution_count": null,
   "metadata": {},
   "outputs": [],
   "source": [
    "def print_topics(model, count_vectorizer, n_top_words):\n",
    "    words = count_vectorizer.get_feature_names()\n",
    "    for topic_idx, topic in enumerate(model.components_):\n",
    "        top_words_arr = [words[i] for i in topic.argsort()[:-n_top_words - 1:-1]]\n",
    "        print(\"\\nTopic #{}:\".format(topic_idx))\n",
    "        print(\" \".join(top_words_arr))"
   ]
  },
  {
   "cell_type": "code",
   "execution_count": null,
   "metadata": {},
   "outputs": [],
   "source": [
    "nlp_utils.print_topics(lda_model, vect, 10)"
   ]
  },
  {
   "cell_type": "code",
   "execution_count": null,
   "metadata": {},
   "outputs": [],
   "source": [
    "len(lda_model.components_[0])"
   ]
  },
  {
   "cell_type": "code",
   "execution_count": null,
   "metadata": {},
   "outputs": [],
   "source": [
    "# Evaluate each topics (components) overall weight.\n",
    "# Topics are name by the two most common words.\n",
    "\n",
    "topics_per_plot = int(n_topics / 2)\n",
    "barh_xlim = 2000\n",
    "plot_pad = 100\n",
    "fig, ax = plt.subplots(1, 2 figsize=(10, 10))\n",
    "\n",
    "topic_names = ['{} {}'.format(i, ' '.join(words)) for i, words in enumerate(feat_names[sorted_components[:, :2]])]\n",
    "\n",
    "for col in [0, 1]:\n",
    "    start = col * topics_per_plot\n",
    "    end = (col + 1) * topics_per_plot\n",
    "    plot_width = np.sum(doc_topics, axis=0)[start:end]\n",
    "    ax[col].barh(np.arange(topics_per_plot), plot_width)\n",
    "    ax[col].set_yticks(np.arange(topics_per_plot))\n",
    "    ax[col].set_yticklabels(topic_names[start:end], ha='left', va='top')\n",
    "    ax[col].invert_yaxis()\n",
    "    ax[col].set_xlim(0, barh_xlim)\n",
    "    y_ax = ax[col].get_yaxis()\n",
    "    y_ax.set_tick_params(pad=plot_pad)\n",
    "\n",
    "plt.tight_layout();"
   ]
  },
  {
   "cell_type": "code",
   "execution_count": null,
   "metadata": {},
   "outputs": [],
   "source": []
  }
 ],
 "metadata": {
  "kernelspec": {
   "display_name": "Python 3",
   "language": "python",
   "name": "python3"
  },
  "language_info": {
   "codemirror_mode": {
    "name": "ipython",
    "version": 3
   },
   "file_extension": ".py",
   "mimetype": "text/x-python",
   "name": "python",
   "nbconvert_exporter": "python",
   "pygments_lexer": "ipython3",
   "version": "3.7.6"
  }
 },
 "nbformat": 4,
 "nbformat_minor": 4
}
