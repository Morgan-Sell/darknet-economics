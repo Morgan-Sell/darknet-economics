{
 "cells": [
  {
   "cell_type": "code",
   "execution_count": 17,
   "metadata": {},
   "outputs": [],
   "source": [
    "import pandas as pd\n",
    "import numpy as np\n",
    "\n",
    "from sklearn.cluster import KMeans\n",
    "from sklearn.feature_extraction.text import TfidfVectorizer\n",
    "from sklearn.decomposition import PCA, TruncatedSVD\n",
    "from sklearn.preprocessing import normalize\n",
    "from sklearn.metrics import pairwise_distances\n",
    "\n",
    "from scipy.spatial.distance import cdist\n",
    "\n",
    "import nltk\n",
    "import string\n",
    "\n",
    "import matplotlib.pyplot as plt\n",
    "import seaborn as sns\n",
    "%matplotlib inline\n",
    "\n",
    "from src import nlp_topic_utils"
   ]
  },
  {
   "cell_type": "markdown",
   "metadata": {},
   "source": [
    "# Wall Street Forum Topic Modeling"
   ]
  },
  {
   "cell_type": "markdown",
   "metadata": {},
   "source": [
    "## Data Import and Tf-Idf Vectorization"
   ]
  },
  {
   "cell_type": "code",
   "execution_count": 4,
   "metadata": {},
   "outputs": [],
   "source": [
    "wallstreet = pd.read_csv('data/wallstreet_master.csv', engine='python')"
   ]
  },
  {
   "cell_type": "code",
   "execution_count": 10,
   "metadata": {},
   "outputs": [],
   "source": [
    "docs_raw = wallstreet['processed_text']\n",
    "n_topics = 20\n",
    "max_doc_freq = 0.7\n",
    "min_doc_freq = 4\n",
    "max_features = 10000\n",
    "ngram_rng = [1, 2]\n",
    "max_iterations = 25\n",
    "random_state=3"
   ]
  },
  {
   "cell_type": "code",
   "execution_count": 11,
   "metadata": {},
   "outputs": [],
   "source": [
    "docs_vectorized, vectorizer = nlp_topic_utils.tfidf_vectorizer(docs_raw, min_doc_freq, max_doc_freq, max_features, ngram_rng)"
   ]
  },
  {
   "cell_type": "markdown",
   "metadata": {},
   "source": [
    "## TruncatedSVD"
   ]
  },
  {
   "cell_type": "code",
   "execution_count": null,
   "metadata": {},
   "outputs": [],
   "source": [
    "def select_tsvd_num_components(var_ratio, var_explained_threshold):\n",
    "    '''\n",
    "    Determines the number of components required for TruncatedSVD to achieve the threshold of variance explained.\n",
    "    '''\n",
    "    total_var = 0\n",
    "    n_components = 0\n",
    "    \n",
    "    for explained_var in var_ratio:\n",
    "        total_var += explained_var\n",
    "        n_components += 1\n",
    "        \n",
    "        if total_var >= goal_var:\n",
    "            break\n",
    "    \n",
    "    return n_components"
   ]
  },
  {
   "cell_type": "code",
   "execution_count": 14,
   "metadata": {},
   "outputs": [],
   "source": [
    "tsvd = TruncatedSVD(n_components=docs_vectorized.shape[1]-1)\n",
    "docs_tsvd = tsvd.fit(docs_vectorized)"
   ]
  },
  {
   "cell_type": "code",
   "execution_count": 13,
   "metadata": {},
   "outputs": [],
   "source": [
    "var_explained_threshold = 0.90\n",
    "\n",
    "tsvd_var_ratios = tsvd.explained_variance_ratio_\n",
    "tsvd_num_components = select_tsvd_num_components(tsvd_var_ratios, var_explained_threshold)"
   ]
  },
  {
   "cell_type": "code",
   "execution_count": 16,
   "metadata": {},
   "outputs": [
    {
     "ename": "NameError",
     "evalue": "name 'tsvd_num_components' is not defined",
     "output_type": "error",
     "traceback": [
      "\u001b[0;31m---------------------------------------------------------------------------\u001b[0m",
      "\u001b[0;31mNameError\u001b[0m                                 Traceback (most recent call last)",
      "\u001b[0;32m<ipython-input-16-5a4aaf4aa138>\u001b[0m in \u001b[0;36m<module>\u001b[0;34m\u001b[0m\n\u001b[0;32m----> 1\u001b[0;31m \u001b[0mtsvd\u001b[0m \u001b[0;34m=\u001b[0m \u001b[0mTruncatedSVD\u001b[0m\u001b[0;34m(\u001b[0m\u001b[0mn_components\u001b[0m\u001b[0;34m=\u001b[0m\u001b[0mtsvd_num_components\u001b[0m\u001b[0;34m,\u001b[0m \u001b[0mrandom_state\u001b[0m\u001b[0;34m=\u001b[0m\u001b[0mrandom_state\u001b[0m\u001b[0;34m)\u001b[0m\u001b[0;34m\u001b[0m\u001b[0;34m\u001b[0m\u001b[0m\n\u001b[0m",
      "\u001b[0;31mNameError\u001b[0m: name 'tsvd_num_components' is not defined"
     ]
    }
   ],
   "source": [
    "tsvd = TruncatedSVD(n_components=tsvd_num_components, random_state=random_state)\n",
    "docs_tsvd = tsvd.fit_transform(docs_vectorized)"
   ]
  },
  {
   "cell_type": "markdown",
   "metadata": {},
   "source": [
    "---\n",
    "## K-Means"
   ]
  },
  {
   "cell_type": "code",
   "execution_count": null,
   "metadata": {},
   "outputs": [],
   "source": [
    "# Identify number of cluseters using the \"Elbow\" method\n",
    "\n",
    "# distortion is the average of the squared distances from the cluster centers of the respective clusters.\n",
    "distortions = []\n",
    "distortion_map = {}\n",
    "\n",
    "# Inertia is the sum of squared distances of samples to their closest cluster center\n",
    "inertias = []\n",
    "inertia_map = {}\n",
    "\n",
    "k_rng = np.arange(2, 30, 2)\n",
    "\n",
    "for k in k_rng:\n",
    "    kmeans = KMeans(n_clusters=k, init='k-means++').fit(docs_tsvd)\n",
    "    pred = kmeans.predict(docs_tsvd)\n",
    "    centroids = kmeans.cluster_centers_\n",
    "    \n",
    "    d = sum(np.min(cdist(docs_vectorized, centroids, metric='euclidean'), axis=1)) / docs_tsvd.shape[0]\n",
    "    distortions.append(d)\n",
    "    distortion_map[k] = d\n",
    "    \n",
    "    inertias.append(kmeans.inertia_)\n",
    "    inertia_map[k] = kmeans.inertia_\n",
    "    \n",
    "fig, ax = plt.subplots(nrows=2, ncols=1, figsize=(6,8))\n",
    "\n",
    "ax[0].plot(k_rng, distortions, linewidth=2)\n",
    "ax[0].set_xlabel('# of Clusters')\n",
    "ax[0].set_ylabel('Avg. of Squared Errors')\n",
    "\n",
    "ax[1].plot(k_rng, inertias, linewidth=2)\n",
    "ax[1].set_xlabel('# of Clusters')\n",
    "ax[1].set_ylabel('Sum of Squared Errors')\n",
    "    \n"
   ]
  },
  {
   "cell_type": "code",
   "execution_count": null,
   "metadata": {},
   "outputs": [],
   "source": [
    "# Instiate KMeans model object.\n",
    "\n",
    "k = 20\n",
    "kmeans = KMeans(n_clusters=k, random_state=random_state)\n",
    "kmeans.fit(docs_tsvd)"
   ]
  },
  {
   "cell_type": "code",
   "execution_count": null,
   "metadata": {},
   "outputs": [],
   "source": []
  },
  {
   "cell_type": "code",
   "execution_count": null,
   "metadata": {},
   "outputs": [],
   "source": [
    "clusters = kmeans.labels_\n",
    "k_clusters_centers = kmeans.cluster_centers_\n",
    "original_space_centroids = tsvd.inverse_transform(k_clusters_centers)\n",
    "# argsort() returns the indices of the sorted values.\n",
    "ordered_centroids = original_space_centroids.argsort()[:, ::-1]"
   ]
  },
  {
   "cell_type": "code",
   "execution_count": null,
   "metadata": {},
   "outputs": [],
   "source": [
    "words = vectorizer.get_feature_names\n",
    "for topic_idx, topic in enumerate():\n",
    "        top_words_arr = [words[i] for i in order_centroids[topic_idx, : n_top_words]]\n",
    "        print(\"\\nCluster #{}:\".format(topic_idx))\n",
    "        print(\" \".join(top_words_arr))"
   ]
  }
 ],
 "metadata": {
  "kernelspec": {
   "display_name": "conda_python3",
   "language": "python",
   "name": "conda_python3"
  },
  "language_info": {
   "codemirror_mode": {
    "name": "ipython",
    "version": 3
   },
   "file_extension": ".py",
   "mimetype": "text/x-python",
   "name": "python",
   "nbconvert_exporter": "python",
   "pygments_lexer": "ipython3",
   "version": "3.6.10"
  }
 },
 "nbformat": 4,
 "nbformat_minor": 4
}
