{
 "cells": [
  {
   "cell_type": "code",
   "execution_count": null,
   "metadata": {},
   "outputs": [],
   "source": [
    " >>> nltk.download('stopwords')"
   ]
  },
  {
   "cell_type": "code",
   "execution_count": 4,
   "metadata": {},
   "outputs": [
    {
     "name": "stderr",
     "output_type": "stream",
     "text": [
      "[nltk_data] Downloading package stopwords to\n",
      "[nltk_data]     /home/ec2-user/nltk_data...\n",
      "[nltk_data]   Package stopwords is already up-to-date!\n",
      "[nltk_data] Downloading package wordnet to /home/ec2-user/nltk_data...\n",
      "[nltk_data]   Package wordnet is already up-to-date!\n"
     ]
    }
   ],
   "source": [
    "import pandas as pd\n",
    "import numpy as np\n",
    "\n",
    "from sklearn.cluster import KMeans\n",
    "from sklearn.feature_extraction.text import TfidfVectorizer\n",
    "from sklearn.decomposition import PCA, TruncatedSVD\n",
    "from sklearn.preprocessing import normalize\n",
    "from sklearn.metrics import pairwise_distances\n",
    "\n",
    "from scipy.spatial.distance import cdist\n",
    "\n",
    "import nltk\n",
    "import string\n",
    "# nltk.download('stopwords')\n",
    "# nltk.download('wordnet')\n",
    "\n",
    "import matplotlib.pyplot as plt\n",
    "import seaborn as sns\n",
    "%matplotlib inline\n",
    "\n",
    "from src import nlp_topic_utils\n",
    "from src.process_text_variables import contracted_words_dict, stop_words_dict, punc \n",
    "\n",
    "from joblib import parallel_backend\n",
    "\n",
    "import dask.array as da"
   ]
  },
  {
   "cell_type": "markdown",
   "metadata": {},
   "source": [
    "# Wall Street Forum Topic Modeling"
   ]
  },
  {
   "cell_type": "markdown",
   "metadata": {},
   "source": [
    "## Data Import and Tf-Idf Vectorization"
   ]
  },
  {
   "cell_type": "code",
   "execution_count": 5,
   "metadata": {},
   "outputs": [],
   "source": [
    "wallstreet = pd.read_csv('data/wallstreet_master.csv', engine='python')\n",
    "wallstreet['lemmatized_tokens'] = wallstreet['contentWithHTMLTag'].apply(lambda x: nlp_topic_utils.process_text(x, contracted_words_dict, punc, stop_words_dict, min_len=1))\n",
    "docs_raw = [' '.join(d) for d in wallstreet['lemmatized_tokens']]"
   ]
  },
  {
   "cell_type": "code",
   "execution_count": 6,
   "metadata": {},
   "outputs": [],
   "source": [
    "n_topics = 20\n",
    "max_doc_freq = 0.7\n",
    "min_doc_freq = 4\n",
    "max_features = 10000\n",
    "ngram_rng = [1, 2]\n",
    "max_iterations = 25\n",
    "random_state=3\n",
    "min_len = 1"
   ]
  },
  {
   "cell_type": "code",
   "execution_count": 7,
   "metadata": {},
   "outputs": [],
   "source": [
    "docs_vectorized, vectorizer = nlp_topic_utils.tfidf_vectorizer(docs_raw, min_doc_freq, max_doc_freq, max_features, ngram_rng)"
   ]
  },
  {
   "cell_type": "markdown",
   "metadata": {},
   "source": [
    "## TruncatedSVD"
   ]
  },
  {
   "cell_type": "code",
   "execution_count": null,
   "metadata": {},
   "outputs": [],
   "source": [
    "type(docs_vectorized)"
   ]
  },
  {
   "cell_type": "code",
   "execution_count": 10,
   "metadata": {},
   "outputs": [],
   "source": [
    "docs_dask_arr = da.from_array(docs_vectorized, chunks='auto', asarray=True)"
   ]
  },
  {
   "cell_type": "code",
   "execution_count": 12,
   "metadata": {},
   "outputs": [
    {
     "data": {
      "text/plain": [
       "(45372, 10000)"
      ]
     },
     "execution_count": 12,
     "metadata": {},
     "output_type": "execute_result"
    }
   ],
   "source": [
    "docs_dask_arr.shape"
   ]
  },
  {
   "cell_type": "code",
   "execution_count": 8,
   "metadata": {},
   "outputs": [],
   "source": [
    "def select_tsvd_num_components(var_ratio, var_explained_threshold):\n",
    "    '''\n",
    "    Determines the number of components required for TruncatedSVD to achieve the threshold of variance explained.\n",
    "    '''\n",
    "    total_var = 0\n",
    "    n_components = 0\n",
    "    \n",
    "    for explained_var in var_ratio:\n",
    "        total_var += explained_var\n",
    "        n_components += 1\n",
    "        \n",
    "        if total_var >= goal_var:\n",
    "            break\n",
    "    \n",
    "    return n_components"
   ]
  },
  {
   "cell_type": "code",
   "execution_count": 13,
   "metadata": {},
   "outputs": [
    {
     "data": {
      "text/plain": [
       "(45372, 10000)"
      ]
     },
     "execution_count": 13,
     "metadata": {},
     "output_type": "execute_result"
    }
   ],
   "source": [
    "docs_dask_arr.shape"
   ]
  },
  {
   "cell_type": "code",
   "execution_count": 15,
   "metadata": {},
   "outputs": [],
   "source": [
    "#with parallel_backend('threading', n_jobs=-1):\n",
    "tsvd = TruncatedSVD(n_components=docs_dask_arr.shape[1]-1)\n",
    "docs_tsvd = tsvd.fit(docs_vectorized)"
   ]
  },
  {
   "cell_type": "code",
   "execution_count": null,
   "metadata": {},
   "outputs": [],
   "source": [
    "# Identify the required number of components to achieve the desired threshold of variance explained.\n",
    "var_explained_threshold = 0.90\n",
    "\n",
    "tsvd_var_ratios = tsvd.explained_variance_ratio_\n",
    "tsvd_num_components = select_tsvd_num_components(tsvd_var_ratios, var_explained_threshold)"
   ]
  },
  {
   "cell_type": "code",
   "execution_count": 9,
   "metadata": {},
   "outputs": [
    {
     "ename": "NameError",
     "evalue": "name 'tsvd_num_components' is not defined",
     "output_type": "error",
     "traceback": [
      "\u001b[0;31m---------------------------------------------------------------------------\u001b[0m",
      "\u001b[0;31mNameError\u001b[0m                                 Traceback (most recent call last)",
      "\u001b[0;32m<ipython-input-9-aaf1e61bce82>\u001b[0m in \u001b[0;36m<module>\u001b[0;34m\u001b[0m\n\u001b[1;32m      1\u001b[0m \u001b[0;31m# with parallel_backend('threading', n_jobs=-1):\u001b[0m\u001b[0;34m\u001b[0m\u001b[0;34m\u001b[0m\u001b[0;34m\u001b[0m\u001b[0m\n\u001b[0;32m----> 2\u001b[0;31m \u001b[0mtsvd\u001b[0m \u001b[0;34m=\u001b[0m \u001b[0mTruncatedSVD\u001b[0m\u001b[0;34m(\u001b[0m\u001b[0mn_components\u001b[0m\u001b[0;34m=\u001b[0m\u001b[0mtsvd_num_components\u001b[0m\u001b[0;34m,\u001b[0m \u001b[0mrandom_state\u001b[0m\u001b[0;34m=\u001b[0m\u001b[0mrandom_state\u001b[0m\u001b[0;34m)\u001b[0m\u001b[0;34m\u001b[0m\u001b[0;34m\u001b[0m\u001b[0m\n\u001b[0m\u001b[1;32m      3\u001b[0m \u001b[0mdocs_tsvd\u001b[0m \u001b[0;34m=\u001b[0m \u001b[0mtsvd\u001b[0m\u001b[0;34m.\u001b[0m\u001b[0mfit_transform\u001b[0m\u001b[0;34m(\u001b[0m\u001b[0mdocs_vectorized\u001b[0m\u001b[0;34m,\u001b[0m \u001b[0mn_jobs\u001b[0m\u001b[0;34m=\u001b[0m\u001b[0;34m-\u001b[0m\u001b[0;36m1\u001b[0m\u001b[0;34m)\u001b[0m\u001b[0;34m\u001b[0m\u001b[0;34m\u001b[0m\u001b[0m\n",
      "\u001b[0;31mNameError\u001b[0m: name 'tsvd_num_components' is not defined"
     ]
    }
   ],
   "source": [
    "# with parallel_backend('threading', n_jobs=-1):\n",
    "tsvd = TruncatedSVD(n_components=tsvd_num_components, random_state=random_state)\n",
    "docs_tsvd = tsvd.fit_transform(docs_vectorized)"
   ]
  },
  {
   "cell_type": "markdown",
   "metadata": {},
   "source": [
    "---\n",
    "## K-Means"
   ]
  },
  {
   "cell_type": "code",
   "execution_count": 20,
   "metadata": {},
   "outputs": [
    {
     "data": {
      "text/plain": [
       "array([[0., 0., 0., ..., 0., 0., 0.],\n",
       "       [0., 0., 0., ..., 0., 0., 0.],\n",
       "       [0., 0., 0., ..., 0., 0., 0.],\n",
       "       ...,\n",
       "       [0., 0., 0., ..., 0., 0., 0.],\n",
       "       [0., 0., 0., ..., 0., 0., 0.],\n",
       "       [0., 0., 0., ..., 0., 0., 0.]])"
      ]
     },
     "execution_count": 20,
     "metadata": {},
     "output_type": "execute_result"
    }
   ],
   "source": [
    "docs_vectorized.toarray()"
   ]
  },
  {
   "cell_type": "code",
   "execution_count": 21,
   "metadata": {},
   "outputs": [
    {
     "data": {
      "text/plain": [
       "Text(0, 0.5, 'Sum of Squared Errors')"
      ]
     },
     "execution_count": 21,
     "metadata": {},
     "output_type": "execute_result"
    },
    {
     "data": {
      "image/png": "[encoded data removed]",
      "text/plain": [
       "<Figure size 432x576 with 2 Axes>"
      ]
     },
     "metadata": {
      "needs_background": "light"
     },
     "output_type": "display_data"
    }
   ],
   "source": [
    "# Identify number of cluseters using the \"Elbow\" method\n",
    "\n",
    "# distortion is the average of the squared distances from the cluster centers of the respective clusters.\n",
    "distortions = []\n",
    "distortion_map = {}\n",
    "\n",
    "# Inertia is the sum of squared distances of samples to their closest cluster center\n",
    "inertias = []\n",
    "inertia_map = {}\n",
    "\n",
    "k_rng = np.arange(2, 30, 2)\n",
    "\n",
    "for k in k_rng:\n",
    "    kmeans = KMeans(n_clusters=k, init='k-means++').fit(docs_vectorized)\n",
    "    pred = kmeans.predict(docs_vectorized)\n",
    "    centroids = kmeans.cluster_centers_\n",
    "    \n",
    "    d = sum(np.min(cdist(docs_vectorized.toarray(), centroids, metric='euclidean'), axis=1)) / docs_vectorized.shape[0]\n",
    "    distortions.append(d)\n",
    "    distortion_map[k] = d\n",
    "    \n",
    "    inertias.append(kmeans.inertia_)\n",
    "    inertia_map[k] = kmeans.inertia_\n",
    "    \n",
    "fig, ax = plt.subplots(nrows=2, ncols=1, figsize=(6,8))\n",
    "\n",
    "ax[0].plot(k_rng, distortions, linewidth=2)\n",
    "ax[0].set_xlabel('# of Clusters')\n",
    "ax[0].set_ylabel('Avg. of Squared Errors')\n",
    "\n",
    "ax[1].plot(k_rng, inertias, linewidth=2)\n",
    "ax[1].set_xlabel('# of Clusters')\n",
    "ax[1].set_ylabel('Sum of Squared Errors')\n",
    "    \n"
   ]
  },
  {
   "cell_type": "code",
   "execution_count": 22,
   "metadata": {},
   "outputs": [
    {
     "data": {
      "text/plain": [
       "KMeans(n_clusters=18, random_state=3)"
      ]
     },
     "execution_count": 22,
     "metadata": {},
     "output_type": "execute_result"
    }
   ],
   "source": [
    "# Instiate KMeans model object.\n",
    "# Input k\n",
    "best_k = 18\n",
    "kmeans = KMeans(n_clusters=best_k, random_state=random_state)\n",
    "kmeans.fit(docs_vectorized)"
   ]
  },
  {
   "cell_type": "code",
   "execution_count": 27,
   "metadata": {},
   "outputs": [
    {
     "name": "stdout",
     "output_type": "stream",
     "text": [
      "(18, 10000)\n"
     ]
    }
   ],
   "source": [
    "print(k_clusters_centers.shape)"
   ]
  },
  {
   "cell_type": "code",
   "execution_count": 28,
   "metadata": {},
   "outputs": [],
   "source": [
    "clusters = kmeans.labels_\n",
    "k_clusters_centers = kmeans.cluster_centers_\n",
    "# original_space_centroids = tsvd.inverse_transform(k_clusters_centers)\n",
    "# argsort() returns the indices of the sorted values.\n",
    "ordered_centroids = k_clusters_centers.argsort()[:, ::-1]"
   ]
  },
  {
   "cell_type": "code",
   "execution_count": 37,
   "metadata": {},
   "outputs": [
    {
     "data": {
      "text/plain": [
       "(18, 10000)"
      ]
     },
     "execution_count": 37,
     "metadata": {},
     "output_type": "execute_result"
    }
   ],
   "source": [
    "k_clusters_centers.shape"
   ]
  },
  {
   "cell_type": "code",
   "execution_count": 39,
   "metadata": {},
   "outputs": [
    {
     "ename": "AttributeError",
     "evalue": "'function' object has no attribute 'shape'",
     "output_type": "error",
     "traceback": [
      "\u001b[0;31m---------------------------------------------------------------------------\u001b[0m",
      "\u001b[0;31mAttributeError\u001b[0m                            Traceback (most recent call last)",
      "\u001b[0;32m<ipython-input-39-95ed5c50e6d1>\u001b[0m in \u001b[0;36m<module>\u001b[0;34m\u001b[0m\n\u001b[0;32m----> 1\u001b[0;31m \u001b[0mwords\u001b[0m\u001b[0;34m.\u001b[0m\u001b[0mshape\u001b[0m\u001b[0;34m\u001b[0m\u001b[0;34m\u001b[0m\u001b[0m\n\u001b[0m",
      "\u001b[0;31mAttributeError\u001b[0m: 'function' object has no attribute 'shape'"
     ]
    }
   ],
   "source": [
    "words.shape"
   ]
  },
  {
   "cell_type": "code",
   "execution_count": 41,
   "metadata": {},
   "outputs": [
    {
     "name": "stdout",
     "output_type": "stream",
     "text": [
      "\n",
      "Cluster #0:\n",
      "market wrote thanks need store looking pm offer check good\n",
      "\n",
      "Cluster #1:\n",
      "external contact external contact allowed link allowed rule read contact link allowed read read rule\n",
      "\n",
      "Cluster #2:\n",
      "bump bump market market store store wsm store market wsm del market profile bonus\n",
      "\n",
      "Cluster #3:\n",
      "act rebellion deal unfree unfree free existence rebellion existence act become absolutely unfree world absolutely free world become\n",
      "\n",
      "Cluster #4:\n",
      "eskimo arab drug consider testicle eskimo sand sand arab testicle smashed ice eskimo smashed ice drug nun testicle\n",
      "\n",
      "Cluster #5:\n",
      "key pgp public key public pgp public key block block pgp key message begin\n",
      "\n",
      "Cluster #6:\n",
      "use mirror mirror onionshop onionshop mirror onionshop use use ghb sample good vendor\n",
      "\n",
      "Cluster #7:\n",
      "phished rule help phished wsm help phished rule help wsm broder wrote welcome\n",
      "\n",
      "Cluster #8:\n",
      "bank drop account bank drop paypal transfer need method cashout money\n",
      "\n",
      "Cluster #9:\n",
      "shoutouts dont break dabbingtimes hero shoutouts supermod boneskoopa know putting work break code see putting overdue code dabbingtimes\n",
      "\n",
      "Cluster #10:\n",
      "room chat room chat fraud chat log cashout day change change everythingcc everythingcc everythingcc bank cashout fraud\n",
      "\n",
      "Cluster #11:\n",
      "vendor order know wrote like good time one make card\n",
      "\n",
      "Cluster #12:\n",
      "profile bump wsm wsm profile bump wsm online vendor marketplace mastercard digit manual online marketplace po\n",
      "\n",
      "Cluster #13:\n",
      "italian italian bank service italian profile service rdps cc italian sim weed italian selling coke coke weed card rdps\n",
      "\n",
      "Cluster #14:\n",
      "cashout guide guide cashout bank record bank record ssn bank record cashout ssn offer link\n",
      "\n",
      "Cluster #15:\n",
      "profile kallashnikov quality stealth kallashnikov weed stealth rated black edition rated bestmarket kallashnikovregister bestmarket\n",
      "\n",
      "Cluster #16:\n",
      "interested suboxone adderall offer adderall suboxone interested take stock stock limited interested legit supply adderall\n",
      "\n",
      "Cluster #17:\n",
      "pgp pgp signature signature begin pgp begin message end pgp signed signed message end\n"
     ]
    }
   ],
   "source": [
    "n_top_words = 10\n",
    "words = vectorizer.get_feature_names()\n",
    "for topic_idx, topic in enumerate(k_clusters_centers):\n",
    "        top_words_arr = [words[i] for i in ordered_centroids[topic_idx, : n_top_words]]\n",
    "        print(\"\\nCluster #{}:\".format(topic_idx))\n",
    "        print(\" \".join(top_words_arr))"
   ]
  },
  {
   "cell_type": "code",
   "execution_count": null,
   "metadata": {},
   "outputs": [],
   "source": []
  }
 ],
 "metadata": {
  "kernelspec": {
   "display_name": "conda_python3",
   "language": "python",
   "name": "conda_python3"
  },
  "language_info": {
   "codemirror_mode": {
    "name": "ipython",
    "version": 3
   },
   "file_extension": ".py",
   "mimetype": "text/x-python",
   "name": "python",
   "nbconvert_exporter": "python",
   "pygments_lexer": "ipython3",
   "version": "3.6.10"
  }
 },
 "nbformat": 4,
 "nbformat_minor": 4
}
