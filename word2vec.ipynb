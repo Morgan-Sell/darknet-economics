{
 "cells": [
  {
   "cell_type": "code",
   "execution_count": 2,
   "metadata": {},
   "outputs": [
    {
     "name": "stdout",
     "output_type": "stream",
     "text": [
      "Collecting gensim\n",
      "  Downloading gensim-3.8.3-cp36-cp36m-manylinux1_x86_64.whl (24.2 MB)\n",
      "\u001b[K     |████████████████████████████████| 24.2 MB 179 kB/s eta 0:00:01\n",
      "\u001b[?25hRequirement already satisfied: six>=1.5.0 in /home/ec2-user/anaconda3/envs/python3/lib/python3.6/site-packages (from gensim) (1.14.0)\n",
      "Requirement already satisfied: scipy>=0.18.1 in /home/ec2-user/anaconda3/envs/python3/lib/python3.6/site-packages (from gensim) (1.4.1)\n",
      "Collecting smart-open>=1.8.1\n",
      "  Downloading smart_open-2.2.1.tar.gz (122 kB)\n",
      "\u001b[K     |████████████████████████████████| 122 kB 82.5 MB/s eta 0:00:01\n",
      "\u001b[?25hRequirement already satisfied: numpy>=1.11.3 in /home/ec2-user/anaconda3/envs/python3/lib/python3.6/site-packages (from gensim) (1.18.1)\n",
      "Requirement already satisfied: requests in /home/ec2-user/anaconda3/envs/python3/lib/python3.6/site-packages (from smart-open>=1.8.1->gensim) (2.23.0)\n",
      "Requirement already satisfied: boto3 in /home/ec2-user/anaconda3/envs/python3/lib/python3.6/site-packages (from smart-open>=1.8.1->gensim) (1.14.60)\n",
      "Requirement already satisfied: idna<3,>=2.5 in /home/ec2-user/anaconda3/envs/python3/lib/python3.6/site-packages (from requests->smart-open>=1.8.1->gensim) (2.9)\n",
      "Requirement already satisfied: urllib3!=1.25.0,!=1.25.1,<1.26,>=1.21.1 in /home/ec2-user/anaconda3/envs/python3/lib/python3.6/site-packages (from requests->smart-open>=1.8.1->gensim) (1.25.8)\n",
      "Requirement already satisfied: chardet<4,>=3.0.2 in /home/ec2-user/anaconda3/envs/python3/lib/python3.6/site-packages (from requests->smart-open>=1.8.1->gensim) (3.0.4)\n",
      "Requirement already satisfied: certifi>=2017.4.17 in /home/ec2-user/anaconda3/envs/python3/lib/python3.6/site-packages (from requests->smart-open>=1.8.1->gensim) (2020.6.20)\n",
      "Requirement already satisfied: s3transfer<0.4.0,>=0.3.0 in /home/ec2-user/anaconda3/envs/python3/lib/python3.6/site-packages (from boto3->smart-open>=1.8.1->gensim) (0.3.3)\n",
      "Requirement already satisfied: botocore<1.18.0,>=1.17.60 in /home/ec2-user/anaconda3/envs/python3/lib/python3.6/site-packages (from boto3->smart-open>=1.8.1->gensim) (1.17.60)\n",
      "Requirement already satisfied: jmespath<1.0.0,>=0.7.1 in /home/ec2-user/anaconda3/envs/python3/lib/python3.6/site-packages (from boto3->smart-open>=1.8.1->gensim) (0.9.4)\n",
      "Requirement already satisfied: python-dateutil<3.0.0,>=2.1 in /home/ec2-user/anaconda3/envs/python3/lib/python3.6/site-packages (from botocore<1.18.0,>=1.17.60->boto3->smart-open>=1.8.1->gensim) (2.8.1)\n",
      "Requirement already satisfied: docutils<0.16,>=0.10 in /home/ec2-user/anaconda3/envs/python3/lib/python3.6/site-packages (from botocore<1.18.0,>=1.17.60->boto3->smart-open>=1.8.1->gensim) (0.15.2)\n",
      "Building wheels for collected packages: smart-open\n",
      "  Building wheel for smart-open (setup.py) ... \u001b[?25ldone\n",
      "\u001b[?25h  Created wheel for smart-open: filename=smart_open-2.2.1-py3-none-any.whl size=114113 sha256=e4e7d76b0c21f9bd45f4548a75e3c9925260ae153c75183ba10c2de6c2a6e764\n",
      "  Stored in directory: /home/ec2-user/.cache/pip/wheels/12/6f/d1/6b06b392acb738f552f25dcfe0aac54a20ec854a20f55240aa\n",
      "Successfully built smart-open\n",
      "Installing collected packages: smart-open, gensim\n",
      "Successfully installed gensim-3.8.3 smart-open-2.2.1\n",
      "\u001b[33mWARNING: You are using pip version 20.0.2; however, version 20.2.3 is available.\n",
      "You should consider upgrading via the '/home/ec2-user/anaconda3/envs/python3/bin/python -m pip install --upgrade pip' command.\u001b[0m\n"
     ]
    }
   ],
   "source": [
    "!pip install --upgrade pip\n",
    "!pip install gensim"
   ]
  },
  {
   "cell_type": "code",
   "execution_count": 47,
   "metadata": {},
   "outputs": [],
   "source": [
    "import pandas as pd\n",
    "import numpy as np\n",
    "\n",
    "import matplotlib.pyplot as plt\n",
    "import seaborn as sns\n",
    "%matplotlib inline\n",
    "\n",
    "import re\n",
    "from src import utils, nmf_utils, nlp_topic_utils\n",
    "from bs4 import BeautifulSoup\n",
    "\n",
    "import nltk\n",
    "from nltk.corpus import stopwords\n",
    "from nltk.tokenize import TweetTokenizer\n",
    "import string\n",
    "\n",
    "from gensim.corpora.dictionary import Dictionary\n",
    "from gensim.models import Word2Vec\n",
    "\n",
    "from collections import Counter\n",
    "from operator import itemgetter\n",
    "import itertools\n",
    "\n",
    "from functools import reduce"
   ]
  },
  {
   "cell_type": "code",
   "execution_count": 50,
   "metadata": {},
   "outputs": [],
   "source": [
    "# nltk.download('wordnet')\n",
    "# nltk.download('stopwords')\n",
    "# nltk.download('averaged_perceptron_tagger')"
   ]
  },
  {
   "cell_type": "code",
   "execution_count": 51,
   "metadata": {},
   "outputs": [],
   "source": [
    "contracted_words_dict = {\n",
    "    \"ain't\": \"am not\",\n",
    "    \"aren't\": \"are not\",\n",
    "    \"can't\": \"cannot\",\n",
    "    \"can't've\": \"cannot have\",\n",
    "    \"'cause\": \"because\",\n",
    "    \"could've\": \"could have\",\n",
    "    \"couldn't\": \"could not\",\n",
    "    \"couldn't've\": \"could not have\",\n",
    "    \"didn't\": \"did not\",\n",
    "    \"doesn't\": \"does not\",\n",
    "    \"don't\": \"do not\",\n",
    "    \"hadn't\": \"had not\",\n",
    "    \"hadn't've\": \"had not have\",\n",
    "    \"hasn't\": \"has not\",\n",
    "    \"haven't\": \"have not\",\n",
    "    \"he'd\": \"he would\",\n",
    "    \"he'd've\": \"he would have\",\n",
    "    \"he'll\": \"he will\",\n",
    "    \"he'll've\": \"he will have\",\n",
    "    \"he's\": \"he is\",\n",
    "    \"how'd\": \"how did\",\n",
    "    \"how'd'y\": \"how do you\",\n",
    "    \"how'll\": \"how will\",\n",
    "    \"how's\": \"how is\",\n",
    "    \"i'd\": \"I would\",\n",
    "    \"i'd've\": \"I would have\",\n",
    "    \"i'll\": \"I will\",\n",
    "    \"i'll've\": \"I will have\",\n",
    "    \"i'm\": \"I am\",\n",
    "    \"i've\": \"I have\",\n",
    "    \"isn't\": \"is not\",\n",
    "    \"it'd\": \"it had\",\n",
    "    \"it'd've\": \"it would have\",\n",
    "    \"it'll\": \"it will\",\n",
    "    \"it'll've\": \"it will have\",\n",
    "    \"it's\": \"it is\",\n",
    "    \"let's\": \"let us\",\n",
    "    \"ma'am\": \"madam\",\n",
    "    \"mayn't\": \"may not\",\n",
    "    \"might've\": \"might have\",\n",
    "    \"mightn't\": \"might not\",\n",
    "    \"mightn't've\": \"might not have\",\n",
    "    \"must've\": \"must have\",\n",
    "    \"mustn't\": \"must not\",\n",
    "    \"mustn't've\": \"must not have\",\n",
    "    \"needn't\": \"need not\",\n",
    "    \"needn't've\": \"need not have\",\n",
    "    \"o'clock\": \"of the clock\",\n",
    "    \"oughtn't\": \"ought not\",\n",
    "    \"oughtn't've\": \"ought not have\",\n",
    "    \"shan't\": \"shall not\",\n",
    "    \"sha'n't\": \"shall not\",\n",
    "    \"shan't've\": \"shall not have\",\n",
    "    \"she'd\": \"she would\",\n",
    "    \"she'd've\": \"she would have\",\n",
    "    \"she'll\": \"she will\",\n",
    "    \"she'll've\": \"she will have\",\n",
    "    \"she's\": \"she is\",\n",
    "    \"should've\": \"should have\",\n",
    "    \"shouldn't\": \"should not\",\n",
    "    \"shouldn't've\": \"should not have\",\n",
    "    \"so've\": \"so have\",\n",
    "    \"so's\": \"so is\",\n",
    "    \"that'd\": \"that would\",\n",
    "    \"that'd've\": \"that would have\",\n",
    "    \"that's\": \"that is\",\n",
    "    \"there'd\": \"there had\",\n",
    "    \"there'd've\": \"there would have\",\n",
    "    \"there's\": \"there is\",\n",
    "    \"they'd\": \"they would\",\n",
    "    \"they'd've\": \"they would have\",\n",
    "    \"they'll\": \"they will\",\n",
    "    \"they'll've\": \"they will have\",\n",
    "    \"they're\": \"they are\",\n",
    "    \"they've\": \"they have\",\n",
    "    \"to've\": \"to have\",\n",
    "    \"wasn't\": \"was not\",\n",
    "    \"we'd\": \"we had\",\n",
    "    \"we'd've\": \"we would have\",\n",
    "    \"we'll\": \"we will\",\n",
    "    \"we'll've\": \"we will have\",\n",
    "    \"we're\": \"we are\",\n",
    "    \"we've\": \"we have\",\n",
    "    \"weren't\": \"were not\",\n",
    "    \"what'll\": \"what will\",\n",
    "    \"what'll've\": \"what will have\",\n",
    "    \"what're\": \"what are\",\n",
    "    \"what's\": \"what is\",\n",
    "    \"what've\": \"what have\",\n",
    "    \"when's\": \"when is\",\n",
    "    \"when've\": \"when have\",\n",
    "    \"where'd\": \"where did\",\n",
    "    \"where's\": \"where is\",\n",
    "    \"where've\": \"where have\",\n",
    "    \"who'll\": \"who will\",\n",
    "    \"who'll've\": \"who will have\",\n",
    "    \"who's\": \"who is\",\n",
    "    \"who've\": \"who have\",\n",
    "    \"why's\": \"why is\",\n",
    "    \"why've\": \"why have\",\n",
    "    \"will've\": \"will have\",\n",
    "    \"won't\": \"will not\",\n",
    "    \"won't've\": \"will not have\",\n",
    "    \"would've\": \"would have\",\n",
    "    \"wouldn't\": \"would not\",\n",
    "    \"wouldn't've\": \"would not have\",\n",
    "    \"y'all\": \"you all\",\n",
    "    \"y'alls\": \"you alls\",\n",
    "    \"y'all'd\": \"you all would\",\n",
    "    \"y'all'd've\": \"you all would have\",\n",
    "    \"y'all're\": \"you all are\",\n",
    "    \"y'all've\": \"you all have\",\n",
    "    \"you'd\": \"you had\",\n",
    "    \"you'd've\": \"you would have\",\n",
    "    \"you'll\": \"you you will\",\n",
    "    \"you'll've\": \"you you will have\",\n",
    "    \"you're\": \"you are\",\n",
    "    \"you've\": \"you have\"\n",
    "}"
   ]
  },
  {
   "cell_type": "code",
   "execution_count": 52,
   "metadata": {},
   "outputs": [],
   "source": [
    "addtl_stop_words = ['still', 'got', 'guy', 'say', 'still', 'thing', 'us', 'will', 'get', 'ok', 'we', 'please', 'would', 'could', 'im']\n",
    "\n",
    "stop_words = stopwords.words(\"english\")#.append(append_to_stopwords)\n",
    "stop_words = stop_words + addtl_stop_words\n",
    "stop_words_dict = Counter(stop_words)\n",
    "\n",
    "# List of punctuation\n",
    "addtl_punc = ['...']\n",
    "punc = list(set(string.punctuation))\n",
    "punc = punc + addtl_punc"
   ]
  },
  {
   "cell_type": "markdown",
   "metadata": {},
   "source": [
    "# Word2Vec"
   ]
  },
  {
   "cell_type": "code",
   "execution_count": 5,
   "metadata": {},
   "outputs": [],
   "source": [
    "wallstreet = pd.read_csv('data/wallstreet_master.csv')"
   ]
  },
  {
   "cell_type": "code",
   "execution_count": 53,
   "metadata": {},
   "outputs": [],
   "source": [
    "wallstreet['all_words_prep'] = wallstreet['processed_text'].apply(lambda x: nlp_topic_utils.process_text(x, contracted_words_dict, punc, stop_words_dict))"
   ]
  },
  {
   "cell_type": "code",
   "execution_count": 65,
   "metadata": {},
   "outputs": [],
   "source": [
    "all_words_arr = wallstreet['all_words_prep'].tolist()\n",
    "all_words = list(itertools.chain.from_iterable(all_words_arr))"
   ]
  },
  {
   "cell_type": "code",
   "execution_count": 67,
   "metadata": {},
   "outputs": [
    {
     "data": {
      "text/plain": [
       "['thought',\n",
       " 'introduce',\n",
       " 'new',\n",
       " 'community',\n",
       " 'trying',\n",
       " 'learn',\n",
       " 'much',\n",
       " 'figured',\n",
       " 'may',\n",
       " 'well',\n",
       " 'start',\n",
       " 'far',\n",
       " 'like',\n",
       " 'simplicity',\n",
       " 'site',\n",
       " 'hope',\n",
       " 'go',\n",
       " 'far',\n",
       " 'searching',\n",
       " 'tip']"
      ]
     },
     "execution_count": 67,
     "metadata": {},
     "output_type": "execute_result"
    }
   ],
   "source": [
    "all_words[:20]"
   ]
  },
  {
   "cell_type": "code",
   "execution_count": 68,
   "metadata": {},
   "outputs": [],
   "source": [
    "min_count = 2\n",
    "\n",
    "word2vec = Word2Vec(all_words, min_count=min_count)"
   ]
  },
  {
   "cell_type": "code",
   "execution_count": 69,
   "metadata": {},
   "outputs": [
    {
     "name": "stdout",
     "output_type": "stream",
     "text": [
      "{'t': <gensim.models.keyedvectors.Vocab object at 0x7efe28778cf8>, 'h': <gensim.models.keyedvectors.Vocab object at 0x7efe28778d68>, 'o': <gensim.models.keyedvectors.Vocab object at 0x7efe28778208>, 'u': <gensim.models.keyedvectors.Vocab object at 0x7efe28778e80>, 'g': <gensim.models.keyedvectors.Vocab object at 0x7efe287781d0>, 'i': <gensim.models.keyedvectors.Vocab object at 0x7efe28778c88>, 'n': <gensim.models.keyedvectors.Vocab object at 0x7efe28778e10>, 'r': <gensim.models.keyedvectors.Vocab object at 0x7efe28778d30>, 'd': <gensim.models.keyedvectors.Vocab object at 0x7efe28778f60>, 'c': <gensim.models.keyedvectors.Vocab object at 0x7efe28778cc0>, 'e': <gensim.models.keyedvectors.Vocab object at 0x7efe28778e48>, 'w': <gensim.models.keyedvectors.Vocab object at 0x7efe28778c50>, 'm': <gensim.models.keyedvectors.Vocab object at 0x7efe28778eb8>, 'y': <gensim.models.keyedvectors.Vocab object at 0x7efe28778ba8>, 'l': <gensim.models.keyedvectors.Vocab object at 0x7efe28778f98>, 'a': <gensim.models.keyedvectors.Vocab object at 0x7efe28778c18>, 'f': <gensim.models.keyedvectors.Vocab object at 0x7efe28778128>, 's': <gensim.models.keyedvectors.Vocab object at 0x7efe28778dd8>, 'k': <gensim.models.keyedvectors.Vocab object at 0x7efe28778f28>, 'p': <gensim.models.keyedvectors.Vocab object at 0x7efe28778fd0>, '-': <gensim.models.keyedvectors.Vocab object at 0x7efe28778b70>, 'v': <gensim.models.keyedvectors.Vocab object at 0x7efe28778b38>, 'x': <gensim.models.keyedvectors.Vocab object at 0x7efe28778b00>, 'b': <gensim.models.keyedvectors.Vocab object at 0x7efe28778ac8>, '.': <gensim.models.keyedvectors.Vocab object at 0x7efe28778a90>, 'j': <gensim.models.keyedvectors.Vocab object at 0x7efe28778a58>, 'z': <gensim.models.keyedvectors.Vocab object at 0x7efe28778a20>, '@': <gensim.models.keyedvectors.Vocab object at 0x7efe287789e8>, \"'\": <gensim.models.keyedvectors.Vocab object at 0x7efe287789b0>, '>': <gensim.models.keyedvectors.Vocab object at 0x7efe28778978>, 'q': <gensim.models.keyedvectors.Vocab object at 0x7efe28778940>, ']': <gensim.models.keyedvectors.Vocab object at 0x7efe28778908>, ':': <gensim.models.keyedvectors.Vocab object at 0x7efe287788d0>, ')': <gensim.models.keyedvectors.Vocab object at 0x7efe28778898>, 'ä': <gensim.models.keyedvectors.Vocab object at 0x7efe28778860>, 'ü': <gensim.models.keyedvectors.Vocab object at 0x7efe28778828>, 'ö': <gensim.models.keyedvectors.Vocab object at 0x7efe287787f0>, '=': <gensim.models.keyedvectors.Vocab object at 0x7efe287787b8>, '#': <gensim.models.keyedvectors.Vocab object at 0x7efe28778780>, '_': <gensim.models.keyedvectors.Vocab object at 0x7efe28778748>, 'ß': <gensim.models.keyedvectors.Vocab object at 0x7efe28778710>, 'é': <gensim.models.keyedvectors.Vocab object at 0x7efe287786d8>, 'ç': <gensim.models.keyedvectors.Vocab object at 0x7efe287786a0>, 'è': <gensim.models.keyedvectors.Vocab object at 0x7efe28778668>, 'ï': <gensim.models.keyedvectors.Vocab object at 0x7efe28778630>, '/': <gensim.models.keyedvectors.Vocab object at 0x7efe287785f8>, 'ã': <gensim.models.keyedvectors.Vocab object at 0x7efe287785c0>, 'ë': <gensim.models.keyedvectors.Vocab object at 0x7efe28778588>, '(': <gensim.models.keyedvectors.Vocab object at 0x7efe28778550>, ';': <gensim.models.keyedvectors.Vocab object at 0x7efe28778518>, '[': <gensim.models.keyedvectors.Vocab object at 0x7efe287784e0>, '?': <gensim.models.keyedvectors.Vocab object at 0x7efe287784a8>, 'º': <gensim.models.keyedvectors.Vocab object at 0x7efe28778470>, 'ʌ': <gensim.models.keyedvectors.Vocab object at 0x7efe28778438>, 'ň': <gensim.models.keyedvectors.Vocab object at 0x7efe28778400>, 'ţ': <gensim.models.keyedvectors.Vocab object at 0x7efe287783c8>, 'ɍ': <gensim.models.keyedvectors.Vocab object at 0x7efe28778390>, 'ȼ': <gensim.models.keyedvectors.Vocab object at 0x7efe28778358>, 'ó': <gensim.models.keyedvectors.Vocab object at 0x7efe287782e8>, 'í': <gensim.models.keyedvectors.Vocab object at 0x7efe28778240>, 'á': <gensim.models.keyedvectors.Vocab object at 0x7efe28778320>, '|': <gensim.models.keyedvectors.Vocab object at 0x7efe28778160>, ' ': <gensim.models.keyedvectors.Vocab object at 0x7efb64a4c470>, 'д': <gensim.models.keyedvectors.Vocab object at 0x7efb64a4c518>, 'л': <gensim.models.keyedvectors.Vocab object at 0x7efb64a4c4e0>, 'я': <gensim.models.keyedvectors.Vocab object at 0x7efb64a4c4a8>, 'м': <gensim.models.keyedvectors.Vocab object at 0x7efb64a4c390>, 'а': <gensim.models.keyedvectors.Vocab object at 0x7efb64a4c438>, 'ы': <gensim.models.keyedvectors.Vocab object at 0x7efb64a4c400>, 'ш': <gensim.models.keyedvectors.Vocab object at 0x7efb64a4c3c8>, 'е': <gensim.models.keyedvectors.Vocab object at 0x7efb64a4c748>, 'й': <gensim.models.keyedvectors.Vocab object at 0x7efb64a4c780>, 'г': <gensim.models.keyedvectors.Vocab object at 0x7efb64a4c7b8>, 'о': <gensim.models.keyedvectors.Vocab object at 0x7efb64a4c550>, 'р': <gensim.models.keyedvectors.Vocab object at 0x7efb64a4c588>, 'к': <gensim.models.keyedvectors.Vocab object at 0x7efb64a4c5c0>, 'т': <gensim.models.keyedvectors.Vocab object at 0x7efb64a4c5f8>, 'с': <gensim.models.keyedvectors.Vocab object at 0x7efb64a4c630>, 'и': <gensim.models.keyedvectors.Vocab object at 0x7efb64a4c668>, 'в': <gensim.models.keyedvectors.Vocab object at 0x7efb64a4c6a0>, 'п': <gensim.models.keyedvectors.Vocab object at 0x7efb64a4c6d8>, 'щ': <gensim.models.keyedvectors.Vocab object at 0x7efb64a4c710>, 'у': <gensim.models.keyedvectors.Vocab object at 0x7efb64a4c8d0>, 'ь': <gensim.models.keyedvectors.Vocab object at 0x7efb64a4c828>, 'з': <gensim.models.keyedvectors.Vocab object at 0x7efb64a4c7f0>, 'н': <gensim.models.keyedvectors.Vocab object at 0x7efb64a4c898>, 'ч': <gensim.models.keyedvectors.Vocab object at 0x7efb64a4c860>, 'ф': <gensim.models.keyedvectors.Vocab object at 0x7efb64a4c908>, 'ц': <gensim.models.keyedvectors.Vocab object at 0x7efb64a4c940>, 'х': <gensim.models.keyedvectors.Vocab object at 0x7efb64a4c978>, 'э': <gensim.models.keyedvectors.Vocab object at 0x7efb64a4c9b0>, 'ж': <gensim.models.keyedvectors.Vocab object at 0x7efb64a4c9e8>, 'б': <gensim.models.keyedvectors.Vocab object at 0x7efb64a4ca20>, 'å': <gensim.models.keyedvectors.Vocab object at 0x7efb64a4ca58>, '<': <gensim.models.keyedvectors.Vocab object at 0x7efb64a4ca90>, 'ю': <gensim.models.keyedvectors.Vocab object at 0x7efb64a4cac8>, '{': <gensim.models.keyedvectors.Vocab object at 0x7efb64a4cb00>, 'ý': <gensim.models.keyedvectors.Vocab object at 0x7efb64a4cb38>, 'æ': <gensim.models.keyedvectors.Vocab object at 0x7efb64a4cb70>, 'ø': <gensim.models.keyedvectors.Vocab object at 0x7efb64a4cba8>, 'ś': <gensim.models.keyedvectors.Vocab object at 0x7efb64a4cbe0>, 'ł': <gensim.models.keyedvectors.Vocab object at 0x7efb64a4cc18>, 'ń': <gensim.models.keyedvectors.Vocab object at 0x7efb64a4cc50>, 'ђ': <gensim.models.keyedvectors.Vocab object at 0x7efb64a4cc88>, 'њ': <gensim.models.keyedvectors.Vocab object at 0x7efb64a4ccc0>, 'ќ': <gensim.models.keyedvectors.Vocab object at 0x7efb64a4ccf8>, 'ñ': <gensim.models.keyedvectors.Vocab object at 0x7efb64a4cd30>, 'â': <gensim.models.keyedvectors.Vocab object at 0x7efb64a4cd68>, 'ú': <gensim.models.keyedvectors.Vocab object at 0x7efb64a4cda0>, 'î': <gensim.models.keyedvectors.Vocab object at 0x7efb64a4cdd8>, 'ê': <gensim.models.keyedvectors.Vocab object at 0x7efb64a4ce10>, 'à': <gensim.models.keyedvectors.Vocab object at 0x7efb64a4ce48>, 'љ': <gensim.models.keyedvectors.Vocab object at 0x7efb64a4ce80>, 'ő': <gensim.models.keyedvectors.Vocab object at 0x7efb64a4ceb8>, '\\\\': <gensim.models.keyedvectors.Vocab object at 0x7efb64a4cef0>, '*': <gensim.models.keyedvectors.Vocab object at 0x7efb64a4cf28>, 'ž': <gensim.models.keyedvectors.Vocab object at 0x7efb64a4cf60>, 'ų': <gensim.models.keyedvectors.Vocab object at 0x7efb64a4cf98>, 'č': <gensim.models.keyedvectors.Vocab object at 0x7efb64a4cfd0>, 'ė': <gensim.models.keyedvectors.Vocab object at 0x7efe286de048>, 'š': <gensim.models.keyedvectors.Vocab object at 0x7efe286de080>, 'ô': <gensim.models.keyedvectors.Vocab object at 0x7efe286de0b8>, 'ż': <gensim.models.keyedvectors.Vocab object at 0x7efe286de0f0>, 'α': <gensim.models.keyedvectors.Vocab object at 0x7efe286de128>, '警': <gensim.models.keyedvectors.Vocab object at 0x7efe286de160>, '察': <gensim.models.keyedvectors.Vocab object at 0x7efe286de198>, '庁': <gensim.models.keyedvectors.Vocab object at 0x7efe286de1d0>, '猥': <gensim.models.keyedvectors.Vocab object at 0x7efe286de208>, '褻': <gensim.models.keyedvectors.Vocab object at 0x7efe286de240>, '仁': <gensim.models.keyedvectors.Vocab object at 0x7efe286de278>, '侠': <gensim.models.keyedvectors.Vocab object at 0x7efe286de2b0>, '道': <gensim.models.keyedvectors.Vocab object at 0x7efe286de2e8>, '総': <gensim.models.keyedvectors.Vocab object at 0x7efe286de320>, '会': <gensim.models.keyedvectors.Vocab object at 0x7efe286de358>, '屋': <gensim.models.keyedvectors.Vocab object at 0x7efe286de390>, 'お': <gensim.models.keyedvectors.Vocab object at 0x7efe286de3c8>, '金': <gensim.models.keyedvectors.Vocab object at 0x7efe286de400>, 'μ': <gensim.models.keyedvectors.Vocab object at 0x7efe286de438>, 'ε': <gensim.models.keyedvectors.Vocab object at 0x7efe286de470>, 'χ': <gensim.models.keyedvectors.Vocab object at 0x7efe286de4a8>, 'ι': <gensim.models.keyedvectors.Vocab object at 0x7efe286de4e0>, 'ς': <gensim.models.keyedvectors.Vocab object at 0x7efe286de518>, 'û': <gensim.models.keyedvectors.Vocab object at 0x7efe286de550>, 'ù': <gensim.models.keyedvectors.Vocab object at 0x7efe286de588>, '$': <gensim.models.keyedvectors.Vocab object at 0x7efe286de5c0>}\n"
     ]
    }
   ],
   "source": [
    "vocab = word2vec.wv.vocab\n",
    "print(vocab)"
   ]
  },
  {
   "cell_type": "code",
   "execution_count": null,
   "metadata": {},
   "outputs": [],
   "source": [
    "# View \"changelog\" as a vector.\n",
    "\n",
    "v1 = word2vec.wv['changelog']\n",
    "print(v1)"
   ]
  },
  {
   "cell_type": "code",
   "execution_count": null,
   "metadata": {},
   "outputs": [],
   "source": []
  }
 ],
 "metadata": {
  "kernelspec": {
   "display_name": "conda_python3",
   "language": "python",
   "name": "conda_python3"
  },
  "language_info": {
   "codemirror_mode": {
    "name": "ipython",
    "version": 3
   },
   "file_extension": ".py",
   "mimetype": "text/x-python",
   "name": "python",
   "nbconvert_exporter": "python",
   "pygments_lexer": "ipython3",
   "version": "3.6.10"
  }
 },
 "nbformat": 4,
 "nbformat_minor": 4
}
