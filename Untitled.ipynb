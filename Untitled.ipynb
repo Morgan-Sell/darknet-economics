{
 "cells": [
  {
   "cell_type": "code",
   "execution_count": 1,
   "metadata": {},
   "outputs": [],
   "source": [
    "import pandas as pd\n",
    "import numpy as np"
   ]
  },
  {
   "cell_type": "code",
   "execution_count": 2,
   "metadata": {},
   "outputs": [],
   "source": [
    "wall_nlp = pd.read_csv('data/wall_nlp.csv')"
   ]
  },
  {
   "cell_type": "code",
   "execution_count": 3,
   "metadata": {},
   "outputs": [
    {
     "data": {
      "text/html": [
       "<div>\n",
       "<style scoped>\n",
       "    .dataframe tbody tr th:only-of-type {\n",
       "        vertical-align: middle;\n",
       "    }\n",
       "\n",
       "    .dataframe tbody tr th {\n",
       "        vertical-align: top;\n",
       "    }\n",
       "\n",
       "    .dataframe thead th {\n",
       "        text-align: right;\n",
       "    }\n",
       "</style>\n",
       "<table border=\"1\" class=\"dataframe\">\n",
       "  <thead>\n",
       "    <tr style=\"text-align: right;\">\n",
       "      <th></th>\n",
       "      <th>subforum</th>\n",
       "      <th>contentWithHTMLTag</th>\n",
       "      <th>cleaned_content</th>\n",
       "      <th>lemmatized_tokens</th>\n",
       "    </tr>\n",
       "  </thead>\n",
       "  <tbody>\n",
       "    <tr>\n",
       "      <th>0</th>\n",
       "      <td>Introductions</td>\n",
       "      <td>&lt;div class=\"entry-content\"&gt;\\n&lt;p&gt;Just thought I...</td>\n",
       "      <td>just thought i'd introduce myself. i am new t...</td>\n",
       "      <td>['thought', \"'d\", 'introduce', '.', 'new', 'co...</td>\n",
       "    </tr>\n",
       "    <tr>\n",
       "      <th>1</th>\n",
       "      <td>Introductions</td>\n",
       "      <td>&lt;div class=\"entry-content\"&gt;\\n&lt;p&gt;Hello &lt;img alt...</td>\n",
       "      <td>hello  nice to see you here!regards</td>\n",
       "      <td>['hello', 'nice', 'see', '!', 'regard']</td>\n",
       "    </tr>\n",
       "    <tr>\n",
       "      <th>2</th>\n",
       "      <td>Announcements</td>\n",
       "      <td>&lt;div class=\"entry-content\"&gt;\\n&lt;p&gt;Hello everyone...</td>\n",
       "      <td>hello everyone.i would like to tell you that ...</td>\n",
       "      <td>['hello', 'everyone.i', 'would', 'like', 'tell...</td>\n",
       "    </tr>\n",
       "    <tr>\n",
       "      <th>3</th>\n",
       "      <td>Introductions</td>\n",
       "      <td>&lt;div class=\"entry-content\"&gt;\\n&lt;p&gt;Hello Punka! n...</td>\n",
       "      <td>hello punka! nice to meet you!as you asked ho...</td>\n",
       "      <td>['hello', 'punka', '!', 'nice', 'meet', '!', '...</td>\n",
       "    </tr>\n",
       "    <tr>\n",
       "      <th>4</th>\n",
       "      <td>Announcements</td>\n",
       "      <td>&lt;div class=\"entry-content\"&gt;\\n&lt;h5&gt;Changelog fro...</td>\n",
       "      <td>changelog from wednesday,  november  a lot of...</td>\n",
       "      <td>['changelog', 'wednesday', ',', 'november', 'l...</td>\n",
       "    </tr>\n",
       "  </tbody>\n",
       "</table>\n",
       "</div>"
      ],
      "text/plain": [
       "        subforum                                 contentWithHTMLTag  \\\n",
       "0  Introductions  <div class=\"entry-content\">\\n<p>Just thought I...   \n",
       "1  Introductions  <div class=\"entry-content\">\\n<p>Hello <img alt...   \n",
       "2  Announcements  <div class=\"entry-content\">\\n<p>Hello everyone...   \n",
       "3  Introductions  <div class=\"entry-content\">\\n<p>Hello Punka! n...   \n",
       "4  Announcements  <div class=\"entry-content\">\\n<h5>Changelog fro...   \n",
       "\n",
       "                                     cleaned_content  \\\n",
       "0   just thought i'd introduce myself. i am new t...   \n",
       "1               hello  nice to see you here!regards    \n",
       "2   hello everyone.i would like to tell you that ...   \n",
       "3   hello punka! nice to meet you!as you asked ho...   \n",
       "4   changelog from wednesday,  november  a lot of...   \n",
       "\n",
       "                                   lemmatized_tokens  \n",
       "0  ['thought', \"'d\", 'introduce', '.', 'new', 'co...  \n",
       "1            ['hello', 'nice', 'see', '!', 'regard']  \n",
       "2  ['hello', 'everyone.i', 'would', 'like', 'tell...  \n",
       "3  ['hello', 'punka', '!', 'nice', 'meet', '!', '...  \n",
       "4  ['changelog', 'wednesday', ',', 'november', 'l...  "
      ]
     },
     "execution_count": 3,
     "metadata": {},
     "output_type": "execute_result"
    }
   ],
   "source": [
    "wall_nlp.head()"
   ]
  }
 ],
 "metadata": {
  "kernelspec": {
   "display_name": "Python 3",
   "language": "python",
   "name": "python3"
  },
  "language_info": {
   "codemirror_mode": {
    "name": "ipython",
    "version": 3
   },
   "file_extension": ".py",
   "mimetype": "text/x-python",
   "name": "python",
   "nbconvert_exporter": "python",
   "pygments_lexer": "ipython3",
   "version": "3.7.6"
  }
 },
 "nbformat": 4,
 "nbformat_minor": 4
}
