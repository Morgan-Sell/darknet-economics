{
 "cells": [
  {
   "cell_type": "code",
   "execution_count": 1,
   "metadata": {},
   "outputs": [],
   "source": [
    "import pandas as pd\n",
    "import numpy as np\n",
    "\n",
    "import matplotlib.pyplot as plt\n",
    "import seaborn as sns\n",
    "%matplotlib inline\n",
    "\n",
    "import re\n",
    "import utils\n",
    "from bs4 import BeautifulSoup"
   ]
  },
  {
   "cell_type": "code",
   "execution_count": 2,
   "metadata": {},
   "outputs": [
    {
     "name": "stderr",
     "output_type": "stream",
     "text": [
      "C:\\Users\\morga\\anaconda3\\lib\\site-packages\\IPython\\core\\interactiveshell.py:3072: DtypeWarning: Columns (7) have mixed types.Specify dtype option on import or set low_memory=False.\n",
      "  interactivity=interactivity, compiler=compiler, result=result)\n"
     ]
    }
   ],
   "source": [
    "products = pd.read_csv('data/DreamMarket_master_product.csv')"
   ]
  },
  {
   "cell_type": "code",
   "execution_count": 3,
   "metadata": {},
   "outputs": [],
   "source": [
    "# utils.plot_null_val_heatmap(products, 'Null Values of Product Dataset')"
   ]
  },
  {
   "cell_type": "markdown",
   "metadata": {},
   "source": [
    "## Functions - Add to utils.py"
   ]
  },
  {
   "cell_type": "code",
   "execution_count": null,
   "metadata": {},
   "outputs": [],
   "source": []
  },
  {
   "cell_type": "markdown",
   "metadata": {},
   "source": [
    "## Review Raw Data"
   ]
  },
  {
   "cell_type": "code",
   "execution_count": 4,
   "metadata": {},
   "outputs": [
    {
     "name": "stdout",
     "output_type": "stream",
     "text": [
      "<class 'pandas.core.frame.DataFrame'>\n",
      "RangeIndex: 130936 entries, 0 to 130935\n",
      "Data columns (total 18 columns):\n",
      " #   Column            Non-Null Count   Dtype  \n",
      "---  ------            --------------   -----  \n",
      " 0   seqNo             39473 non-null   float64\n",
      " 1   product_name      130936 non-null  object \n",
      " 2   category          130936 non-null  object \n",
      " 3   description       130936 non-null  object \n",
      " 4   shipping_options  130936 non-null  object \n",
      " 5   keywords          130936 non-null  object \n",
      " 6   seller_name       130936 non-null  object \n",
      " 7   price             130936 non-null  object \n",
      " 8   payment_method    130936 non-null  object \n",
      " 9   sold_since        130936 non-null  object \n",
      " 10  ends_in           130936 non-null  object \n",
      " 11  quantity_sold     130936 non-null  object \n",
      " 12  quantity_left     130936 non-null  object \n",
      " 13  refundPolicy      130936 non-null  object \n",
      " 14  market_name       130936 non-null  object \n",
      " 15  ship_from         130932 non-null  object \n",
      " 16  ship_to           130936 non-null  object \n",
      " 17  idproduct         91463 non-null   float64\n",
      "dtypes: float64(2), object(16)\n",
      "memory usage: 18.0+ MB\n"
     ]
    }
   ],
   "source": [
    "products.info()"
   ]
  },
  {
   "cell_type": "code",
   "execution_count": 5,
   "metadata": {},
   "outputs": [
    {
     "data": {
      "text/html": [
       "<div>\n",
       "<style scoped>\n",
       "    .dataframe tbody tr th:only-of-type {\n",
       "        vertical-align: middle;\n",
       "    }\n",
       "\n",
       "    .dataframe tbody tr th {\n",
       "        vertical-align: top;\n",
       "    }\n",
       "\n",
       "    .dataframe thead th {\n",
       "        text-align: right;\n",
       "    }\n",
       "</style>\n",
       "<table border=\"1\" class=\"dataframe\">\n",
       "  <thead>\n",
       "    <tr style=\"text-align: right;\">\n",
       "      <th></th>\n",
       "      <th>seqNo</th>\n",
       "      <th>product_name</th>\n",
       "      <th>category</th>\n",
       "      <th>description</th>\n",
       "      <th>shipping_options</th>\n",
       "      <th>keywords</th>\n",
       "      <th>seller_name</th>\n",
       "      <th>price</th>\n",
       "      <th>payment_method</th>\n",
       "      <th>sold_since</th>\n",
       "      <th>ends_in</th>\n",
       "      <th>quantity_sold</th>\n",
       "      <th>quantity_left</th>\n",
       "      <th>refundPolicy</th>\n",
       "      <th>market_name</th>\n",
       "      <th>ship_from</th>\n",
       "      <th>ship_to</th>\n",
       "      <th>idproduct</th>\n",
       "    </tr>\n",
       "  </thead>\n",
       "  <tbody>\n",
       "    <tr>\n",
       "      <th>0</th>\n",
       "      <td>1.0</td>\n",
       "      <td>503 - Forwarding failure (Privoxy@localhost)</td>\n",
       "      <td>-</td>\n",
       "      <td>-</td>\n",
       "      <td>-</td>\n",
       "      <td>-</td>\n",
       "      <td>-</td>\n",
       "      <td>-</td>\n",
       "      <td>-</td>\n",
       "      <td>-</td>\n",
       "      <td>-</td>\n",
       "      <td>-</td>\n",
       "      <td>-</td>\n",
       "      <td>-</td>\n",
       "      <td>Dream</td>\n",
       "      <td>-</td>\n",
       "      <td>-</td>\n",
       "      <td>NaN</td>\n",
       "    </tr>\n",
       "    <tr>\n",
       "      <th>1</th>\n",
       "      <td>2.0</td>\n",
       "      <td>OG KUSH 1/2 OZ $125 AAAA+</td>\n",
       "      <td>Drugs \\n\\t\\t41793</td>\n",
       "      <td>OG Kush makes up the genetic backbone of West ...</td>\n",
       "      <td>\\n\\n\\n$15.99\\t\\t\\t\\t\\t\\nCANADA WIDE\\n\\n\\n\\n\\n\\...</td>\n",
       "      <td>-</td>\n",
       "      <td>GWLOVE</td>\n",
       "      <td>$125</td>\n",
       "      <td>Escrow Yes</td>\n",
       "      <td>-</td>\n",
       "      <td>-</td>\n",
       "      <td>-</td>\n",
       "      <td>-</td>\n",
       "      <td>-</td>\n",
       "      <td>Dream</td>\n",
       "      <td>CANADA</td>\n",
       "      <td>Worldwide Worldwide</td>\n",
       "      <td>NaN</td>\n",
       "    </tr>\n",
       "    <tr>\n",
       "      <th>2</th>\n",
       "      <td>3.0</td>\n",
       "      <td>Dream Market Login - Featured anonymous market...</td>\n",
       "      <td>-</td>\n",
       "      <td>-</td>\n",
       "      <td>-</td>\n",
       "      <td>-</td>\n",
       "      <td>-</td>\n",
       "      <td>-</td>\n",
       "      <td>-</td>\n",
       "      <td>-</td>\n",
       "      <td>-</td>\n",
       "      <td>-</td>\n",
       "      <td>-</td>\n",
       "      <td>-</td>\n",
       "      <td>Dream</td>\n",
       "      <td>-</td>\n",
       "      <td>-</td>\n",
       "      <td>NaN</td>\n",
       "    </tr>\n",
       "    <tr>\n",
       "      <th>3</th>\n",
       "      <td>4.0</td>\n",
       "      <td>Every drug available on request</td>\n",
       "      <td>Drugs \\n\\t\\t41804</td>\n",
       "      <td>Every kind of medicine I can arrange . Send me...</td>\n",
       "      <td>-</td>\n",
       "      <td>-</td>\n",
       "      <td>Hectorstuff</td>\n",
       "      <td>$1</td>\n",
       "      <td>Escrow Yes</td>\n",
       "      <td>-</td>\n",
       "      <td>-</td>\n",
       "      <td>-</td>\n",
       "      <td>-</td>\n",
       "      <td>-</td>\n",
       "      <td>Dream</td>\n",
       "      <td>dutch</td>\n",
       "      <td>Worldwide Worldwide</td>\n",
       "      <td>NaN</td>\n",
       "    </tr>\n",
       "    <tr>\n",
       "      <th>4</th>\n",
       "      <td>5.0</td>\n",
       "      <td>Debug, Learn how crack windows</td>\n",
       "      <td>Digital Goods \\n\\t\\t29334</td>\n",
       "      <td>Debug, Learn how crack windows</td>\n",
       "      <td>-</td>\n",
       "      <td>-</td>\n",
       "      <td>darkmarket</td>\n",
       "      <td>$1</td>\n",
       "      <td>Escrow Yes</td>\n",
       "      <td>-</td>\n",
       "      <td>-</td>\n",
       "      <td>-</td>\n",
       "      <td>-</td>\n",
       "      <td>-</td>\n",
       "      <td>Dream</td>\n",
       "      <td>Worldwide</td>\n",
       "      <td>Worldwide Worldwide</td>\n",
       "      <td>NaN</td>\n",
       "    </tr>\n",
       "  </tbody>\n",
       "</table>\n",
       "</div>"
      ],
      "text/plain": [
       "   seqNo                                       product_name  \\\n",
       "0    1.0       503 - Forwarding failure (Privoxy@localhost)   \n",
       "1    2.0                          OG KUSH 1/2 OZ $125 AAAA+   \n",
       "2    3.0  Dream Market Login - Featured anonymous market...   \n",
       "3    4.0                    Every drug available on request   \n",
       "4    5.0                     Debug, Learn how crack windows   \n",
       "\n",
       "                    category  \\\n",
       "0                          -   \n",
       "1          Drugs \\n\\t\\t41793   \n",
       "2                          -   \n",
       "3          Drugs \\n\\t\\t41804   \n",
       "4  Digital Goods \\n\\t\\t29334   \n",
       "\n",
       "                                         description  \\\n",
       "0                                                  -   \n",
       "1  OG Kush makes up the genetic backbone of West ...   \n",
       "2                                                  -   \n",
       "3  Every kind of medicine I can arrange . Send me...   \n",
       "4                    Debug, Learn how crack windows    \n",
       "\n",
       "                                    shipping_options keywords  seller_name  \\\n",
       "0                                                  -        -            -   \n",
       "1  \\n\\n\\n$15.99\\t\\t\\t\\t\\t\\nCANADA WIDE\\n\\n\\n\\n\\n\\...        -       GWLOVE   \n",
       "2                                                  -        -            -   \n",
       "3                                                  -        -  Hectorstuff   \n",
       "4                                                  -        -   darkmarket   \n",
       "\n",
       "  price payment_method sold_since ends_in quantity_sold quantity_left  \\\n",
       "0     -              -          -       -             -             -   \n",
       "1  $125     Escrow Yes          -       -             -             -   \n",
       "2     -              -          -       -             -             -   \n",
       "3    $1     Escrow Yes          -       -             -             -   \n",
       "4    $1     Escrow Yes          -       -             -             -   \n",
       "\n",
       "  refundPolicy market_name  ship_from              ship_to  idproduct  \n",
       "0            -       Dream          -                    -        NaN  \n",
       "1            -       Dream     CANADA  Worldwide Worldwide        NaN  \n",
       "2            -       Dream          -                    -        NaN  \n",
       "3            -       Dream      dutch  Worldwide Worldwide        NaN  \n",
       "4            -       Dream  Worldwide  Worldwide Worldwide        NaN  "
      ]
     },
     "execution_count": 5,
     "metadata": {},
     "output_type": "execute_result"
    }
   ],
   "source": [
    "products.head()"
   ]
  },
  {
   "cell_type": "code",
   "execution_count": 6,
   "metadata": {},
   "outputs": [
    {
     "name": "stdout",
     "output_type": "stream",
     "text": [
      "sold_since: ['-']\n",
      "ends_in: ['-']\n",
      "quantity_sold: ['-']\n",
      "quantity_left: ['-']\n",
      "refundPolicy: ['-']\n",
      "keywords: ['-']\n"
     ]
    }
   ],
   "source": [
    "cols_to_review = ['sold_since', 'ends_in', 'quantity_sold', 'quantity_left', 'refundPolicy', 'keywords']\n",
    "for x in cols_to_review:\n",
    "    print('{}: {}'.format(x, products[x].unique()))"
   ]
  },
  {
   "cell_type": "code",
   "execution_count": null,
   "metadata": {},
   "outputs": [],
   "source": []
  },
  {
   "cell_type": "markdown",
   "metadata": {},
   "source": [
    "## Text Cleaning"
   ]
  },
  {
   "cell_type": "code",
   "execution_count": 7,
   "metadata": {},
   "outputs": [],
   "source": [
    "products_v2 = products.drop(cols_to_review, axis=1)"
   ]
  },
  {
   "cell_type": "code",
   "execution_count": 8,
   "metadata": {},
   "outputs": [],
   "source": [
    "products_v2['is_2016'] = products_v2['idproduct'].isnull()\n",
    "products['year_sold'] = products_v2['is_2016'].apply(lambda x: 2016 if True else 2017)\n",
    "products_v2.drop('is_2016', axis=1, inplace=True)\n",
    "products_v2['adj_price'] = products_v2['price'].apply(lambda x: utils.convert_price_to_float(x))"
   ]
  },
  {
   "cell_type": "code",
   "execution_count": null,
   "metadata": {},
   "outputs": [],
   "source": []
  },
  {
   "cell_type": "code",
   "execution_count": 9,
   "metadata": {},
   "outputs": [],
   "source": [
    "products_v2['category_revised'] = products_v2['category'].str.replace(r'\\n', '')\n",
    "products_v2['category_revised'] = products_v2['category_revised'].str.replace('\\t', '')\n",
    "# products_v2['category_revised'] = products_v2['category_revised'].apply(lambda x: utils.replace_dash_with_nan(x))\n",
    "products_v2['category_str'] = products_v2['category_revised'].str.findall(r'[a-zA-Z ]')\n",
    "\n",
    "products_v2['category_str'] = products_v2['category_str'].apply(lambda x: ''.join(x))\n",
    "products_v2['category_num'] = products_v2['category_revised'].str.findall(r'[0-9 ]')\n",
    "products_v2['category_num'] = products_v2['category_num'].apply(lambda x: ''.join(x).replace(' ', ''))"
   ]
  },
  {
   "cell_type": "code",
   "execution_count": 12,
   "metadata": {},
   "outputs": [],
   "source": [
    "products_v2['category_revised'] = products_v2['category_revised'].apply(lambda x: utils.replace_dash_with_nan(x))"
   ]
  },
  {
   "cell_type": "code",
   "execution_count": 13,
   "metadata": {},
   "outputs": [
    {
     "data": {
      "text/html": [
       "<div>\n",
       "<style scoped>\n",
       "    .dataframe tbody tr th:only-of-type {\n",
       "        vertical-align: middle;\n",
       "    }\n",
       "\n",
       "    .dataframe tbody tr th {\n",
       "        vertical-align: top;\n",
       "    }\n",
       "\n",
       "    .dataframe thead th {\n",
       "        text-align: right;\n",
       "    }\n",
       "</style>\n",
       "<table border=\"1\" class=\"dataframe\">\n",
       "  <thead>\n",
       "    <tr style=\"text-align: right;\">\n",
       "      <th></th>\n",
       "      <th>seqNo</th>\n",
       "      <th>product_name</th>\n",
       "      <th>category</th>\n",
       "      <th>description</th>\n",
       "      <th>shipping_options</th>\n",
       "      <th>seller_name</th>\n",
       "      <th>price</th>\n",
       "      <th>payment_method</th>\n",
       "      <th>market_name</th>\n",
       "      <th>ship_from</th>\n",
       "      <th>ship_to</th>\n",
       "      <th>idproduct</th>\n",
       "      <th>adj_price</th>\n",
       "      <th>category_revised</th>\n",
       "      <th>category_str</th>\n",
       "      <th>category_num</th>\n",
       "    </tr>\n",
       "  </thead>\n",
       "  <tbody>\n",
       "    <tr>\n",
       "      <th>0</th>\n",
       "      <td>1.0</td>\n",
       "      <td>503 - Forwarding failure (Privoxy@localhost)</td>\n",
       "      <td>-</td>\n",
       "      <td>-</td>\n",
       "      <td>-</td>\n",
       "      <td>-</td>\n",
       "      <td>-</td>\n",
       "      <td>-</td>\n",
       "      <td>Dream</td>\n",
       "      <td>-</td>\n",
       "      <td>-</td>\n",
       "      <td>NaN</td>\n",
       "      <td>NaN</td>\n",
       "      <td>NaN</td>\n",
       "      <td></td>\n",
       "      <td></td>\n",
       "    </tr>\n",
       "    <tr>\n",
       "      <th>1</th>\n",
       "      <td>2.0</td>\n",
       "      <td>OG KUSH 1/2 OZ $125 AAAA+</td>\n",
       "      <td>Drugs \\n\\t\\t41793</td>\n",
       "      <td>OG Kush makes up the genetic backbone of West ...</td>\n",
       "      <td>\\n\\n\\n$15.99\\t\\t\\t\\t\\t\\nCANADA WIDE\\n\\n\\n\\n\\n\\...</td>\n",
       "      <td>GWLOVE</td>\n",
       "      <td>$125</td>\n",
       "      <td>Escrow Yes</td>\n",
       "      <td>Dream</td>\n",
       "      <td>CANADA</td>\n",
       "      <td>Worldwide Worldwide</td>\n",
       "      <td>NaN</td>\n",
       "      <td>125.0</td>\n",
       "      <td>Drugs 41793</td>\n",
       "      <td>Drugs</td>\n",
       "      <td>41793</td>\n",
       "    </tr>\n",
       "    <tr>\n",
       "      <th>2</th>\n",
       "      <td>3.0</td>\n",
       "      <td>Dream Market Login - Featured anonymous market...</td>\n",
       "      <td>-</td>\n",
       "      <td>-</td>\n",
       "      <td>-</td>\n",
       "      <td>-</td>\n",
       "      <td>-</td>\n",
       "      <td>-</td>\n",
       "      <td>Dream</td>\n",
       "      <td>-</td>\n",
       "      <td>-</td>\n",
       "      <td>NaN</td>\n",
       "      <td>NaN</td>\n",
       "      <td>NaN</td>\n",
       "      <td></td>\n",
       "      <td></td>\n",
       "    </tr>\n",
       "    <tr>\n",
       "      <th>3</th>\n",
       "      <td>4.0</td>\n",
       "      <td>Every drug available on request</td>\n",
       "      <td>Drugs \\n\\t\\t41804</td>\n",
       "      <td>Every kind of medicine I can arrange . Send me...</td>\n",
       "      <td>-</td>\n",
       "      <td>Hectorstuff</td>\n",
       "      <td>$1</td>\n",
       "      <td>Escrow Yes</td>\n",
       "      <td>Dream</td>\n",
       "      <td>dutch</td>\n",
       "      <td>Worldwide Worldwide</td>\n",
       "      <td>NaN</td>\n",
       "      <td>1.0</td>\n",
       "      <td>Drugs 41804</td>\n",
       "      <td>Drugs</td>\n",
       "      <td>41804</td>\n",
       "    </tr>\n",
       "    <tr>\n",
       "      <th>4</th>\n",
       "      <td>5.0</td>\n",
       "      <td>Debug, Learn how crack windows</td>\n",
       "      <td>Digital Goods \\n\\t\\t29334</td>\n",
       "      <td>Debug, Learn how crack windows</td>\n",
       "      <td>-</td>\n",
       "      <td>darkmarket</td>\n",
       "      <td>$1</td>\n",
       "      <td>Escrow Yes</td>\n",
       "      <td>Dream</td>\n",
       "      <td>Worldwide</td>\n",
       "      <td>Worldwide Worldwide</td>\n",
       "      <td>NaN</td>\n",
       "      <td>1.0</td>\n",
       "      <td>Digital Goods 29334</td>\n",
       "      <td>Digital Goods</td>\n",
       "      <td>29334</td>\n",
       "    </tr>\n",
       "  </tbody>\n",
       "</table>\n",
       "</div>"
      ],
      "text/plain": [
       "   seqNo                                       product_name  \\\n",
       "0    1.0       503 - Forwarding failure (Privoxy@localhost)   \n",
       "1    2.0                          OG KUSH 1/2 OZ $125 AAAA+   \n",
       "2    3.0  Dream Market Login - Featured anonymous market...   \n",
       "3    4.0                    Every drug available on request   \n",
       "4    5.0                     Debug, Learn how crack windows   \n",
       "\n",
       "                    category  \\\n",
       "0                          -   \n",
       "1          Drugs \\n\\t\\t41793   \n",
       "2                          -   \n",
       "3          Drugs \\n\\t\\t41804   \n",
       "4  Digital Goods \\n\\t\\t29334   \n",
       "\n",
       "                                         description  \\\n",
       "0                                                  -   \n",
       "1  OG Kush makes up the genetic backbone of West ...   \n",
       "2                                                  -   \n",
       "3  Every kind of medicine I can arrange . Send me...   \n",
       "4                    Debug, Learn how crack windows    \n",
       "\n",
       "                                    shipping_options  seller_name price  \\\n",
       "0                                                  -            -     -   \n",
       "1  \\n\\n\\n$15.99\\t\\t\\t\\t\\t\\nCANADA WIDE\\n\\n\\n\\n\\n\\...       GWLOVE  $125   \n",
       "2                                                  -            -     -   \n",
       "3                                                  -  Hectorstuff    $1   \n",
       "4                                                  -   darkmarket    $1   \n",
       "\n",
       "  payment_method market_name  ship_from              ship_to  idproduct  \\\n",
       "0              -       Dream          -                    -        NaN   \n",
       "1     Escrow Yes       Dream     CANADA  Worldwide Worldwide        NaN   \n",
       "2              -       Dream          -                    -        NaN   \n",
       "3     Escrow Yes       Dream      dutch  Worldwide Worldwide        NaN   \n",
       "4     Escrow Yes       Dream  Worldwide  Worldwide Worldwide        NaN   \n",
       "\n",
       "   adj_price     category_revised    category_str category_num  \n",
       "0        NaN                  NaN                               \n",
       "1      125.0          Drugs 41793          Drugs         41793  \n",
       "2        NaN                  NaN                               \n",
       "3        1.0          Drugs 41804          Drugs         41804  \n",
       "4        1.0  Digital Goods 29334  Digital Goods         29334  "
      ]
     },
     "execution_count": 13,
     "metadata": {},
     "output_type": "execute_result"
    }
   ],
   "source": [
    "products_v2.head()"
   ]
  },
  {
   "cell_type": "code",
   "execution_count": 10,
   "metadata": {},
   "outputs": [
    {
     "ename": "KeyError",
     "evalue": "'category_str'",
     "output_type": "error",
     "traceback": [
      "\u001b[1;31m---------------------------------------------------------------------------\u001b[0m",
      "\u001b[1;31mKeyError\u001b[0m                                  Traceback (most recent call last)",
      "\u001b[1;32m~\\anaconda3\\lib\\site-packages\\pandas\\core\\indexes\\base.py\u001b[0m in \u001b[0;36mget_loc\u001b[1;34m(self, key, method, tolerance)\u001b[0m\n\u001b[0;32m   2645\u001b[0m             \u001b[1;32mtry\u001b[0m\u001b[1;33m:\u001b[0m\u001b[1;33m\u001b[0m\u001b[1;33m\u001b[0m\u001b[0m\n\u001b[1;32m-> 2646\u001b[1;33m                 \u001b[1;32mreturn\u001b[0m \u001b[0mself\u001b[0m\u001b[1;33m.\u001b[0m\u001b[0m_engine\u001b[0m\u001b[1;33m.\u001b[0m\u001b[0mget_loc\u001b[0m\u001b[1;33m(\u001b[0m\u001b[0mkey\u001b[0m\u001b[1;33m)\u001b[0m\u001b[1;33m\u001b[0m\u001b[1;33m\u001b[0m\u001b[0m\n\u001b[0m\u001b[0;32m   2647\u001b[0m             \u001b[1;32mexcept\u001b[0m \u001b[0mKeyError\u001b[0m\u001b[1;33m:\u001b[0m\u001b[1;33m\u001b[0m\u001b[1;33m\u001b[0m\u001b[0m\n",
      "\u001b[1;32mpandas\\_libs\\index.pyx\u001b[0m in \u001b[0;36mpandas._libs.index.IndexEngine.get_loc\u001b[1;34m()\u001b[0m\n",
      "\u001b[1;32mpandas\\_libs\\index.pyx\u001b[0m in \u001b[0;36mpandas._libs.index.IndexEngine.get_loc\u001b[1;34m()\u001b[0m\n",
      "\u001b[1;32mpandas\\_libs\\hashtable_class_helper.pxi\u001b[0m in \u001b[0;36mpandas._libs.hashtable.PyObjectHashTable.get_item\u001b[1;34m()\u001b[0m\n",
      "\u001b[1;32mpandas\\_libs\\hashtable_class_helper.pxi\u001b[0m in \u001b[0;36mpandas._libs.hashtable.PyObjectHashTable.get_item\u001b[1;34m()\u001b[0m\n",
      "\u001b[1;31mKeyError\u001b[0m: 'category_str'",
      "\nDuring handling of the above exception, another exception occurred:\n",
      "\u001b[1;31mKeyError\u001b[0m                                  Traceback (most recent call last)",
      "\u001b[1;32m<ipython-input-10-fdd6e4552395>\u001b[0m in \u001b[0;36m<module>\u001b[1;34m\u001b[0m\n\u001b[0;32m      1\u001b[0m \u001b[1;31m#products['ship_from_proper'] = products['ship_from'].apply(lambda x: x.title())\u001b[0m\u001b[1;33m\u001b[0m\u001b[1;33m\u001b[0m\u001b[1;33m\u001b[0m\u001b[0m\n\u001b[0;32m      2\u001b[0m \u001b[0mproducts\u001b[0m\u001b[1;33m[\u001b[0m\u001b[1;34m'ship_to_proper'\u001b[0m\u001b[1;33m]\u001b[0m \u001b[1;33m=\u001b[0m \u001b[0mproducts\u001b[0m\u001b[1;33m[\u001b[0m\u001b[1;34m'ship_to'\u001b[0m\u001b[1;33m]\u001b[0m\u001b[1;33m.\u001b[0m\u001b[0mapply\u001b[0m\u001b[1;33m(\u001b[0m\u001b[1;32mlambda\u001b[0m \u001b[0mx\u001b[0m\u001b[1;33m:\u001b[0m \u001b[0mx\u001b[0m\u001b[1;33m.\u001b[0m\u001b[0mtitle\u001b[0m\u001b[1;33m(\u001b[0m\u001b[1;33m)\u001b[0m\u001b[1;33m)\u001b[0m\u001b[1;33m\u001b[0m\u001b[1;33m\u001b[0m\u001b[0m\n\u001b[1;32m----> 3\u001b[1;33m \u001b[0mproducts\u001b[0m\u001b[1;33m[\u001b[0m\u001b[1;34m'category_str'\u001b[0m\u001b[1;33m]\u001b[0m\u001b[1;33m.\u001b[0m\u001b[0mfillna\u001b[0m\u001b[1;33m(\u001b[0m\u001b[1;34m' '\u001b[0m\u001b[1;33m,\u001b[0m \u001b[0minplace\u001b[0m\u001b[1;33m=\u001b[0m\u001b[1;32mTrue\u001b[0m\u001b[1;33m)\u001b[0m\u001b[1;33m\u001b[0m\u001b[1;33m\u001b[0m\u001b[0m\n\u001b[0m\u001b[0;32m      4\u001b[0m \u001b[0mproducts\u001b[0m\u001b[1;33m[\u001b[0m\u001b[1;34m'category_num'\u001b[0m\u001b[1;33m]\u001b[0m\u001b[1;33m.\u001b[0m\u001b[0mfillna\u001b[0m\u001b[1;33m(\u001b[0m\u001b[1;34m' '\u001b[0m\u001b[1;33m,\u001b[0m \u001b[0minplace\u001b[0m\u001b[1;33m=\u001b[0m\u001b[1;32mTrue\u001b[0m\u001b[1;33m)\u001b[0m\u001b[1;33m\u001b[0m\u001b[1;33m\u001b[0m\u001b[0m\n",
      "\u001b[1;32m~\\anaconda3\\lib\\site-packages\\pandas\\core\\frame.py\u001b[0m in \u001b[0;36m__getitem__\u001b[1;34m(self, key)\u001b[0m\n\u001b[0;32m   2798\u001b[0m             \u001b[1;32mif\u001b[0m \u001b[0mself\u001b[0m\u001b[1;33m.\u001b[0m\u001b[0mcolumns\u001b[0m\u001b[1;33m.\u001b[0m\u001b[0mnlevels\u001b[0m \u001b[1;33m>\u001b[0m \u001b[1;36m1\u001b[0m\u001b[1;33m:\u001b[0m\u001b[1;33m\u001b[0m\u001b[1;33m\u001b[0m\u001b[0m\n\u001b[0;32m   2799\u001b[0m                 \u001b[1;32mreturn\u001b[0m \u001b[0mself\u001b[0m\u001b[1;33m.\u001b[0m\u001b[0m_getitem_multilevel\u001b[0m\u001b[1;33m(\u001b[0m\u001b[0mkey\u001b[0m\u001b[1;33m)\u001b[0m\u001b[1;33m\u001b[0m\u001b[1;33m\u001b[0m\u001b[0m\n\u001b[1;32m-> 2800\u001b[1;33m             \u001b[0mindexer\u001b[0m \u001b[1;33m=\u001b[0m \u001b[0mself\u001b[0m\u001b[1;33m.\u001b[0m\u001b[0mcolumns\u001b[0m\u001b[1;33m.\u001b[0m\u001b[0mget_loc\u001b[0m\u001b[1;33m(\u001b[0m\u001b[0mkey\u001b[0m\u001b[1;33m)\u001b[0m\u001b[1;33m\u001b[0m\u001b[1;33m\u001b[0m\u001b[0m\n\u001b[0m\u001b[0;32m   2801\u001b[0m             \u001b[1;32mif\u001b[0m \u001b[0mis_integer\u001b[0m\u001b[1;33m(\u001b[0m\u001b[0mindexer\u001b[0m\u001b[1;33m)\u001b[0m\u001b[1;33m:\u001b[0m\u001b[1;33m\u001b[0m\u001b[1;33m\u001b[0m\u001b[0m\n\u001b[0;32m   2802\u001b[0m                 \u001b[0mindexer\u001b[0m \u001b[1;33m=\u001b[0m \u001b[1;33m[\u001b[0m\u001b[0mindexer\u001b[0m\u001b[1;33m]\u001b[0m\u001b[1;33m\u001b[0m\u001b[1;33m\u001b[0m\u001b[0m\n",
      "\u001b[1;32m~\\anaconda3\\lib\\site-packages\\pandas\\core\\indexes\\base.py\u001b[0m in \u001b[0;36mget_loc\u001b[1;34m(self, key, method, tolerance)\u001b[0m\n\u001b[0;32m   2646\u001b[0m                 \u001b[1;32mreturn\u001b[0m \u001b[0mself\u001b[0m\u001b[1;33m.\u001b[0m\u001b[0m_engine\u001b[0m\u001b[1;33m.\u001b[0m\u001b[0mget_loc\u001b[0m\u001b[1;33m(\u001b[0m\u001b[0mkey\u001b[0m\u001b[1;33m)\u001b[0m\u001b[1;33m\u001b[0m\u001b[1;33m\u001b[0m\u001b[0m\n\u001b[0;32m   2647\u001b[0m             \u001b[1;32mexcept\u001b[0m \u001b[0mKeyError\u001b[0m\u001b[1;33m:\u001b[0m\u001b[1;33m\u001b[0m\u001b[1;33m\u001b[0m\u001b[0m\n\u001b[1;32m-> 2648\u001b[1;33m                 \u001b[1;32mreturn\u001b[0m \u001b[0mself\u001b[0m\u001b[1;33m.\u001b[0m\u001b[0m_engine\u001b[0m\u001b[1;33m.\u001b[0m\u001b[0mget_loc\u001b[0m\u001b[1;33m(\u001b[0m\u001b[0mself\u001b[0m\u001b[1;33m.\u001b[0m\u001b[0m_maybe_cast_indexer\u001b[0m\u001b[1;33m(\u001b[0m\u001b[0mkey\u001b[0m\u001b[1;33m)\u001b[0m\u001b[1;33m)\u001b[0m\u001b[1;33m\u001b[0m\u001b[1;33m\u001b[0m\u001b[0m\n\u001b[0m\u001b[0;32m   2649\u001b[0m         \u001b[0mindexer\u001b[0m \u001b[1;33m=\u001b[0m \u001b[0mself\u001b[0m\u001b[1;33m.\u001b[0m\u001b[0mget_indexer\u001b[0m\u001b[1;33m(\u001b[0m\u001b[1;33m[\u001b[0m\u001b[0mkey\u001b[0m\u001b[1;33m]\u001b[0m\u001b[1;33m,\u001b[0m \u001b[0mmethod\u001b[0m\u001b[1;33m=\u001b[0m\u001b[0mmethod\u001b[0m\u001b[1;33m,\u001b[0m \u001b[0mtolerance\u001b[0m\u001b[1;33m=\u001b[0m\u001b[0mtolerance\u001b[0m\u001b[1;33m)\u001b[0m\u001b[1;33m\u001b[0m\u001b[1;33m\u001b[0m\u001b[0m\n\u001b[0;32m   2650\u001b[0m         \u001b[1;32mif\u001b[0m \u001b[0mindexer\u001b[0m\u001b[1;33m.\u001b[0m\u001b[0mndim\u001b[0m \u001b[1;33m>\u001b[0m \u001b[1;36m1\u001b[0m \u001b[1;32mor\u001b[0m \u001b[0mindexer\u001b[0m\u001b[1;33m.\u001b[0m\u001b[0msize\u001b[0m \u001b[1;33m>\u001b[0m \u001b[1;36m1\u001b[0m\u001b[1;33m:\u001b[0m\u001b[1;33m\u001b[0m\u001b[1;33m\u001b[0m\u001b[0m\n",
      "\u001b[1;32mpandas\\_libs\\index.pyx\u001b[0m in \u001b[0;36mpandas._libs.index.IndexEngine.get_loc\u001b[1;34m()\u001b[0m\n",
      "\u001b[1;32mpandas\\_libs\\index.pyx\u001b[0m in \u001b[0;36mpandas._libs.index.IndexEngine.get_loc\u001b[1;34m()\u001b[0m\n",
      "\u001b[1;32mpandas\\_libs\\hashtable_class_helper.pxi\u001b[0m in \u001b[0;36mpandas._libs.hashtable.PyObjectHashTable.get_item\u001b[1;34m()\u001b[0m\n",
      "\u001b[1;32mpandas\\_libs\\hashtable_class_helper.pxi\u001b[0m in \u001b[0;36mpandas._libs.hashtable.PyObjectHashTable.get_item\u001b[1;34m()\u001b[0m\n",
      "\u001b[1;31mKeyError\u001b[0m: 'category_str'"
     ]
    }
   ],
   "source": [
    "#products['ship_from_proper'] = products['ship_from'].apply(lambda x: x.title())\n",
    "products['ship_to_proper'] = products['ship_to'].apply(lambda x: x.title())\n",
    "products['category_str'].fillna(' ', inplace=True)\n",
    "products['category_num'].fillna(' ', inplace=True)"
   ]
  },
  {
   "cell_type": "code",
   "execution_count": null,
   "metadata": {},
   "outputs": [],
   "source": [
    "products['shipping_options_revised'] = products['shipping_options'].str.replace(r'\\n', ' ')\n",
    "products['shipping_options_revised'] = products['shipping_options_revised'].str.replace('\\t', ' ')"
   ]
  },
  {
   "cell_type": "code",
   "execution_count": null,
   "metadata": {},
   "outputs": [],
   "source": [
    "products.head()"
   ]
  },
  {
   "cell_type": "code",
   "execution_count": null,
   "metadata": {},
   "outputs": [],
   "source": []
  },
  {
   "cell_type": "code",
   "execution_count": null,
   "metadata": {},
   "outputs": [],
   "source": []
  },
  {
   "cell_type": "code",
   "execution_count": null,
   "metadata": {},
   "outputs": [],
   "source": []
  },
  {
   "cell_type": "code",
   "execution_count": null,
   "metadata": {},
   "outputs": [],
   "source": []
  },
  {
   "cell_type": "code",
   "execution_count": null,
   "metadata": {},
   "outputs": [],
   "source": []
  },
  {
   "cell_type": "markdown",
   "metadata": {},
   "source": [
    "## EDA"
   ]
  },
  {
   "cell_type": "code",
   "execution_count": null,
   "metadata": {},
   "outputs": [],
   "source": [
    "utils.stats_summary(products['adj_price'])"
   ]
  },
  {
   "cell_type": "code",
   "execution_count": null,
   "metadata": {},
   "outputs": [],
   "source": [
    "plt.figure(figsize=(25,8))\n",
    "less_than_100 = products[products['adj_price'] < 100]['adj_price']\n",
    "sns.distplot(less_than_100)\n",
    "plt.title('Price Distribution of Products Less Than 100', fontsize= 20);\n",
    "print('# - Goods Less Than $100: ', len(less_than_100))\n",
    "print('% - Total Good Less Than $100: {:.1%}'.format(len(less_than_100) / products.shape[0]))"
   ]
  },
  {
   "cell_type": "code",
   "execution_count": null,
   "metadata": {},
   "outputs": [],
   "source": []
  }
 ],
 "metadata": {
  "kernelspec": {
   "display_name": "Python 3",
   "language": "python",
   "name": "python3"
  },
  "language_info": {
   "codemirror_mode": {
    "name": "ipython",
    "version": 3
   },
   "file_extension": ".py",
   "mimetype": "text/x-python",
   "name": "python",
   "nbconvert_exporter": "python",
   "pygments_lexer": "ipython3",
   "version": "3.7.6"
  }
 },
 "nbformat": 4,
 "nbformat_minor": 4
}
