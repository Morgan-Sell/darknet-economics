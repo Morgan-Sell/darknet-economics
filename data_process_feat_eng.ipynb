{
 "cells": [
  {
   "cell_type": "code",
   "execution_count": 1,
   "metadata": {},
   "outputs": [],
   "source": [
    "import pandas as pd\n",
    "import numpy as np\n",
    "\n",
    "import matplotlib.pyplot as plt\n",
    "import seaborn as sns\n",
    "%matplotlib inline\n",
    "\n",
    "import re\n",
    "import utils\n",
    "from bs4 import BeautifulSoup\n",
    "\n",
    "import nltk"
   ]
  },
  {
   "cell_type": "code",
   "execution_count": 2,
   "metadata": {},
   "outputs": [
    {
     "name": "stderr",
     "output_type": "stream",
     "text": [
      "C:\\Users\\morga\\anaconda3\\lib\\site-packages\\IPython\\core\\interactiveshell.py:3072: DtypeWarning: Columns (7) have mixed types.Specify dtype option on import or set low_memory=False.\n",
      "  interactivity=interactivity, compiler=compiler, result=result)\n"
     ]
    }
   ],
   "source": [
    "products = pd.read_csv('data/DreamMarket_master_product.csv')"
   ]
  },
  {
   "cell_type": "code",
   "execution_count": 3,
   "metadata": {},
   "outputs": [],
   "source": [
    "#utils.plot_null_val_heatmap(products_v2, 'Null Values of Raw \"Products\" Dataset')"
   ]
  },
  {
   "cell_type": "markdown",
   "metadata": {},
   "source": [
    "## Reference Objects"
   ]
  },
  {
   "cell_type": "code",
   "execution_count": 4,
   "metadata": {},
   "outputs": [],
   "source": [
    "country_map = {'united states': 'usa', 'united kingdom' :'uk', 'dutch': 'netherlands', 'ww': 'worldwide', 'holland': 'netherlands', 'amsterdam': 'netherlands', 'nederland': 'netherlands',\n",
    "              'españa': 'spain', 'au': 'australia', 'deutschland': 'germany'}"
   ]
  },
  {
   "cell_type": "code",
   "execution_count": null,
   "metadata": {},
   "outputs": [],
   "source": []
  },
  {
   "cell_type": "markdown",
   "metadata": {},
   "source": [
    "## Functions - Add to utils.py"
   ]
  },
  {
   "cell_type": "code",
   "execution_count": null,
   "metadata": {},
   "outputs": [],
   "source": []
  },
  {
   "cell_type": "markdown",
   "metadata": {},
   "source": [
    "## Review Raw Data"
   ]
  },
  {
   "cell_type": "code",
   "execution_count": 5,
   "metadata": {},
   "outputs": [
    {
     "name": "stdout",
     "output_type": "stream",
     "text": [
      "<class 'pandas.core.frame.DataFrame'>\n",
      "RangeIndex: 130936 entries, 0 to 130935\n",
      "Data columns (total 18 columns):\n",
      " #   Column            Non-Null Count   Dtype  \n",
      "---  ------            --------------   -----  \n",
      " 0   seqNo             39473 non-null   float64\n",
      " 1   product_name      130936 non-null  object \n",
      " 2   category          130936 non-null  object \n",
      " 3   description       130936 non-null  object \n",
      " 4   shipping_options  130936 non-null  object \n",
      " 5   keywords          130936 non-null  object \n",
      " 6   seller_name       130936 non-null  object \n",
      " 7   price             130936 non-null  object \n",
      " 8   payment_method    130936 non-null  object \n",
      " 9   sold_since        130936 non-null  object \n",
      " 10  ends_in           130936 non-null  object \n",
      " 11  quantity_sold     130936 non-null  object \n",
      " 12  quantity_left     130936 non-null  object \n",
      " 13  refundPolicy      130936 non-null  object \n",
      " 14  market_name       130936 non-null  object \n",
      " 15  ship_from         130932 non-null  object \n",
      " 16  ship_to           130936 non-null  object \n",
      " 17  idproduct         91463 non-null   float64\n",
      "dtypes: float64(2), object(16)\n",
      "memory usage: 18.0+ MB\n"
     ]
    }
   ],
   "source": [
    "products.info()"
   ]
  },
  {
   "cell_type": "code",
   "execution_count": 6,
   "metadata": {},
   "outputs": [
    {
     "name": "stdout",
     "output_type": "stream",
     "text": [
      "sold_since: ['-']\n",
      "ends_in: ['-']\n",
      "quantity_sold: ['-']\n",
      "quantity_left: ['-']\n",
      "refundPolicy: ['-']\n",
      "keywords: ['-']\n",
      "market_name: ['Dream']\n"
     ]
    }
   ],
   "source": [
    "cols_to_review = ['sold_since', 'ends_in', 'quantity_sold', 'quantity_left', 'refundPolicy', 'keywords', 'market_name']\n",
    "for x in cols_to_review:\n",
    "    print('{}: {}'.format(x, products[x].unique()))"
   ]
  },
  {
   "cell_type": "code",
   "execution_count": 7,
   "metadata": {},
   "outputs": [],
   "source": [
    "def select_non_null_value(x, y):\n",
    "    '''\n",
    "    Returns the non-null value. \n",
    "    If neither value is null, returns x.\n",
    "    \n",
    "    Args:\n",
    "        x (float) : Float or\n",
    "        y (float) : number of integer in the product id excluding the year.\n",
    "         \n",
    "    Return:\n",
    "        res : Non-null value\n",
    "    '''\n",
    "    \n",
    "    if not np.isnan(x):\n",
    "        res = x\n",
    "    else:\n",
    "        res = y\n",
    "    return res\n",
    "\n",
    "def create_product_id(seq, num_ints, year):\n",
    "    '''\n",
    "    Creates a product id by merging the initial sequence number or product id with the year the product was offered.\n",
    "    Adds zeros to the front of the \"seq\" value to ensure number of integers.\n",
    "    \n",
    "    Args:\n",
    "        seq (int) : A sequence of numbers.\n",
    "        num_int (int) : number of integer in the product id excluding the year.\n",
    "        year (int) : Four digits.\n",
    "        \n",
    "    Return:\n",
    "        product_id (str) : Identifier for the product. Format is \"yy-nnnnnn\". Number of digits (\"n\") can vary.\n",
    "    \n",
    "    '''\n",
    "    \n",
    "    seq_str = str(int(seq)).zfill(num_ints)\n",
    "    year_str = str(year)[2:]\n",
    "    product_id = year_str + '-' + seq_str\n",
    "    \n",
    "#     try:\n",
    "        \n",
    "#     except:\n",
    "#         product_id = np.nan\n",
    "        \n",
    "         \n",
    "    return product_id"
   ]
  },
  {
   "cell_type": "markdown",
   "metadata": {},
   "source": [
    "## Text Cleaning"
   ]
  },
  {
   "cell_type": "code",
   "execution_count": 8,
   "metadata": {},
   "outputs": [],
   "source": [
    "products_v2 = products.drop(cols_to_review, axis=1)"
   ]
  },
  {
   "cell_type": "code",
   "execution_count": 9,
   "metadata": {},
   "outputs": [],
   "source": [
    "# Create sale year of posting\n",
    "products_v2['is_2016'] = products_v2['idproduct'].isnull()\n",
    "products_v2['year_posted'] = products_v2['is_2016'].apply(lambda x: 2016 if True else 2017)\n",
    "products_v2.drop('is_2016', axis=1, inplace=True)\n",
    "\n",
    "# Convert listing price from string to float.\n",
    "products_v2['adj_price'] = products_v2['price'].apply(lambda x: utils.convert_price_to_float(x))"
   ]
  },
  {
   "cell_type": "code",
   "execution_count": 10,
   "metadata": {},
   "outputs": [
    {
     "data": {
      "text/html": [
       "<div>\n",
       "<style scoped>\n",
       "    .dataframe tbody tr th:only-of-type {\n",
       "        vertical-align: middle;\n",
       "    }\n",
       "\n",
       "    .dataframe tbody tr th {\n",
       "        vertical-align: top;\n",
       "    }\n",
       "\n",
       "    .dataframe thead th {\n",
       "        text-align: right;\n",
       "    }\n",
       "</style>\n",
       "<table border=\"1\" class=\"dataframe\">\n",
       "  <thead>\n",
       "    <tr style=\"text-align: right;\">\n",
       "      <th></th>\n",
       "      <th>seqNo</th>\n",
       "      <th>product_name</th>\n",
       "      <th>category</th>\n",
       "      <th>description</th>\n",
       "      <th>shipping_options</th>\n",
       "      <th>seller_name</th>\n",
       "      <th>price</th>\n",
       "      <th>payment_method</th>\n",
       "      <th>ship_from</th>\n",
       "      <th>ship_to</th>\n",
       "      <th>idproduct</th>\n",
       "      <th>year_posted</th>\n",
       "      <th>adj_price</th>\n",
       "    </tr>\n",
       "  </thead>\n",
       "  <tbody>\n",
       "    <tr>\n",
       "      <th>0</th>\n",
       "      <td>1.0</td>\n",
       "      <td>503 - Forwarding failure (Privoxy@localhost)</td>\n",
       "      <td>-</td>\n",
       "      <td>-</td>\n",
       "      <td>-</td>\n",
       "      <td>-</td>\n",
       "      <td>-</td>\n",
       "      <td>-</td>\n",
       "      <td>-</td>\n",
       "      <td>-</td>\n",
       "      <td>NaN</td>\n",
       "      <td>2016</td>\n",
       "      <td>NaN</td>\n",
       "    </tr>\n",
       "    <tr>\n",
       "      <th>1</th>\n",
       "      <td>2.0</td>\n",
       "      <td>OG KUSH 1/2 OZ $125 AAAA+</td>\n",
       "      <td>Drugs \\n\\t\\t41793</td>\n",
       "      <td>OG Kush makes up the genetic backbone of West ...</td>\n",
       "      <td>\\n\\n\\n$15.99\\t\\t\\t\\t\\t\\nCANADA WIDE\\n\\n\\n\\n\\n\\...</td>\n",
       "      <td>GWLOVE</td>\n",
       "      <td>$125</td>\n",
       "      <td>Escrow Yes</td>\n",
       "      <td>CANADA</td>\n",
       "      <td>Worldwide Worldwide</td>\n",
       "      <td>NaN</td>\n",
       "      <td>2016</td>\n",
       "      <td>125.0</td>\n",
       "    </tr>\n",
       "    <tr>\n",
       "      <th>2</th>\n",
       "      <td>3.0</td>\n",
       "      <td>Dream Market Login - Featured anonymous market...</td>\n",
       "      <td>-</td>\n",
       "      <td>-</td>\n",
       "      <td>-</td>\n",
       "      <td>-</td>\n",
       "      <td>-</td>\n",
       "      <td>-</td>\n",
       "      <td>-</td>\n",
       "      <td>-</td>\n",
       "      <td>NaN</td>\n",
       "      <td>2016</td>\n",
       "      <td>NaN</td>\n",
       "    </tr>\n",
       "    <tr>\n",
       "      <th>3</th>\n",
       "      <td>4.0</td>\n",
       "      <td>Every drug available on request</td>\n",
       "      <td>Drugs \\n\\t\\t41804</td>\n",
       "      <td>Every kind of medicine I can arrange . Send me...</td>\n",
       "      <td>-</td>\n",
       "      <td>Hectorstuff</td>\n",
       "      <td>$1</td>\n",
       "      <td>Escrow Yes</td>\n",
       "      <td>dutch</td>\n",
       "      <td>Worldwide Worldwide</td>\n",
       "      <td>NaN</td>\n",
       "      <td>2016</td>\n",
       "      <td>1.0</td>\n",
       "    </tr>\n",
       "    <tr>\n",
       "      <th>4</th>\n",
       "      <td>5.0</td>\n",
       "      <td>Debug, Learn how crack windows</td>\n",
       "      <td>Digital Goods \\n\\t\\t29334</td>\n",
       "      <td>Debug, Learn how crack windows</td>\n",
       "      <td>-</td>\n",
       "      <td>darkmarket</td>\n",
       "      <td>$1</td>\n",
       "      <td>Escrow Yes</td>\n",
       "      <td>Worldwide</td>\n",
       "      <td>Worldwide Worldwide</td>\n",
       "      <td>NaN</td>\n",
       "      <td>2016</td>\n",
       "      <td>1.0</td>\n",
       "    </tr>\n",
       "  </tbody>\n",
       "</table>\n",
       "</div>"
      ],
      "text/plain": [
       "   seqNo                                       product_name  \\\n",
       "0    1.0       503 - Forwarding failure (Privoxy@localhost)   \n",
       "1    2.0                          OG KUSH 1/2 OZ $125 AAAA+   \n",
       "2    3.0  Dream Market Login - Featured anonymous market...   \n",
       "3    4.0                    Every drug available on request   \n",
       "4    5.0                     Debug, Learn how crack windows   \n",
       "\n",
       "                    category  \\\n",
       "0                          -   \n",
       "1          Drugs \\n\\t\\t41793   \n",
       "2                          -   \n",
       "3          Drugs \\n\\t\\t41804   \n",
       "4  Digital Goods \\n\\t\\t29334   \n",
       "\n",
       "                                         description  \\\n",
       "0                                                  -   \n",
       "1  OG Kush makes up the genetic backbone of West ...   \n",
       "2                                                  -   \n",
       "3  Every kind of medicine I can arrange . Send me...   \n",
       "4                    Debug, Learn how crack windows    \n",
       "\n",
       "                                    shipping_options  seller_name price  \\\n",
       "0                                                  -            -     -   \n",
       "1  \\n\\n\\n$15.99\\t\\t\\t\\t\\t\\nCANADA WIDE\\n\\n\\n\\n\\n\\...       GWLOVE  $125   \n",
       "2                                                  -            -     -   \n",
       "3                                                  -  Hectorstuff    $1   \n",
       "4                                                  -   darkmarket    $1   \n",
       "\n",
       "  payment_method  ship_from              ship_to  idproduct  year_posted  \\\n",
       "0              -          -                    -        NaN         2016   \n",
       "1     Escrow Yes     CANADA  Worldwide Worldwide        NaN         2016   \n",
       "2              -          -                    -        NaN         2016   \n",
       "3     Escrow Yes      dutch  Worldwide Worldwide        NaN         2016   \n",
       "4     Escrow Yes  Worldwide  Worldwide Worldwide        NaN         2016   \n",
       "\n",
       "   adj_price  \n",
       "0        NaN  \n",
       "1      125.0  \n",
       "2        NaN  \n",
       "3        1.0  \n",
       "4        1.0  "
      ]
     },
     "execution_count": 10,
     "metadata": {},
     "output_type": "execute_result"
    }
   ],
   "source": [
    "products_v2.head()"
   ]
  },
  {
   "cell_type": "code",
   "execution_count": 11,
   "metadata": {},
   "outputs": [],
   "source": [
    "# Create master product id\n",
    "num_ints_for_product_id = 6\n",
    "products_v2['merged_id'] = products_v2.apply(lambda x: utils.select_non_null_value(x['seqNo'], x['idproduct']), axis=1)\n",
    "products_v2['master_product_id'] = products_v2.apply(lambda x: utils.create_product_id(x['merged_id'], num_ints_for_product_id, x['year_posted']), axis=1)\n",
    "\n",
    "id_drop_cols = ['seqNo', 'idproduct', 'merged_id']\n",
    "products_v2.drop(id_drop_cols, axis=1, inplace=True)"
   ]
  },
  {
   "cell_type": "code",
   "execution_count": 12,
   "metadata": {},
   "outputs": [
    {
     "data": {
      "text/html": [
       "<div>\n",
       "<style scoped>\n",
       "    .dataframe tbody tr th:only-of-type {\n",
       "        vertical-align: middle;\n",
       "    }\n",
       "\n",
       "    .dataframe tbody tr th {\n",
       "        vertical-align: top;\n",
       "    }\n",
       "\n",
       "    .dataframe thead th {\n",
       "        text-align: right;\n",
       "    }\n",
       "</style>\n",
       "<table border=\"1\" class=\"dataframe\">\n",
       "  <thead>\n",
       "    <tr style=\"text-align: right;\">\n",
       "      <th></th>\n",
       "      <th>product_name</th>\n",
       "      <th>category</th>\n",
       "      <th>description</th>\n",
       "      <th>shipping_options</th>\n",
       "      <th>seller_name</th>\n",
       "      <th>price</th>\n",
       "      <th>payment_method</th>\n",
       "      <th>ship_from</th>\n",
       "      <th>ship_to</th>\n",
       "      <th>year_posted</th>\n",
       "      <th>adj_price</th>\n",
       "      <th>master_product_id</th>\n",
       "    </tr>\n",
       "  </thead>\n",
       "  <tbody>\n",
       "    <tr>\n",
       "      <th>0</th>\n",
       "      <td>503 - Forwarding failure (Privoxy@localhost)</td>\n",
       "      <td>-</td>\n",
       "      <td>-</td>\n",
       "      <td>-</td>\n",
       "      <td>-</td>\n",
       "      <td>-</td>\n",
       "      <td>-</td>\n",
       "      <td>-</td>\n",
       "      <td>-</td>\n",
       "      <td>2016</td>\n",
       "      <td>NaN</td>\n",
       "      <td>16-000001</td>\n",
       "    </tr>\n",
       "    <tr>\n",
       "      <th>1</th>\n",
       "      <td>OG KUSH 1/2 OZ $125 AAAA+</td>\n",
       "      <td>Drugs \\n\\t\\t41793</td>\n",
       "      <td>OG Kush makes up the genetic backbone of West ...</td>\n",
       "      <td>\\n\\n\\n$15.99\\t\\t\\t\\t\\t\\nCANADA WIDE\\n\\n\\n\\n\\n\\...</td>\n",
       "      <td>GWLOVE</td>\n",
       "      <td>$125</td>\n",
       "      <td>Escrow Yes</td>\n",
       "      <td>CANADA</td>\n",
       "      <td>Worldwide Worldwide</td>\n",
       "      <td>2016</td>\n",
       "      <td>125.0</td>\n",
       "      <td>16-000002</td>\n",
       "    </tr>\n",
       "    <tr>\n",
       "      <th>2</th>\n",
       "      <td>Dream Market Login - Featured anonymous market...</td>\n",
       "      <td>-</td>\n",
       "      <td>-</td>\n",
       "      <td>-</td>\n",
       "      <td>-</td>\n",
       "      <td>-</td>\n",
       "      <td>-</td>\n",
       "      <td>-</td>\n",
       "      <td>-</td>\n",
       "      <td>2016</td>\n",
       "      <td>NaN</td>\n",
       "      <td>16-000003</td>\n",
       "    </tr>\n",
       "    <tr>\n",
       "      <th>3</th>\n",
       "      <td>Every drug available on request</td>\n",
       "      <td>Drugs \\n\\t\\t41804</td>\n",
       "      <td>Every kind of medicine I can arrange . Send me...</td>\n",
       "      <td>-</td>\n",
       "      <td>Hectorstuff</td>\n",
       "      <td>$1</td>\n",
       "      <td>Escrow Yes</td>\n",
       "      <td>dutch</td>\n",
       "      <td>Worldwide Worldwide</td>\n",
       "      <td>2016</td>\n",
       "      <td>1.0</td>\n",
       "      <td>16-000004</td>\n",
       "    </tr>\n",
       "    <tr>\n",
       "      <th>4</th>\n",
       "      <td>Debug, Learn how crack windows</td>\n",
       "      <td>Digital Goods \\n\\t\\t29334</td>\n",
       "      <td>Debug, Learn how crack windows</td>\n",
       "      <td>-</td>\n",
       "      <td>darkmarket</td>\n",
       "      <td>$1</td>\n",
       "      <td>Escrow Yes</td>\n",
       "      <td>Worldwide</td>\n",
       "      <td>Worldwide Worldwide</td>\n",
       "      <td>2016</td>\n",
       "      <td>1.0</td>\n",
       "      <td>16-000005</td>\n",
       "    </tr>\n",
       "  </tbody>\n",
       "</table>\n",
       "</div>"
      ],
      "text/plain": [
       "                                        product_name  \\\n",
       "0       503 - Forwarding failure (Privoxy@localhost)   \n",
       "1                          OG KUSH 1/2 OZ $125 AAAA+   \n",
       "2  Dream Market Login - Featured anonymous market...   \n",
       "3                    Every drug available on request   \n",
       "4                     Debug, Learn how crack windows   \n",
       "\n",
       "                    category  \\\n",
       "0                          -   \n",
       "1          Drugs \\n\\t\\t41793   \n",
       "2                          -   \n",
       "3          Drugs \\n\\t\\t41804   \n",
       "4  Digital Goods \\n\\t\\t29334   \n",
       "\n",
       "                                         description  \\\n",
       "0                                                  -   \n",
       "1  OG Kush makes up the genetic backbone of West ...   \n",
       "2                                                  -   \n",
       "3  Every kind of medicine I can arrange . Send me...   \n",
       "4                    Debug, Learn how crack windows    \n",
       "\n",
       "                                    shipping_options  seller_name price  \\\n",
       "0                                                  -            -     -   \n",
       "1  \\n\\n\\n$15.99\\t\\t\\t\\t\\t\\nCANADA WIDE\\n\\n\\n\\n\\n\\...       GWLOVE  $125   \n",
       "2                                                  -            -     -   \n",
       "3                                                  -  Hectorstuff    $1   \n",
       "4                                                  -   darkmarket    $1   \n",
       "\n",
       "  payment_method  ship_from              ship_to  year_posted  adj_price  \\\n",
       "0              -          -                    -         2016        NaN   \n",
       "1     Escrow Yes     CANADA  Worldwide Worldwide         2016      125.0   \n",
       "2              -          -                    -         2016        NaN   \n",
       "3     Escrow Yes      dutch  Worldwide Worldwide         2016        1.0   \n",
       "4     Escrow Yes  Worldwide  Worldwide Worldwide         2016        1.0   \n",
       "\n",
       "  master_product_id  \n",
       "0         16-000001  \n",
       "1         16-000002  \n",
       "2         16-000003  \n",
       "3         16-000004  \n",
       "4         16-000005  "
      ]
     },
     "execution_count": 12,
     "metadata": {},
     "output_type": "execute_result"
    }
   ],
   "source": [
    "products_v2.head()"
   ]
  },
  {
   "cell_type": "code",
   "execution_count": null,
   "metadata": {},
   "outputs": [],
   "source": [
    "# Seperate category name and ID.\n",
    "products_v2['category_revised'] = products_v2['category'].str.replace(r'\\n', '')\n",
    "products_v2['category_revised'] = products_v2['category_revised'].str.replace('\\t', '')\n",
    "products_v2['category_name'] = products_v2['category_revised'].str.findall(r'[a-zA-Z ]')\n",
    "products_v2['category_name'] = products_v2['category_name'].apply(lambda x: ''.join(x))\n",
    "products_v2['category_name'] = products_v2['category_name'].apply(lambda x: utils.replace_empty_cell_with_nan(x))\n",
    "\n",
    "\n",
    "products_v2['category_id'] = products_v2['category_revised'].str.findall(r'[\\d+ ]')\n",
    "products_v2['category_id'] = products_v2['category_id'].apply(lambda x: ''.join(x))\n",
    "products_v2['category_id'] = products_v2['category_id'].apply(lambda x: utils.replace_empty_cell_with_nan(x))\n",
    "\n",
    "products_v2.drop(['category', 'category_revised'], axis=1, inplace=True)"
   ]
  },
  {
   "cell_type": "markdown",
   "metadata": {},
   "source": [
    "---\n",
    "## Extract Info From Product Name\n",
    "\n",
    "**Regex Examples:**\n",
    "```\n",
    "df['method_1'] = df['text'].str.findall(r'\\d{1,2}[/-]\\d{1,2}[/-]\\d{2,4}')\n",
    "df['method_2'] = df['text'].str.findall(r'(\\d{1,2}) (Jan|Feb|Mar|Apr|May|Jun|Jul|Aug|Sep|Oct|Nov|Dec)[a-z]* (\\d{2,4})')\n",
    "df['method_3'] = df['text'].str.findall(r'(Jan|Feb|Mar|Apr|May|Jun|Jul|Aug|Sep|Oct|Nov|Dec)[a-z]*[.]* (\\d{1,2})[,]* (\\d{2,4})')\n",
    "df['method_4'] = df['text'].str.findall(r'(?:Jan|Feb|Mar|Apr|May|Jun|Jul|Aug|Sep|Oct|Nov|Dec)[a-z]*[.,]* \\d{4}')\n",
    "df['method_5'] = df['text'].str.findall(r'\\d{1,2}[/-]\\d{4}')\n",
    "df['method_6'] = df['text'].str.findall(r'\\d{4}')\n",
    "```    "
   ]
  },
  {
   "cell_type": "code",
   "execution_count": null,
   "metadata": {},
   "outputs": [],
   "source": [
    "products_v2['prod_name_arr'] = products_v2['product_name'].apply(lambda x: utils.clean_and_split_text(x, r\"[^a-zA-Z0-9$%.@'/_]\",\" \"))"
   ]
  },
  {
   "cell_type": "code",
   "execution_count": null,
   "metadata": {},
   "outputs": [],
   "source": [
    "products_v2.head()"
   ]
  },
  {
   "cell_type": "code",
   "execution_count": null,
   "metadata": {},
   "outputs": [],
   "source": []
  },
  {
   "cell_type": "markdown",
   "metadata": {},
   "source": [
    "---\n",
    "## Extract Info From Description"
   ]
  },
  {
   "cell_type": "code",
   "execution_count": null,
   "metadata": {},
   "outputs": [],
   "source": [
    "products_v2['desc_arr'] = products_v2['description'].apply(lambda x: utils.clean_and_split_text(x, r\"[^a-zA-Z0-9$%.'/_]\",\" \"))"
   ]
  },
  {
   "cell_type": "code",
   "execution_count": null,
   "metadata": {},
   "outputs": [],
   "source": [
    "products_v2.iloc[50:58, :]"
   ]
  },
  {
   "cell_type": "code",
   "execution_count": null,
   "metadata": {},
   "outputs": [],
   "source": []
  },
  {
   "cell_type": "markdown",
   "metadata": {},
   "source": [
    "--- \n",
    "## Extract Info From \"Shipping Options\""
   ]
  },
  {
   "cell_type": "code",
   "execution_count": null,
   "metadata": {},
   "outputs": [],
   "source": [
    "products_v2['shipping_cleaned'] = products_v2['shipping_options'].apply(lambda x: utils.clean_and_split_text(x, r\"[^a-zA-Z0-9$%.'/_]\",\" \"))"
   ]
  },
  {
   "cell_type": "code",
   "execution_count": null,
   "metadata": {},
   "outputs": [],
   "source": [
    "products_v2.iloc[15:20, :]"
   ]
  },
  {
   "cell_type": "code",
   "execution_count": null,
   "metadata": {},
   "outputs": [],
   "source": [
    "products_v2['idproduct'].max()"
   ]
  },
  {
   "cell_type": "code",
   "execution_count": null,
   "metadata": {},
   "outputs": [],
   "source": [
    "products_v2['seqNo'].max()"
   ]
  },
  {
   "cell_type": "code",
   "execution_count": null,
   "metadata": {},
   "outputs": [],
   "source": [
    "products_v2.shape"
   ]
  },
  {
   "cell_type": "markdown",
   "metadata": {},
   "source": [
    "### Ship From Formatting"
   ]
  },
  {
   "cell_type": "code",
   "execution_count": null,
   "metadata": {},
   "outputs": [],
   "source": [
    "# NEED TO FINISH FUNCTION\n",
    "\n",
    "def replace_uk_usa(text):\n",
    "    try:\n",
    "        text = re.sub(r'*united kingdom*', 'uk')\n",
    "        text\n",
    "\n",
    "\n",
    "def lowercase_and_split_string(text):\n",
    "    '''\n",
    "    \n",
    "    \n",
    "    '''\n",
    "    \n",
    "    if type(text) == str:\n",
    "        text = text.lower()\n",
    "        text = text.split(' ')\n",
    "\n",
    "    return text"
   ]
  },
  {
   "cell_type": "code",
   "execution_count": null,
   "metadata": {},
   "outputs": [],
   "source": [
    "products_v2['ship_from_cleaned'] = products_v2['ship_from'].apply(lambda x: lowercase_and_split_string(x))"
   ]
  },
  {
   "cell_type": "code",
   "execution_count": null,
   "metadata": {},
   "outputs": [],
   "source": [
    "ship_from_arr = []\n",
    "for obs in products_v2['ship_from_cleaned']:\n",
    "    if type(obs) == list:\n",
    "        for l in obs:\n",
    "            if l in country_map:\n",
    "                ship_from_arr.append(country_map[l])\n",
    "            else:\n",
    "                ship_from_arr.append(l)\n",
    "ship_from_arr = pd.Series(ship_from_arr)"
   ]
  },
  {
   "cell_type": "code",
   "execution_count": null,
   "metadata": {},
   "outputs": [],
   "source": [
    "print('Length - Original : ', products_v2.shape[0])\n",
    "print('# of Unique Values - Original', len(products_v2['ship_from'].unique()))\n",
    "\n",
    "print('Length - Revised: ', len(ship_from_arr))\n",
    "print('# of Unique Value - Original: ', len(ship_from_arr.unique()))"
   ]
  },
  {
   "cell_type": "code",
   "execution_count": null,
   "metadata": {},
   "outputs": [],
   "source": [
    "ship_from_arr.value_counts()[:10]"
   ]
  },
  {
   "cell_type": "code",
   "execution_count": null,
   "metadata": {},
   "outputs": [],
   "source": [
    "products_v2.head()"
   ]
  },
  {
   "cell_type": "markdown",
   "metadata": {},
   "source": []
  },
  {
   "cell_type": "code",
   "execution_count": null,
   "metadata": {},
   "outputs": [],
   "source": []
  },
  {
   "cell_type": "code",
   "execution_count": null,
   "metadata": {},
   "outputs": [],
   "source": []
  },
  {
   "cell_type": "code",
   "execution_count": null,
   "metadata": {},
   "outputs": [],
   "source": []
  },
  {
   "cell_type": "code",
   "execution_count": null,
   "metadata": {},
   "outputs": [],
   "source": [
    "products_v2.iloc[100100:100110, :]"
   ]
  },
  {
   "cell_type": "code",
   "execution_count": null,
   "metadata": {},
   "outputs": [],
   "source": []
  },
  {
   "cell_type": "code",
   "execution_count": null,
   "metadata": {},
   "outputs": [],
   "source": []
  },
  {
   "cell_type": "code",
   "execution_count": null,
   "metadata": {},
   "outputs": [],
   "source": []
  },
  {
   "cell_type": "code",
   "execution_count": null,
   "metadata": {},
   "outputs": [],
   "source": []
  },
  {
   "cell_type": "code",
   "execution_count": null,
   "metadata": {},
   "outputs": [],
   "source": []
  },
  {
   "cell_type": "code",
   "execution_count": null,
   "metadata": {},
   "outputs": [],
   "source": []
  },
  {
   "cell_type": "markdown",
   "metadata": {},
   "source": [
    "## EDA"
   ]
  },
  {
   "cell_type": "code",
   "execution_count": null,
   "metadata": {},
   "outputs": [],
   "source": [
    "utils.stats_summary(products_v2['adj_price'])"
   ]
  },
  {
   "cell_type": "code",
   "execution_count": null,
   "metadata": {},
   "outputs": [],
   "source": [
    "plt.figure(figsize=(25,8))\n",
    "less_than_100 = products_v2[products_v2['adj_price'] < 100]['adj_price']\n",
    "sns.distplot(less_than_100)\n",
    "plt.title('Price Distribution of Products Less Than 100', fontsize= 20);\n",
    "print('# - Goods Less Than $100: ', len(less_than_100))\n",
    "print('% - Total Good Less Than $100: {:.1%}'.format(len(less_than_100) / products.shape[0]))"
   ]
  },
  {
   "cell_type": "code",
   "execution_count": null,
   "metadata": {},
   "outputs": [],
   "source": [
    "fig, ax = plt.subplots(figsize=(25,12))\n",
    "ax = sns.countplot(x='category_name', data=products_v2)\n",
    "ax.set_title('Distribution of Product Type', fontsize=22)\n",
    "ax.set_xticklabels(ax.get_xticklabels(), rotation=90)\n",
    "plt.tight_layout();"
   ]
  },
  {
   "cell_type": "code",
   "execution_count": null,
   "metadata": {},
   "outputs": [],
   "source": []
  }
 ],
 "metadata": {
  "kernelspec": {
   "display_name": "Python 3",
   "language": "python",
   "name": "python3"
  },
  "language_info": {
   "codemirror_mode": {
    "name": "ipython",
    "version": 3
   },
   "file_extension": ".py",
   "mimetype": "text/x-python",
   "name": "python",
   "nbconvert_exporter": "python",
   "pygments_lexer": "ipython3",
   "version": "3.7.6"
  }
 },
 "nbformat": 4,
 "nbformat_minor": 4
}
