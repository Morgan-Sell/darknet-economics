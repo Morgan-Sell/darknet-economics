{
 "cells": [
  {
   "cell_type": "code",
   "execution_count": 1,
   "metadata": {},
   "outputs": [],
   "source": [
    "import pandas as pd\n",
    "import numpy as np\n",
    "\n",
    "import matplotlib.pyplot as plt\n",
    "import seaborn as sns\n",
    "%matplotlib inline\n",
    "\n",
    "import re\n",
    "import utils"
   ]
  },
  {
   "cell_type": "code",
   "execution_count": 2,
   "metadata": {},
   "outputs": [
    {
     "name": "stderr",
     "output_type": "stream",
     "text": [
      "C:\\Users\\morga\\anaconda3\\lib\\site-packages\\IPython\\core\\interactiveshell.py:3072: DtypeWarning: Columns (7) have mixed types.Specify dtype option on import or set low_memory=False.\n",
      "  interactivity=interactivity, compiler=compiler, result=result)\n"
     ]
    }
   ],
   "source": [
    "products = pd.read_csv('data/DreamMarket_master_product.csv')"
   ]
  },
  {
   "cell_type": "code",
   "execution_count": 3,
   "metadata": {},
   "outputs": [],
   "source": [
    "# utils.plot_null_val_heatmap(products, 'Null Values of Product Dataset')"
   ]
  },
  {
   "cell_type": "markdown",
   "metadata": {},
   "source": [
    "## Functions - Add to utils.py"
   ]
  },
  {
   "cell_type": "code",
   "execution_count": 4,
   "metadata": {},
   "outputs": [],
   "source": [
    "def convert_price_to_float(price):\n",
    "    if price == '-':\n",
    "        adj_price = np.NaN\n",
    "    elif type(price) == float:\n",
    "        adj_price = price\n",
    "    elif type(price) == str:\n",
    "        tmp = price.replace('$', '')\n",
    "        adj_price = tmp.replace(',', '')\n",
    "        adj_price = float(adj_price)\n",
    "    \n",
    "    return adj_price"
   ]
  },
  {
   "cell_type": "markdown",
   "metadata": {},
   "source": [
    "## Clean and Process Data"
   ]
  },
  {
   "cell_type": "code",
   "execution_count": 5,
   "metadata": {},
   "outputs": [],
   "source": [
    "products['is_2016'] = products['idproduct'].isnull()\n",
    "products['year_sold'] = products['is_2016'].apply(lambda x: 2016 if True else 2017)\n",
    "products.drop('is_2016', axis=1, inplace=True)"
   ]
  },
  {
   "cell_type": "code",
   "execution_count": 6,
   "metadata": {},
   "outputs": [],
   "source": [
    "products['adj_price'] = products['price'].apply(lambda x: utils.convert_price_to_float(x))"
   ]
  },
  {
   "cell_type": "code",
   "execution_count": 7,
   "metadata": {},
   "outputs": [
    {
     "data": {
      "text/html": [
       "<div>\n",
       "<style scoped>\n",
       "    .dataframe tbody tr th:only-of-type {\n",
       "        vertical-align: middle;\n",
       "    }\n",
       "\n",
       "    .dataframe tbody tr th {\n",
       "        vertical-align: top;\n",
       "    }\n",
       "\n",
       "    .dataframe thead th {\n",
       "        text-align: right;\n",
       "    }\n",
       "</style>\n",
       "<table border=\"1\" class=\"dataframe\">\n",
       "  <thead>\n",
       "    <tr style=\"text-align: right;\">\n",
       "      <th></th>\n",
       "      <th>seqNo</th>\n",
       "      <th>product_name</th>\n",
       "      <th>category</th>\n",
       "      <th>description</th>\n",
       "      <th>shipping_options</th>\n",
       "      <th>keywords</th>\n",
       "      <th>seller_name</th>\n",
       "      <th>price</th>\n",
       "      <th>payment_method</th>\n",
       "      <th>sold_since</th>\n",
       "      <th>ends_in</th>\n",
       "      <th>quantity_sold</th>\n",
       "      <th>quantity_left</th>\n",
       "      <th>refundPolicy</th>\n",
       "      <th>market_name</th>\n",
       "      <th>ship_from</th>\n",
       "      <th>ship_to</th>\n",
       "      <th>idproduct</th>\n",
       "      <th>year_sold</th>\n",
       "      <th>adj_price</th>\n",
       "    </tr>\n",
       "  </thead>\n",
       "  <tbody>\n",
       "    <tr>\n",
       "      <th>0</th>\n",
       "      <td>1.0</td>\n",
       "      <td>503 - Forwarding failure (Privoxy@localhost)</td>\n",
       "      <td>-</td>\n",
       "      <td>-</td>\n",
       "      <td>-</td>\n",
       "      <td>-</td>\n",
       "      <td>-</td>\n",
       "      <td>-</td>\n",
       "      <td>-</td>\n",
       "      <td>-</td>\n",
       "      <td>-</td>\n",
       "      <td>-</td>\n",
       "      <td>-</td>\n",
       "      <td>-</td>\n",
       "      <td>Dream</td>\n",
       "      <td>-</td>\n",
       "      <td>-</td>\n",
       "      <td>NaN</td>\n",
       "      <td>2016</td>\n",
       "      <td>NaN</td>\n",
       "    </tr>\n",
       "    <tr>\n",
       "      <th>1</th>\n",
       "      <td>2.0</td>\n",
       "      <td>OG KUSH 1/2 OZ $125 AAAA+</td>\n",
       "      <td>Drugs \\n\\t\\t41793</td>\n",
       "      <td>OG Kush makes up the genetic backbone of West ...</td>\n",
       "      <td>\\n\\n\\n$15.99\\t\\t\\t\\t\\t\\nCANADA WIDE\\n\\n\\n\\n\\n\\...</td>\n",
       "      <td>-</td>\n",
       "      <td>GWLOVE</td>\n",
       "      <td>$125</td>\n",
       "      <td>Escrow Yes</td>\n",
       "      <td>-</td>\n",
       "      <td>-</td>\n",
       "      <td>-</td>\n",
       "      <td>-</td>\n",
       "      <td>-</td>\n",
       "      <td>Dream</td>\n",
       "      <td>CANADA</td>\n",
       "      <td>Worldwide Worldwide</td>\n",
       "      <td>NaN</td>\n",
       "      <td>2016</td>\n",
       "      <td>125.0</td>\n",
       "    </tr>\n",
       "    <tr>\n",
       "      <th>2</th>\n",
       "      <td>3.0</td>\n",
       "      <td>Dream Market Login - Featured anonymous market...</td>\n",
       "      <td>-</td>\n",
       "      <td>-</td>\n",
       "      <td>-</td>\n",
       "      <td>-</td>\n",
       "      <td>-</td>\n",
       "      <td>-</td>\n",
       "      <td>-</td>\n",
       "      <td>-</td>\n",
       "      <td>-</td>\n",
       "      <td>-</td>\n",
       "      <td>-</td>\n",
       "      <td>-</td>\n",
       "      <td>Dream</td>\n",
       "      <td>-</td>\n",
       "      <td>-</td>\n",
       "      <td>NaN</td>\n",
       "      <td>2016</td>\n",
       "      <td>NaN</td>\n",
       "    </tr>\n",
       "    <tr>\n",
       "      <th>3</th>\n",
       "      <td>4.0</td>\n",
       "      <td>Every drug available on request</td>\n",
       "      <td>Drugs \\n\\t\\t41804</td>\n",
       "      <td>Every kind of medicine I can arrange . Send me...</td>\n",
       "      <td>-</td>\n",
       "      <td>-</td>\n",
       "      <td>Hectorstuff</td>\n",
       "      <td>$1</td>\n",
       "      <td>Escrow Yes</td>\n",
       "      <td>-</td>\n",
       "      <td>-</td>\n",
       "      <td>-</td>\n",
       "      <td>-</td>\n",
       "      <td>-</td>\n",
       "      <td>Dream</td>\n",
       "      <td>dutch</td>\n",
       "      <td>Worldwide Worldwide</td>\n",
       "      <td>NaN</td>\n",
       "      <td>2016</td>\n",
       "      <td>1.0</td>\n",
       "    </tr>\n",
       "    <tr>\n",
       "      <th>4</th>\n",
       "      <td>5.0</td>\n",
       "      <td>Debug, Learn how crack windows</td>\n",
       "      <td>Digital Goods \\n\\t\\t29334</td>\n",
       "      <td>Debug, Learn how crack windows</td>\n",
       "      <td>-</td>\n",
       "      <td>-</td>\n",
       "      <td>darkmarket</td>\n",
       "      <td>$1</td>\n",
       "      <td>Escrow Yes</td>\n",
       "      <td>-</td>\n",
       "      <td>-</td>\n",
       "      <td>-</td>\n",
       "      <td>-</td>\n",
       "      <td>-</td>\n",
       "      <td>Dream</td>\n",
       "      <td>Worldwide</td>\n",
       "      <td>Worldwide Worldwide</td>\n",
       "      <td>NaN</td>\n",
       "      <td>2016</td>\n",
       "      <td>1.0</td>\n",
       "    </tr>\n",
       "  </tbody>\n",
       "</table>\n",
       "</div>"
      ],
      "text/plain": [
       "   seqNo                                       product_name  \\\n",
       "0    1.0       503 - Forwarding failure (Privoxy@localhost)   \n",
       "1    2.0                          OG KUSH 1/2 OZ $125 AAAA+   \n",
       "2    3.0  Dream Market Login - Featured anonymous market...   \n",
       "3    4.0                    Every drug available on request   \n",
       "4    5.0                     Debug, Learn how crack windows   \n",
       "\n",
       "                    category  \\\n",
       "0                          -   \n",
       "1          Drugs \\n\\t\\t41793   \n",
       "2                          -   \n",
       "3          Drugs \\n\\t\\t41804   \n",
       "4  Digital Goods \\n\\t\\t29334   \n",
       "\n",
       "                                         description  \\\n",
       "0                                                  -   \n",
       "1  OG Kush makes up the genetic backbone of West ...   \n",
       "2                                                  -   \n",
       "3  Every kind of medicine I can arrange . Send me...   \n",
       "4                    Debug, Learn how crack windows    \n",
       "\n",
       "                                    shipping_options keywords  seller_name  \\\n",
       "0                                                  -        -            -   \n",
       "1  \\n\\n\\n$15.99\\t\\t\\t\\t\\t\\nCANADA WIDE\\n\\n\\n\\n\\n\\...        -       GWLOVE   \n",
       "2                                                  -        -            -   \n",
       "3                                                  -        -  Hectorstuff   \n",
       "4                                                  -        -   darkmarket   \n",
       "\n",
       "  price payment_method sold_since ends_in quantity_sold quantity_left  \\\n",
       "0     -              -          -       -             -             -   \n",
       "1  $125     Escrow Yes          -       -             -             -   \n",
       "2     -              -          -       -             -             -   \n",
       "3    $1     Escrow Yes          -       -             -             -   \n",
       "4    $1     Escrow Yes          -       -             -             -   \n",
       "\n",
       "  refundPolicy market_name  ship_from              ship_to  idproduct  \\\n",
       "0            -       Dream          -                    -        NaN   \n",
       "1            -       Dream     CANADA  Worldwide Worldwide        NaN   \n",
       "2            -       Dream          -                    -        NaN   \n",
       "3            -       Dream      dutch  Worldwide Worldwide        NaN   \n",
       "4            -       Dream  Worldwide  Worldwide Worldwide        NaN   \n",
       "\n",
       "   year_sold  adj_price  \n",
       "0       2016        NaN  \n",
       "1       2016      125.0  \n",
       "2       2016        NaN  \n",
       "3       2016        1.0  \n",
       "4       2016        1.0  "
      ]
     },
     "execution_count": 7,
     "metadata": {},
     "output_type": "execute_result"
    }
   ],
   "source": [
    "products.head()"
   ]
  },
  {
   "cell_type": "code",
   "execution_count": 8,
   "metadata": {},
   "outputs": [
    {
     "name": "stdout",
     "output_type": "stream",
     "text": [
      "STATS SUMMARY:\n",
      "Mean:  1471.6691700309912\n",
      "Median:  32.0\n",
      "Std. Dev.:  226317.9385588906\n",
      "Max value:  76949230.0\n",
      "Min value:  0.0\n"
     ]
    }
   ],
   "source": [
    "utils.stats_summary(products['adj_price'])"
   ]
  },
  {
   "cell_type": "code",
   "execution_count": 9,
   "metadata": {},
   "outputs": [
    {
     "data": {
      "text/plain": [
       "<matplotlib.axes._subplots.AxesSubplot at 0x18f27a7a1c8>"
      ]
     },
     "execution_count": 9,
     "metadata": {},
     "output_type": "execute_result"
    },
    {
     "data": {
      "image/png": "[encoded data removed]",
      "text/plain": [
       "<Figure size 432x288 with 1 Axes>"
      ]
     },
     "metadata": {
      "needs_background": "light"
     },
     "output_type": "display_data"
    }
   ],
   "source": [
    "sns.distplot(products['adj_price'])"
   ]
  },
  {
   "cell_type": "code",
   "execution_count": null,
   "metadata": {},
   "outputs": [],
   "source": []
  }
 ],
 "metadata": {
  "kernelspec": {
   "display_name": "Python 3",
   "language": "python",
   "name": "python3"
  },
  "language_info": {
   "codemirror_mode": {
    "name": "ipython",
    "version": 3
   },
   "file_extension": ".py",
   "mimetype": "text/x-python",
   "name": "python",
   "nbconvert_exporter": "python",
   "pygments_lexer": "ipython3",
   "version": "3.7.6"
  }
 },
 "nbformat": 4,
 "nbformat_minor": 4
}
