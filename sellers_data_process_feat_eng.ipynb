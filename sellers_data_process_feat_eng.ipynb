{
 "cells": [
  {
   "cell_type": "markdown",
   "metadata": {},
   "source": [
    "# Darknet Economics - Sellers - Data Processing and Feature Engineering"
   ]
  },
  {
   "cell_type": "code",
   "execution_count": 1,
   "metadata": {},
   "outputs": [],
   "source": [
    "import pandas as pd\n",
    "import numpy as np\n",
    "\n",
    "import matplotlib.pyplot as plt\n",
    "import seaborn as sns\n",
    "%matplotlib inline\n",
    "\n",
    "import re\n",
    "import utils\n",
    "from bs4 import BeautifulSoup\n",
    "\n",
    "import nltk"
   ]
  },
  {
   "cell_type": "code",
   "execution_count": 2,
   "metadata": {},
   "outputs": [],
   "source": [
    "sellers16 = pd.read_csv('data/DreamMarket2016_seller.csv')\n",
    "sellers17 = pd.read_csv('data/DreamMarket2017_seller.csv')"
   ]
  },
  {
   "cell_type": "markdown",
   "metadata": {},
   "source": [
    "## User-defined Functions"
   ]
  },
  {
   "cell_type": "code",
   "execution_count": 21,
   "metadata": {},
   "outputs": [],
   "source": [
    "def convert_str_to_float(string):\n",
    "    '''\n",
    "    Transforms a string to a float.\n",
    "    If string can\n",
    "    \n",
    "    Args:\n",
    "        string (str) : Price is expected to start w/ a \"$\".\n",
    "    \n",
    "    Returns:\n",
    "        adj_price (float) : Float object to be used for calculations/modelinng.\n",
    "    \n",
    "    '''\n",
    "\n",
    "    try:\n",
    "        \n",
    "        if string.isnumeric():\n",
    "            num_val = string\n",
    "        \n",
    "        else:\n",
    "            tmp = re.sub(r'[^0-9.]', '', string)\n",
    "            num_val = float(tmp)\n",
    "                     \n",
    "    except:\n",
    "        num_val = np.NaN\n",
    "    \n",
    "    return num_val\n"
   ]
  },
  {
   "cell_type": "markdown",
   "metadata": {},
   "source": [
    "## Raw Data"
   ]
  },
  {
   "cell_type": "markdown",
   "metadata": {},
   "source": [
    "### 2016"
   ]
  },
  {
   "cell_type": "code",
   "execution_count": 4,
   "metadata": {},
   "outputs": [
    {
     "data": {
      "image/png": "[encoded data removed]",
      "text/plain": [
       "<Figure size 1440x432 with 1 Axes>"
      ]
     },
     "metadata": {
      "needs_background": "light"
     },
     "output_type": "display_data"
    }
   ],
   "source": [
    "utils.plot_null_val_heatmap(sellers16, 'Null Values of Raw \"Sellers 2016\" Dataset', (20,6))"
   ]
  },
  {
   "cell_type": "code",
   "execution_count": 8,
   "metadata": {},
   "outputs": [
    {
     "name": "stdout",
     "output_type": "stream",
     "text": [
      "<class 'pandas.core.frame.DataFrame'>\n",
      "RangeIndex: 690 entries, 0 to 689\n",
      "Data columns (total 11 columns):\n",
      " #   Column              Non-Null Count  Dtype \n",
      "---  ------              --------------  ----- \n",
      " 0   seqNo               690 non-null    int64 \n",
      " 1   seller_name         690 non-null    object\n",
      " 2   member_since        690 non-null    object\n",
      " 3   contracts           690 non-null    object\n",
      " 4   contact             690 non-null    object\n",
      " 5   pgp                 690 non-null    object\n",
      " 6   level               690 non-null    object\n",
      " 7   description         690 non-null    object\n",
      " 8   positive_feedbacks  690 non-null    object\n",
      " 9   negative_feedbacks  690 non-null    object\n",
      " 10  market_name         690 non-null    object\n",
      "dtypes: int64(1), object(10)\n",
      "memory usage: 59.4+ KB\n"
     ]
    }
   ],
   "source": [
    "sellers16.info()"
   ]
  },
  {
   "cell_type": "code",
   "execution_count": 10,
   "metadata": {},
   "outputs": [
    {
     "data": {
      "text/html": [
       "<div>\n",
       "<style scoped>\n",
       "    .dataframe tbody tr th:only-of-type {\n",
       "        vertical-align: middle;\n",
       "    }\n",
       "\n",
       "    .dataframe tbody tr th {\n",
       "        vertical-align: top;\n",
       "    }\n",
       "\n",
       "    .dataframe thead th {\n",
       "        text-align: right;\n",
       "    }\n",
       "</style>\n",
       "<table border=\"1\" class=\"dataframe\">\n",
       "  <thead>\n",
       "    <tr style=\"text-align: right;\">\n",
       "      <th></th>\n",
       "      <th>seqNo</th>\n",
       "      <th>seller_name</th>\n",
       "      <th>member_since</th>\n",
       "      <th>contracts</th>\n",
       "      <th>contact</th>\n",
       "      <th>pgp</th>\n",
       "      <th>level</th>\n",
       "      <th>description</th>\n",
       "      <th>positive_feedbacks</th>\n",
       "      <th>negative_feedbacks</th>\n",
       "      <th>market_name</th>\n",
       "    </tr>\n",
       "  </thead>\n",
       "  <tbody>\n",
       "    <tr>\n",
       "      <th>0</th>\n",
       "      <td>1</td>\n",
       "      <td>0ldamsterdam</td>\n",
       "      <td>13/07/2016</td>\n",
       "      <td>-</td>\n",
       "      <td>-</td>\n",
       "      <td>-----BEGIN PGP PUBLIC KEY BLOCK-----\\nVersion:...</td>\n",
       "      <td>-</td>\n",
       "      <td>\\n-.-.-.-. OLDAMSTERDAM -.-.-.-.\\n\\nwe ship on...</td>\n",
       "      <td>4.83</td>\n",
       "      <td>-</td>\n",
       "      <td>Dream</td>\n",
       "    </tr>\n",
       "    <tr>\n",
       "      <th>1</th>\n",
       "      <td>2</td>\n",
       "      <td>2good4DN</td>\n",
       "      <td>09/05/2016</td>\n",
       "      <td>-</td>\n",
       "      <td>-</td>\n",
       "      <td>-----BEGIN PGP PUBLIC KEY BLOCK-----\\n\\nmQENBF...</td>\n",
       "      <td>-</td>\n",
       "      <td>\\nWe are determined to offer even better produ...</td>\n",
       "      <td>4.76</td>\n",
       "      <td>-</td>\n",
       "      <td>Dream</td>\n",
       "    </tr>\n",
       "    <tr>\n",
       "      <th>2</th>\n",
       "      <td>3</td>\n",
       "      <td>420BLAZEUP</td>\n",
       "      <td>19/09/2016</td>\n",
       "      <td>-</td>\n",
       "      <td>-</td>\n",
       "      <td>-----BEGIN PGP PUBLIC KEY BLOCK-----\\n\\nmQINBF...</td>\n",
       "      <td>-</td>\n",
       "      <td>\\n                420BLAZEUP     \\n\\nWE ARE HE...</td>\n",
       "      <td>4.88</td>\n",
       "      <td>-</td>\n",
       "      <td>Dream</td>\n",
       "    </tr>\n",
       "    <tr>\n",
       "      <th>3</th>\n",
       "      <td>4</td>\n",
       "      <td>420BooBooKittyfk69</td>\n",
       "      <td>12/07/2016</td>\n",
       "      <td>-</td>\n",
       "      <td>-</td>\n",
       "      <td>-----BEGIN PGP PUBLIC KEY BLOCK-----\\n\\nmQINBF...</td>\n",
       "      <td>-</td>\n",
       "      <td>\\nRunning low on stock, if u are interested in...</td>\n",
       "      <td>4.85</td>\n",
       "      <td>-</td>\n",
       "      <td>Dream</td>\n",
       "    </tr>\n",
       "    <tr>\n",
       "      <th>4</th>\n",
       "      <td>5</td>\n",
       "      <td>ACAB2016</td>\n",
       "      <td>15/07/2016</td>\n",
       "      <td>-</td>\n",
       "      <td>-</td>\n",
       "      <td>-----BEGIN PGP PUBLIC KEY BLOCK-----\\n\\nmQENBF...</td>\n",
       "      <td>-</td>\n",
       "      <td>\\nHello, we are up and running again. We can d...</td>\n",
       "      <td>4.6Â</td>\n",
       "      <td>-</td>\n",
       "      <td>Dream</td>\n",
       "    </tr>\n",
       "  </tbody>\n",
       "</table>\n",
       "</div>"
      ],
      "text/plain": [
       "   seqNo         seller_name member_since contracts contact  \\\n",
       "0      1        0ldamsterdam   13/07/2016         -       -   \n",
       "1      2            2good4DN   09/05/2016         -       -   \n",
       "2      3          420BLAZEUP   19/09/2016         -       -   \n",
       "3      4  420BooBooKittyfk69   12/07/2016         -       -   \n",
       "4      5            ACAB2016   15/07/2016         -       -   \n",
       "\n",
       "                                                 pgp level  \\\n",
       "0  -----BEGIN PGP PUBLIC KEY BLOCK-----\\nVersion:...     -   \n",
       "1  -----BEGIN PGP PUBLIC KEY BLOCK-----\\n\\nmQENBF...     -   \n",
       "2  -----BEGIN PGP PUBLIC KEY BLOCK-----\\n\\nmQINBF...     -   \n",
       "3  -----BEGIN PGP PUBLIC KEY BLOCK-----\\n\\nmQINBF...     -   \n",
       "4  -----BEGIN PGP PUBLIC KEY BLOCK-----\\n\\nmQENBF...     -   \n",
       "\n",
       "                                         description positive_feedbacks  \\\n",
       "0  \\n-.-.-.-. OLDAMSTERDAM -.-.-.-.\\n\\nwe ship on...               4.83   \n",
       "1  \\nWe are determined to offer even better produ...               4.76   \n",
       "2  \\n                420BLAZEUP     \\n\\nWE ARE HE...               4.88   \n",
       "3  \\nRunning low on stock, if u are interested in...               4.85   \n",
       "4  \\nHello, we are up and running again. We can d...               4.6Â   \n",
       "\n",
       "  negative_feedbacks market_name  \n",
       "0                  -       Dream  \n",
       "1                  -       Dream  \n",
       "2                  -       Dream  \n",
       "3                  -       Dream  \n",
       "4                  -       Dream  "
      ]
     },
     "execution_count": 10,
     "metadata": {},
     "output_type": "execute_result"
    }
   ],
   "source": [
    "sellers16.head()"
   ]
  },
  {
   "cell_type": "code",
   "execution_count": 17,
   "metadata": {},
   "outputs": [
    {
     "name": "stdout",
     "output_type": "stream",
     "text": [
      "['-']\n",
      "['-']\n",
      "['-']\n",
      "['-']\n",
      "['Dream']\n"
     ]
    }
   ],
   "source": [
    "cols_to_review = ['contracts', 'contact', 'level', 'negative_feedbacks', 'market_name']\n",
    "for col in cols_to_review:\n",
    "    print(sellers16[col].unique())\n",
    "\n",
    "sellers16_v2 = sellers16.drop(cols_to_review, axis=1)"
   ]
  },
  {
   "cell_type": "code",
   "execution_count": 22,
   "metadata": {},
   "outputs": [],
   "source": [
    "sellers16_v2['feedback_cleaned'] = sellers16_v2['positive_feedbacks'].apply(lambda x: convert_str_to_float(x))"
   ]
  },
  {
   "cell_type": "code",
   "execution_count": 64,
   "metadata": {},
   "outputs": [
    {
     "name": "stdout",
     "output_type": "stream",
     "text": [
      "<class 'pandas.core.frame.DataFrame'>\n",
      "RangeIndex: 690 entries, 0 to 689\n",
      "Data columns (total 7 columns):\n",
      " #   Column              Non-Null Count  Dtype  \n",
      "---  ------              --------------  -----  \n",
      " 0   seqNo               690 non-null    int64  \n",
      " 1   seller_name         690 non-null    object \n",
      " 2   member_since        690 non-null    object \n",
      " 3   pgp                 690 non-null    object \n",
      " 4   description         690 non-null    object \n",
      " 5   positive_feedbacks  690 non-null    object \n",
      " 6   feedback_cleaned    690 non-null    float64\n",
      "dtypes: float64(1), int64(1), object(5)\n",
      "memory usage: 37.9+ KB\n"
     ]
    }
   ],
   "source": [
    "sellers16_v2.info()"
   ]
  },
  {
   "cell_type": "markdown",
   "metadata": {},
   "source": [
    "### 2017"
   ]
  },
  {
   "cell_type": "code",
   "execution_count": 5,
   "metadata": {},
   "outputs": [
    {
     "data": {
      "image/png": "[encoded data removed]",
      "text/plain": [
       "<Figure size 1440x432 with 1 Axes>"
      ]
     },
     "metadata": {
      "needs_background": "light"
     },
     "output_type": "display_data"
    }
   ],
   "source": [
    "utils.plot_null_val_heatmap(sellers17, 'Null Values of Raw \"Sellers 2017\" Dataset', (20,6))"
   ]
  },
  {
   "cell_type": "code",
   "execution_count": null,
   "metadata": {},
   "outputs": [],
   "source": [
    "cols_to_review = ['contracts', 'contact', 'level', 'negative_feedbacks', 'market_name']\n",
    "for col in cols_to_review:\n",
    "    print(sellers17[col].unique())\n",
    "    \n",
    "sellers17_v2 = sellers17.drop(cols_to_review, axis=1)"
   ]
  },
  {
   "cell_type": "code",
   "execution_count": null,
   "metadata": {},
   "outputs": [],
   "source": []
  },
  {
   "cell_type": "code",
   "execution_count": 14,
   "metadata": {},
   "outputs": [
    {
     "name": "stdout",
     "output_type": "stream",
     "text": [
      "<class 'pandas.core.frame.DataFrame'>\n",
      "RangeIndex: 2092 entries, 0 to 2091\n",
      "Data columns (total 11 columns):\n",
      " #   Column              Non-Null Count  Dtype \n",
      "---  ------              --------------  ----- \n",
      " 0   seqNo               2092 non-null   int64 \n",
      " 1   seller_name         2092 non-null   object\n",
      " 2   member_since        2092 non-null   object\n",
      " 3   contracts           2092 non-null   object\n",
      " 4   contact             2092 non-null   object\n",
      " 5   pgp                 2092 non-null   object\n",
      " 6   level               2092 non-null   object\n",
      " 7   description         2092 non-null   object\n",
      " 8   positive_feedbacks  2092 non-null   object\n",
      " 9   negative_feedbacks  2092 non-null   object\n",
      " 10  market_name         2092 non-null   object\n",
      "dtypes: int64(1), object(10)\n",
      "memory usage: 179.9+ KB\n"
     ]
    }
   ],
   "source": [
    "sellers17.info()"
   ]
  },
  {
   "cell_type": "markdown",
   "metadata": {},
   "source": [
    "## Cleaning 2017 Data"
   ]
  },
  {
   "cell_type": "code",
   "execution_count": 18,
   "metadata": {},
   "outputs": [
    {
     "name": "stdout",
     "output_type": "stream",
     "text": [
      "['-']\n",
      "['-']\n",
      "['-']\n",
      "['-']\n",
      "['Dream']\n"
     ]
    }
   ],
   "source": [
    "cols_to_review = ['contracts', 'contact', 'level', 'negative_feedbacks', 'market_name']\n",
    "for col in cols_to_review:\n",
    "    print(sellers17[col].unique())\n",
    "    \n",
    "sellers17_v2 = sellers17.drop(cols_to_review, axis=1)"
   ]
  },
  {
   "cell_type": "code",
   "execution_count": 24,
   "metadata": {},
   "outputs": [],
   "source": [
    "sellers17_v2['feedback_cleaned'] = sellers17_v2['positive_feedbacks'].apply(lambda x: convert_str_to_float(x))"
   ]
  },
  {
   "cell_type": "code",
   "execution_count": 63,
   "metadata": {},
   "outputs": [
    {
     "name": "stdout",
     "output_type": "stream",
     "text": [
      "<class 'pandas.core.frame.DataFrame'>\n",
      "RangeIndex: 2092 entries, 0 to 2091\n",
      "Data columns (total 7 columns):\n",
      " #   Column              Non-Null Count  Dtype  \n",
      "---  ------              --------------  -----  \n",
      " 0   seqNo               2092 non-null   int64  \n",
      " 1   seller_name         2092 non-null   object \n",
      " 2   member_since        2092 non-null   object \n",
      " 3   pgp                 2092 non-null   object \n",
      " 4   description         2092 non-null   object \n",
      " 5   positive_feedbacks  2092 non-null   object \n",
      " 6   feedback_cleaned    1978 non-null   float64\n",
      "dtypes: float64(1), int64(1), object(5)\n",
      "memory usage: 114.5+ KB\n"
     ]
    }
   ],
   "source": [
    "sellers17_v2.info()"
   ]
  },
  {
   "cell_type": "markdown",
   "metadata": {},
   "source": [
    "---\n",
    "## EDA"
   ]
  },
  {
   "cell_type": "code",
   "execution_count": 44,
   "metadata": {},
   "outputs": [],
   "source": [
    "ratings16 = sellers16_v2['feedback_cleaned']\n",
    "ratings17 = sellers17_v2['feedback_cleaned']"
   ]
  },
  {
   "cell_type": "code",
   "execution_count": 45,
   "metadata": {},
   "outputs": [
    {
     "data": {
      "image/png": "[encoded data removed]",
      "text/plain": [
       "<Figure size 576x720 with 2 Axes>"
      ]
     },
     "metadata": {
      "needs_background": "light"
     },
     "output_type": "display_data"
    }
   ],
   "source": [
    "fig, (ax1, ax2) = plt.subplots(2, 1, figsize=(8, 10))\n",
    "\n",
    "sns.distplot(ratings16, bins= 40, ax=ax1)\n",
    "ax1.set_title('2016 Sellers Rating Distribution')\n",
    "\n",
    "sns.distplot(ratings17, bins= 40, ax=ax2)\n",
    "ax2.set_title('2017 Sellers Rating Distribution')\n",
    "\n",
    "plt.tight_layout();"
   ]
  },
  {
   "cell_type": "code",
   "execution_count": 49,
   "metadata": {},
   "outputs": [
    {
     "name": "stdout",
     "output_type": "stream",
     "text": [
      "2016 Seller Ratings\n",
      "STATS SUMMARY:\n",
      "Mean:  4.887202898550716\n",
      "Median:  4.93\n",
      "Std. Dev.:  0.14308797213943833\n",
      "Max value:  5.0\n",
      "Min value:  4.0\n",
      "# of Obs.:  690\n",
      "None\n",
      "\n",
      "\n",
      "2017 Seller Ratings\n",
      "STATS SUMMARY:\n",
      "Mean:  4.873230535894822\n",
      "Median:  4.92\n",
      "Std. Dev.:  0.15112302062387659\n",
      "Max value:  5.0\n",
      "Min value:  4.0\n",
      "# of Obs.:  2092\n",
      "None\n",
      "\n",
      "\n"
     ]
    }
   ],
   "source": [
    "summary_titles = ['2016 Seller Ratings', '2017 Seller Ratings']\n",
    "ratings_arr = [ratings16, ratings17]\n",
    "\n",
    "for title, rating in zip (summary_titles, ratings_arr):\n",
    "    print(title)\n",
    "    print(utils.stats_summary(rating))\n",
    "    print('\\n')"
   ]
  },
  {
   "cell_type": "markdown",
   "metadata": {},
   "source": [
    "## Seller Overlap"
   ]
  },
  {
   "cell_type": "code",
   "execution_count": 50,
   "metadata": {},
   "outputs": [],
   "source": [
    "unique_sellers16 = sellers16_v2['seller_name']\n",
    "unique_sellers17 = sellers17_v2['seller_name']"
   ]
  },
  {
   "cell_type": "code",
   "execution_count": 51,
   "metadata": {},
   "outputs": [
    {
     "name": "stdout",
     "output_type": "stream",
     "text": [
      "# - Unique Sellers in 2016:  690\n",
      "# - Unique Sellers in 2017:  2092\n"
     ]
    }
   ],
   "source": [
    "print('# - Unique Sellers in 2016: ', len(unique_sellers16))\n",
    "print('# - Unique Sellers in 2017: ', len(unique_sellers17))"
   ]
  },
  {
   "cell_type": "code",
   "execution_count": 55,
   "metadata": {},
   "outputs": [
    {
     "name": "stdout",
     "output_type": "stream",
     "text": [
      "# - Sellers in BOTH 2016 and 2017:  299\n"
     ]
    }
   ],
   "source": [
    "sellers_in_16_and_17 = pd.Series(list(set(unique_sellers16).intersection(set(unique_sellers17))))\n",
    "print('# - Sellers in BOTH 2016 and 2017: ', len(sellers_in_16_and_17))"
   ]
  },
  {
   "cell_type": "code",
   "execution_count": 56,
   "metadata": {},
   "outputs": [
    {
     "data": {
      "text/plain": [
       "Index(['seqNo', 'seller_name', 'member_since', 'pgp', 'description',\n",
       "       'positive_feedbacks', 'feedback_cleaned'],\n",
       "      dtype='object')"
      ]
     },
     "execution_count": 56,
     "metadata": {},
     "output_type": "execute_result"
    }
   ],
   "source": [
    "sellers16_v2.columns"
   ]
  },
  {
   "cell_type": "code",
   "execution_count": 67,
   "metadata": {},
   "outputs": [],
   "source": [
    "sellers_intersect_df = pd.DataFrame()\n",
    "sellers_intersect_df['name'] = sellers_in_16_and_17\n",
    "\n",
    "cols_to_drop = ['seqNo', 'seller_name', 'member_since', 'pgp', 'description', 'feedback_cleaned']\n",
    "\n",
    "# merge 2016\n",
    "sellers_intersect_df = pd.merge(sellers_intersect_df, sellers16_v2, how='inner', left_on='name', right_on='seller_name')\n",
    "sellers_intersect_df.drop(cols_to_drop, axis=1, inplace=True)\n",
    "sellers_intersect_df.rename({'positive_feedbacks' : '2016_rating'}, axis=1, inplace=True)\n",
    "sellers_intersect_df['2016_rating'] = sellers_intersect_df['2016_rating'].apply(lambda x: convert_str_to_float(x))\n",
    "\n",
    "# merge 2017\n",
    "sellers_intersect_df = pd.merge(sellers_intersect_df, sellers17_v2, how='inner', left_on='name', right_on='seller_name')\n",
    "sellers_intersect_df.drop(cols_to_drop, axis=1, inplace=True)\n",
    "sellers_intersect_df.rename({'positive_feedbacks' : '2017_rating'}, axis=1, inplace=True)\n",
    "sellers_intersect_df['2017_rating'] = sellers_intersect_df['2017_rating'].apply(lambda x: convert_str_to_float(x))\n",
    "\n",
    "# Add features\n",
    "sellers_intersect_df['YoY_change'] = sellers_intersect_df['2017_rating'] - sellers_intersect_df['2016_rating']\n",
    "sellers_intersect_df['YoY_change_prcnt'] = sellers_intersect_df['YoY_change'] / sellers_intersect_df['2016_rating']"
   ]
  },
  {
   "cell_type": "code",
   "execution_count": 68,
   "metadata": {},
   "outputs": [
    {
     "data": {
      "text/html": [
       "<div>\n",
       "<style scoped>\n",
       "    .dataframe tbody tr th:only-of-type {\n",
       "        vertical-align: middle;\n",
       "    }\n",
       "\n",
       "    .dataframe tbody tr th {\n",
       "        vertical-align: top;\n",
       "    }\n",
       "\n",
       "    .dataframe thead th {\n",
       "        text-align: right;\n",
       "    }\n",
       "</style>\n",
       "<table border=\"1\" class=\"dataframe\">\n",
       "  <thead>\n",
       "    <tr style=\"text-align: right;\">\n",
       "      <th></th>\n",
       "      <th>name</th>\n",
       "      <th>2016_rating</th>\n",
       "      <th>2017_rating</th>\n",
       "      <th>YoY_change</th>\n",
       "      <th>YoY_change_prcnt</th>\n",
       "    </tr>\n",
       "  </thead>\n",
       "  <tbody>\n",
       "    <tr>\n",
       "      <th>0</th>\n",
       "      <td>stealthmeds</td>\n",
       "      <td>4.96</td>\n",
       "      <td>4.96</td>\n",
       "      <td>0.00</td>\n",
       "      <td>0.000000</td>\n",
       "    </tr>\n",
       "    <tr>\n",
       "      <th>1</th>\n",
       "      <td>EU_384918J</td>\n",
       "      <td>4.96</td>\n",
       "      <td>4.94</td>\n",
       "      <td>-0.02</td>\n",
       "      <td>-0.004032</td>\n",
       "    </tr>\n",
       "    <tr>\n",
       "      <th>2</th>\n",
       "      <td>Bigdeal100</td>\n",
       "      <td>4.82</td>\n",
       "      <td>4.86</td>\n",
       "      <td>0.04</td>\n",
       "      <td>0.008299</td>\n",
       "    </tr>\n",
       "    <tr>\n",
       "      <th>3</th>\n",
       "      <td>HonestCocaine</td>\n",
       "      <td>5.00</td>\n",
       "      <td>4.89</td>\n",
       "      <td>-0.11</td>\n",
       "      <td>-0.022000</td>\n",
       "    </tr>\n",
       "    <tr>\n",
       "      <th>4</th>\n",
       "      <td>PaulSimon</td>\n",
       "      <td>5.00</td>\n",
       "      <td>4.99</td>\n",
       "      <td>-0.01</td>\n",
       "      <td>-0.002000</td>\n",
       "    </tr>\n",
       "    <tr>\n",
       "      <th>5</th>\n",
       "      <td>ash_williams</td>\n",
       "      <td>4.88</td>\n",
       "      <td>4.84</td>\n",
       "      <td>-0.04</td>\n",
       "      <td>-0.008197</td>\n",
       "    </tr>\n",
       "    <tr>\n",
       "      <th>6</th>\n",
       "      <td>factoryfloor</td>\n",
       "      <td>5.00</td>\n",
       "      <td>4.98</td>\n",
       "      <td>-0.02</td>\n",
       "      <td>-0.004000</td>\n",
       "    </tr>\n",
       "    <tr>\n",
       "      <th>7</th>\n",
       "      <td>flipkart</td>\n",
       "      <td>4.90</td>\n",
       "      <td>4.91</td>\n",
       "      <td>0.01</td>\n",
       "      <td>0.002041</td>\n",
       "    </tr>\n",
       "    <tr>\n",
       "      <th>8</th>\n",
       "      <td>onyx64</td>\n",
       "      <td>4.97</td>\n",
       "      <td>4.97</td>\n",
       "      <td>0.00</td>\n",
       "      <td>0.000000</td>\n",
       "    </tr>\n",
       "    <tr>\n",
       "      <th>9</th>\n",
       "      <td>Gandoffwhite</td>\n",
       "      <td>4.98</td>\n",
       "      <td>4.94</td>\n",
       "      <td>-0.04</td>\n",
       "      <td>-0.008032</td>\n",
       "    </tr>\n",
       "  </tbody>\n",
       "</table>\n",
       "</div>"
      ],
      "text/plain": [
       "            name  2016_rating  2017_rating  YoY_change  YoY_change_prcnt\n",
       "0    stealthmeds         4.96         4.96        0.00          0.000000\n",
       "1     EU_384918J         4.96         4.94       -0.02         -0.004032\n",
       "2     Bigdeal100         4.82         4.86        0.04          0.008299\n",
       "3  HonestCocaine         5.00         4.89       -0.11         -0.022000\n",
       "4      PaulSimon         5.00         4.99       -0.01         -0.002000\n",
       "5   ash_williams         4.88         4.84       -0.04         -0.008197\n",
       "6   factoryfloor         5.00         4.98       -0.02         -0.004000\n",
       "7       flipkart         4.90         4.91        0.01          0.002041\n",
       "8         onyx64         4.97         4.97        0.00          0.000000\n",
       "9   Gandoffwhite         4.98         4.94       -0.04         -0.008032"
      ]
     },
     "execution_count": 68,
     "metadata": {},
     "output_type": "execute_result"
    }
   ],
   "source": [
    "sellers_intersect_df.head(10)"
   ]
  },
  {
   "cell_type": "code",
   "execution_count": 69,
   "metadata": {},
   "outputs": [
    {
     "data": {
      "image/png": "[encoded data removed]",
      "text/plain": [
       "<Figure size 576x720 with 2 Axes>"
      ]
     },
     "metadata": {
      "needs_background": "light"
     },
     "output_type": "display_data"
    }
   ],
   "source": [
    "fig, (ax1, ax2) = plt.subplots(2, 1, figsize=(8, 10))\n",
    "\n",
    "sns.distplot(sellers_intersect_df['YoY_change'], bins= 40, ax=ax1)\n",
    "ax1.set_title('YoY Change in Seller Ratings')\n",
    "\n",
    "sns.distplot(sellers_intersect_df['YoY_change_prcnt'], bins= 40, ax=ax2)\n",
    "ax2.set_title('YoY Change in Seller Ratings as a Percentage')\n",
    "\n",
    "plt.tight_layout();"
   ]
  },
  {
   "cell_type": "code",
   "execution_count": 73,
   "metadata": {},
   "outputs": [
    {
     "name": "stdout",
     "output_type": "stream",
     "text": [
      "# of Venders w/ YoY Change (%) > 1.0% : 22\n",
      "\n",
      "\n"
     ]
    },
    {
     "data": {
      "text/html": [
       "<div>\n",
       "<style scoped>\n",
       "    .dataframe tbody tr th:only-of-type {\n",
       "        vertical-align: middle;\n",
       "    }\n",
       "\n",
       "    .dataframe tbody tr th {\n",
       "        vertical-align: top;\n",
       "    }\n",
       "\n",
       "    .dataframe thead th {\n",
       "        text-align: right;\n",
       "    }\n",
       "</style>\n",
       "<table border=\"1\" class=\"dataframe\">\n",
       "  <thead>\n",
       "    <tr style=\"text-align: right;\">\n",
       "      <th></th>\n",
       "      <th>name</th>\n",
       "      <th>2016_rating</th>\n",
       "      <th>2017_rating</th>\n",
       "      <th>YoY_change</th>\n",
       "      <th>YoY_change_prcnt</th>\n",
       "    </tr>\n",
       "  </thead>\n",
       "  <tbody>\n",
       "    <tr>\n",
       "      <th>135</th>\n",
       "      <td>Qualitywhitee</td>\n",
       "      <td>4.33</td>\n",
       "      <td>4.78</td>\n",
       "      <td>0.45</td>\n",
       "      <td>0.103926</td>\n",
       "    </tr>\n",
       "    <tr>\n",
       "      <th>66</th>\n",
       "      <td>lyso</td>\n",
       "      <td>4.50</td>\n",
       "      <td>4.90</td>\n",
       "      <td>0.40</td>\n",
       "      <td>0.088889</td>\n",
       "    </tr>\n",
       "    <tr>\n",
       "      <th>292</th>\n",
       "      <td>New_demension</td>\n",
       "      <td>4.66</td>\n",
       "      <td>4.88</td>\n",
       "      <td>0.22</td>\n",
       "      <td>0.047210</td>\n",
       "    </tr>\n",
       "    <tr>\n",
       "      <th>27</th>\n",
       "      <td>rivaldealer77</td>\n",
       "      <td>4.17</td>\n",
       "      <td>4.36</td>\n",
       "      <td>0.19</td>\n",
       "      <td>0.045564</td>\n",
       "    </tr>\n",
       "    <tr>\n",
       "      <th>187</th>\n",
       "      <td>Budness</td>\n",
       "      <td>4.71</td>\n",
       "      <td>4.92</td>\n",
       "      <td>0.21</td>\n",
       "      <td>0.044586</td>\n",
       "    </tr>\n",
       "    <tr>\n",
       "      <th>140</th>\n",
       "      <td>LegitVendor</td>\n",
       "      <td>4.80</td>\n",
       "      <td>4.98</td>\n",
       "      <td>0.18</td>\n",
       "      <td>0.037500</td>\n",
       "    </tr>\n",
       "    <tr>\n",
       "      <th>216</th>\n",
       "      <td>rxwholesale</td>\n",
       "      <td>4.33</td>\n",
       "      <td>4.49</td>\n",
       "      <td>0.16</td>\n",
       "      <td>0.036952</td>\n",
       "    </tr>\n",
       "    <tr>\n",
       "      <th>113</th>\n",
       "      <td>cheapestmotherfucker</td>\n",
       "      <td>4.67</td>\n",
       "      <td>4.84</td>\n",
       "      <td>0.17</td>\n",
       "      <td>0.036403</td>\n",
       "    </tr>\n",
       "    <tr>\n",
       "      <th>208</th>\n",
       "      <td>Kounterfeit_King</td>\n",
       "      <td>4.17</td>\n",
       "      <td>4.26</td>\n",
       "      <td>0.09</td>\n",
       "      <td>0.021583</td>\n",
       "    </tr>\n",
       "    <tr>\n",
       "      <th>29</th>\n",
       "      <td>undergroundcoco</td>\n",
       "      <td>4.69</td>\n",
       "      <td>4.79</td>\n",
       "      <td>0.10</td>\n",
       "      <td>0.021322</td>\n",
       "    </tr>\n",
       "    <tr>\n",
       "      <th>273</th>\n",
       "      <td>Asphyxiated</td>\n",
       "      <td>4.82</td>\n",
       "      <td>4.91</td>\n",
       "      <td>0.09</td>\n",
       "      <td>0.018672</td>\n",
       "    </tr>\n",
       "    <tr>\n",
       "      <th>85</th>\n",
       "      <td>TheGreenies</td>\n",
       "      <td>4.87</td>\n",
       "      <td>4.95</td>\n",
       "      <td>0.08</td>\n",
       "      <td>0.016427</td>\n",
       "    </tr>\n",
       "    <tr>\n",
       "      <th>77</th>\n",
       "      <td>Un1versal</td>\n",
       "      <td>4.71</td>\n",
       "      <td>4.78</td>\n",
       "      <td>0.07</td>\n",
       "      <td>0.014862</td>\n",
       "    </tr>\n",
       "    <tr>\n",
       "      <th>235</th>\n",
       "      <td>GermanApotheke</td>\n",
       "      <td>4.76</td>\n",
       "      <td>4.83</td>\n",
       "      <td>0.07</td>\n",
       "      <td>0.014706</td>\n",
       "    </tr>\n",
       "    <tr>\n",
       "      <th>62</th>\n",
       "      <td>cerberus</td>\n",
       "      <td>4.77</td>\n",
       "      <td>4.84</td>\n",
       "      <td>0.07</td>\n",
       "      <td>0.014675</td>\n",
       "    </tr>\n",
       "    <tr>\n",
       "      <th>281</th>\n",
       "      <td>TheDarkHorse</td>\n",
       "      <td>4.66</td>\n",
       "      <td>4.72</td>\n",
       "      <td>0.06</td>\n",
       "      <td>0.012876</td>\n",
       "    </tr>\n",
       "    <tr>\n",
       "      <th>41</th>\n",
       "      <td>Bud_Central</td>\n",
       "      <td>4.77</td>\n",
       "      <td>4.83</td>\n",
       "      <td>0.06</td>\n",
       "      <td>0.012579</td>\n",
       "    </tr>\n",
       "    <tr>\n",
       "      <th>30</th>\n",
       "      <td>oldmate</td>\n",
       "      <td>4.82</td>\n",
       "      <td>4.88</td>\n",
       "      <td>0.06</td>\n",
       "      <td>0.012448</td>\n",
       "    </tr>\n",
       "    <tr>\n",
       "      <th>126</th>\n",
       "      <td>sunshining</td>\n",
       "      <td>4.89</td>\n",
       "      <td>4.95</td>\n",
       "      <td>0.06</td>\n",
       "      <td>0.012270</td>\n",
       "    </tr>\n",
       "    <tr>\n",
       "      <th>220</th>\n",
       "      <td>DutchDelights</td>\n",
       "      <td>4.65</td>\n",
       "      <td>4.70</td>\n",
       "      <td>0.05</td>\n",
       "      <td>0.010753</td>\n",
       "    </tr>\n",
       "    <tr>\n",
       "      <th>11</th>\n",
       "      <td>PartySquadNL</td>\n",
       "      <td>4.75</td>\n",
       "      <td>4.80</td>\n",
       "      <td>0.05</td>\n",
       "      <td>0.010526</td>\n",
       "    </tr>\n",
       "    <tr>\n",
       "      <th>164</th>\n",
       "      <td>2good4DN</td>\n",
       "      <td>4.76</td>\n",
       "      <td>4.81</td>\n",
       "      <td>0.05</td>\n",
       "      <td>0.010504</td>\n",
       "    </tr>\n",
       "  </tbody>\n",
       "</table>\n",
       "</div>"
      ],
      "text/plain": [
       "                     name  2016_rating  2017_rating  YoY_change  \\\n",
       "135         Qualitywhitee         4.33         4.78        0.45   \n",
       "66                   lyso         4.50         4.90        0.40   \n",
       "292         New_demension         4.66         4.88        0.22   \n",
       "27          rivaldealer77         4.17         4.36        0.19   \n",
       "187               Budness         4.71         4.92        0.21   \n",
       "140           LegitVendor         4.80         4.98        0.18   \n",
       "216           rxwholesale         4.33         4.49        0.16   \n",
       "113  cheapestmotherfucker         4.67         4.84        0.17   \n",
       "208      Kounterfeit_King         4.17         4.26        0.09   \n",
       "29        undergroundcoco         4.69         4.79        0.10   \n",
       "273           Asphyxiated         4.82         4.91        0.09   \n",
       "85            TheGreenies         4.87         4.95        0.08   \n",
       "77              Un1versal         4.71         4.78        0.07   \n",
       "235        GermanApotheke         4.76         4.83        0.07   \n",
       "62               cerberus         4.77         4.84        0.07   \n",
       "281          TheDarkHorse         4.66         4.72        0.06   \n",
       "41            Bud_Central         4.77         4.83        0.06   \n",
       "30                oldmate         4.82         4.88        0.06   \n",
       "126            sunshining         4.89         4.95        0.06   \n",
       "220         DutchDelights         4.65         4.70        0.05   \n",
       "11           PartySquadNL         4.75         4.80        0.05   \n",
       "164              2good4DN         4.76         4.81        0.05   \n",
       "\n",
       "     YoY_change_prcnt  \n",
       "135          0.103926  \n",
       "66           0.088889  \n",
       "292          0.047210  \n",
       "27           0.045564  \n",
       "187          0.044586  \n",
       "140          0.037500  \n",
       "216          0.036952  \n",
       "113          0.036403  \n",
       "208          0.021583  \n",
       "29           0.021322  \n",
       "273          0.018672  \n",
       "85           0.016427  \n",
       "77           0.014862  \n",
       "235          0.014706  \n",
       "62           0.014675  \n",
       "281          0.012876  \n",
       "41           0.012579  \n",
       "30           0.012448  \n",
       "126          0.012270  \n",
       "220          0.010753  \n",
       "11           0.010526  \n",
       "164          0.010504  "
      ]
     },
     "execution_count": 73,
     "metadata": {},
     "output_type": "execute_result"
    }
   ],
   "source": [
    "venders_improved = sellers_intersect_df[sellers_intersect_df['YoY_change_prcnt'] > 0.01].sort_values(by='YoY_change_prcnt', ascending=False).copy()\n",
    "\n",
    "print('# of Venders w/ YoY Change (%) > 1.0% :', venders_improved.shape[0])\n",
    "print('\\n')\n",
    "venders_improved"
   ]
  }
 ],
 "metadata": {
  "kernelspec": {
   "display_name": "Python 3",
   "language": "python",
   "name": "python3"
  },
  "language_info": {
   "codemirror_mode": {
    "name": "ipython",
    "version": 3
   },
   "file_extension": ".py",
   "mimetype": "text/x-python",
   "name": "python",
   "nbconvert_exporter": "python",
   "pygments_lexer": "ipython3",
   "version": "3.7.6"
  }
 },
 "nbformat": 4,
 "nbformat_minor": 4
}
