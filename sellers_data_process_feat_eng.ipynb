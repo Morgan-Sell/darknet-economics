{
 "cells": [
  {
   "cell_type": "markdown",
   "metadata": {},
   "source": [
    "# Darknet Economics - Sellers - Data Processing and Feature Engineering"
   ]
  },
  {
   "cell_type": "code",
   "execution_count": 1,
   "metadata": {},
   "outputs": [],
   "source": [
    "import pandas as pd\n",
    "import numpy as np\n",
    "\n",
    "import matplotlib.pyplot as plt\n",
    "import seaborn as sns\n",
    "%matplotlib inline\n",
    "\n",
    "import re\n",
    "import utils\n",
    "from bs4 import BeautifulSoup\n",
    "\n",
    "import nltk"
   ]
  },
  {
   "cell_type": "code",
   "execution_count": 2,
   "metadata": {},
   "outputs": [],
   "source": [
    "sellers16 = pd.read_csv('data/DreamMarket2016_seller.csv')\n",
    "sellers17 = pd.read_csv('data/DreamMarket2017_seller.csv')"
   ]
  },
  {
   "cell_type": "markdown",
   "metadata": {},
   "source": [
    "## User-defined Functions"
   ]
  },
  {
   "cell_type": "code",
   "execution_count": 21,
   "metadata": {},
   "outputs": [],
   "source": [
    "def convert_str_to_float(string):\n",
    "    '''\n",
    "    Transforms a string to a float.\n",
    "    If string can\n",
    "    \n",
    "    Args:\n",
    "        string (str) : Price is expected to start w/ a \"$\".\n",
    "    \n",
    "    Returns:\n",
    "        adj_price (float) : Float object to be used for calculations/modelinng.\n",
    "    \n",
    "    '''\n",
    "\n",
    "    try:\n",
    "        \n",
    "        if string.isnumeric():\n",
    "            num_val = string\n",
    "        \n",
    "        else:\n",
    "            tmp = re.sub(r'[^0-9.]', '', string)\n",
    "            num_val = float(tmp)\n",
    "                     \n",
    "    except:\n",
    "        num_val = np.NaN\n",
    "    \n",
    "    return num_val\n"
   ]
  },
  {
   "cell_type": "markdown",
   "metadata": {},
   "source": [
    "## Raw Data"
   ]
  },
  {
   "cell_type": "markdown",
   "metadata": {},
   "source": [
    "### 2016"
   ]
  },
  {
   "cell_type": "code",
   "execution_count": 4,
   "metadata": {},
   "outputs": [
    {
     "data": {
      "image/png": "[encoded data removed]",
      "text/plain": [
       "<Figure size 1440x432 with 1 Axes>"
      ]
     },
     "metadata": {
      "needs_background": "light"
     },
     "output_type": "display_data"
    }
   ],
   "source": [
    "utils.plot_null_val_heatmap(sellers16, 'Null Values of Raw \"Sellers 2016\" Dataset', (20,6))"
   ]
  },
  {
   "cell_type": "code",
   "execution_count": 8,
   "metadata": {},
   "outputs": [
    {
     "name": "stdout",
     "output_type": "stream",
     "text": [
      "<class 'pandas.core.frame.DataFrame'>\n",
      "RangeIndex: 690 entries, 0 to 689\n",
      "Data columns (total 11 columns):\n",
      " #   Column              Non-Null Count  Dtype \n",
      "---  ------              --------------  ----- \n",
      " 0   seqNo               690 non-null    int64 \n",
      " 1   seller_name         690 non-null    object\n",
      " 2   member_since        690 non-null    object\n",
      " 3   contracts           690 non-null    object\n",
      " 4   contact             690 non-null    object\n",
      " 5   pgp                 690 non-null    object\n",
      " 6   level               690 non-null    object\n",
      " 7   description         690 non-null    object\n",
      " 8   positive_feedbacks  690 non-null    object\n",
      " 9   negative_feedbacks  690 non-null    object\n",
      " 10  market_name         690 non-null    object\n",
      "dtypes: int64(1), object(10)\n",
      "memory usage: 59.4+ KB\n"
     ]
    }
   ],
   "source": [
    "sellers16.info()"
   ]
  },
  {
   "cell_type": "code",
   "execution_count": 10,
   "metadata": {},
   "outputs": [
    {
     "data": {
      "text/html": [
       "<div>\n",
       "<style scoped>\n",
       "    .dataframe tbody tr th:only-of-type {\n",
       "        vertical-align: middle;\n",
       "    }\n",
       "\n",
       "    .dataframe tbody tr th {\n",
       "        vertical-align: top;\n",
       "    }\n",
       "\n",
       "    .dataframe thead th {\n",
       "        text-align: right;\n",
       "    }\n",
       "</style>\n",
       "<table border=\"1\" class=\"dataframe\">\n",
       "  <thead>\n",
       "    <tr style=\"text-align: right;\">\n",
       "      <th></th>\n",
       "      <th>seqNo</th>\n",
       "      <th>seller_name</th>\n",
       "      <th>member_since</th>\n",
       "      <th>contracts</th>\n",
       "      <th>contact</th>\n",
       "      <th>pgp</th>\n",
       "      <th>level</th>\n",
       "      <th>description</th>\n",
       "      <th>positive_feedbacks</th>\n",
       "      <th>negative_feedbacks</th>\n",
       "      <th>market_name</th>\n",
       "    </tr>\n",
       "  </thead>\n",
       "  <tbody>\n",
       "    <tr>\n",
       "      <th>0</th>\n",
       "      <td>1</td>\n",
       "      <td>0ldamsterdam</td>\n",
       "      <td>13/07/2016</td>\n",
       "      <td>-</td>\n",
       "      <td>-</td>\n",
       "      <td>-----BEGIN PGP PUBLIC KEY BLOCK-----\\nVersion:...</td>\n",
       "      <td>-</td>\n",
       "      <td>\\n-.-.-.-. OLDAMSTERDAM -.-.-.-.\\n\\nwe ship on...</td>\n",
       "      <td>4.83</td>\n",
       "      <td>-</td>\n",
       "      <td>Dream</td>\n",
       "    </tr>\n",
       "    <tr>\n",
       "      <th>1</th>\n",
       "      <td>2</td>\n",
       "      <td>2good4DN</td>\n",
       "      <td>09/05/2016</td>\n",
       "      <td>-</td>\n",
       "      <td>-</td>\n",
       "      <td>-----BEGIN PGP PUBLIC KEY BLOCK-----\\n\\nmQENBF...</td>\n",
       "      <td>-</td>\n",
       "      <td>\\nWe are determined to offer even better produ...</td>\n",
       "      <td>4.76</td>\n",
       "      <td>-</td>\n",
       "      <td>Dream</td>\n",
       "    </tr>\n",
       "    <tr>\n",
       "      <th>2</th>\n",
       "      <td>3</td>\n",
       "      <td>420BLAZEUP</td>\n",
       "      <td>19/09/2016</td>\n",
       "      <td>-</td>\n",
       "      <td>-</td>\n",
       "      <td>-----BEGIN PGP PUBLIC KEY BLOCK-----\\n\\nmQINBF...</td>\n",
       "      <td>-</td>\n",
       "      <td>\\n                420BLAZEUP     \\n\\nWE ARE HE...</td>\n",
       "      <td>4.88</td>\n",
       "      <td>-</td>\n",
       "      <td>Dream</td>\n",
       "    </tr>\n",
       "    <tr>\n",
       "      <th>3</th>\n",
       "      <td>4</td>\n",
       "      <td>420BooBooKittyfk69</td>\n",
       "      <td>12/07/2016</td>\n",
       "      <td>-</td>\n",
       "      <td>-</td>\n",
       "      <td>-----BEGIN PGP PUBLIC KEY BLOCK-----\\n\\nmQINBF...</td>\n",
       "      <td>-</td>\n",
       "      <td>\\nRunning low on stock, if u are interested in...</td>\n",
       "      <td>4.85</td>\n",
       "      <td>-</td>\n",
       "      <td>Dream</td>\n",
       "    </tr>\n",
       "    <tr>\n",
       "      <th>4</th>\n",
       "      <td>5</td>\n",
       "      <td>ACAB2016</td>\n",
       "      <td>15/07/2016</td>\n",
       "      <td>-</td>\n",
       "      <td>-</td>\n",
       "      <td>-----BEGIN PGP PUBLIC KEY BLOCK-----\\n\\nmQENBF...</td>\n",
       "      <td>-</td>\n",
       "      <td>\\nHello, we are up and running again. We can d...</td>\n",
       "      <td>4.6Â</td>\n",
       "      <td>-</td>\n",
       "      <td>Dream</td>\n",
       "    </tr>\n",
       "  </tbody>\n",
       "</table>\n",
       "</div>"
      ],
      "text/plain": [
       "   seqNo         seller_name member_since contracts contact  \\\n",
       "0      1        0ldamsterdam   13/07/2016         -       -   \n",
       "1      2            2good4DN   09/05/2016         -       -   \n",
       "2      3          420BLAZEUP   19/09/2016         -       -   \n",
       "3      4  420BooBooKittyfk69   12/07/2016         -       -   \n",
       "4      5            ACAB2016   15/07/2016         -       -   \n",
       "\n",
       "                                                 pgp level  \\\n",
       "0  -----BEGIN PGP PUBLIC KEY BLOCK-----\\nVersion:...     -   \n",
       "1  -----BEGIN PGP PUBLIC KEY BLOCK-----\\n\\nmQENBF...     -   \n",
       "2  -----BEGIN PGP PUBLIC KEY BLOCK-----\\n\\nmQINBF...     -   \n",
       "3  -----BEGIN PGP PUBLIC KEY BLOCK-----\\n\\nmQINBF...     -   \n",
       "4  -----BEGIN PGP PUBLIC KEY BLOCK-----\\n\\nmQENBF...     -   \n",
       "\n",
       "                                         description positive_feedbacks  \\\n",
       "0  \\n-.-.-.-. OLDAMSTERDAM -.-.-.-.\\n\\nwe ship on...               4.83   \n",
       "1  \\nWe are determined to offer even better produ...               4.76   \n",
       "2  \\n                420BLAZEUP     \\n\\nWE ARE HE...               4.88   \n",
       "3  \\nRunning low on stock, if u are interested in...               4.85   \n",
       "4  \\nHello, we are up and running again. We can d...               4.6Â   \n",
       "\n",
       "  negative_feedbacks market_name  \n",
       "0                  -       Dream  \n",
       "1                  -       Dream  \n",
       "2                  -       Dream  \n",
       "3                  -       Dream  \n",
       "4                  -       Dream  "
      ]
     },
     "execution_count": 10,
     "metadata": {},
     "output_type": "execute_result"
    }
   ],
   "source": [
    "sellers16.head()"
   ]
  },
  {
   "cell_type": "code",
   "execution_count": 17,
   "metadata": {},
   "outputs": [
    {
     "name": "stdout",
     "output_type": "stream",
     "text": [
      "['-']\n",
      "['-']\n",
      "['-']\n",
      "['-']\n",
      "['Dream']\n"
     ]
    }
   ],
   "source": [
    "cols_to_review = ['contracts', 'contact', 'level', 'negative_feedbacks', 'market_name']\n",
    "for col in cols_to_review:\n",
    "    print(sellers16[col].unique())\n",
    "\n",
    "sellers16_v2 = sellers16.drop(cols_to_review, axis=1)"
   ]
  },
  {
   "cell_type": "code",
   "execution_count": 22,
   "metadata": {},
   "outputs": [],
   "source": [
    "sellers16_v2['feedback_cleaned'] = sellers16_v2['positive_feedbacks'].apply(lambda x: convert_str_to_float(x))"
   ]
  },
  {
   "cell_type": "code",
   "execution_count": 23,
   "metadata": {},
   "outputs": [
    {
     "data": {
      "text/html": [
       "<div>\n",
       "<style scoped>\n",
       "    .dataframe tbody tr th:only-of-type {\n",
       "        vertical-align: middle;\n",
       "    }\n",
       "\n",
       "    .dataframe tbody tr th {\n",
       "        vertical-align: top;\n",
       "    }\n",
       "\n",
       "    .dataframe thead th {\n",
       "        text-align: right;\n",
       "    }\n",
       "</style>\n",
       "<table border=\"1\" class=\"dataframe\">\n",
       "  <thead>\n",
       "    <tr style=\"text-align: right;\">\n",
       "      <th></th>\n",
       "      <th>seqNo</th>\n",
       "      <th>seller_name</th>\n",
       "      <th>member_since</th>\n",
       "      <th>pgp</th>\n",
       "      <th>description</th>\n",
       "      <th>positive_feedbacks</th>\n",
       "      <th>feedback_cleaned</th>\n",
       "    </tr>\n",
       "  </thead>\n",
       "  <tbody>\n",
       "    <tr>\n",
       "      <th>0</th>\n",
       "      <td>1</td>\n",
       "      <td>0ldamsterdam</td>\n",
       "      <td>13/07/2016</td>\n",
       "      <td>-----BEGIN PGP PUBLIC KEY BLOCK-----\\nVersion:...</td>\n",
       "      <td>\\n-.-.-.-. OLDAMSTERDAM -.-.-.-.\\n\\nwe ship on...</td>\n",
       "      <td>4.83</td>\n",
       "      <td>4.83</td>\n",
       "    </tr>\n",
       "    <tr>\n",
       "      <th>1</th>\n",
       "      <td>2</td>\n",
       "      <td>2good4DN</td>\n",
       "      <td>09/05/2016</td>\n",
       "      <td>-----BEGIN PGP PUBLIC KEY BLOCK-----\\n\\nmQENBF...</td>\n",
       "      <td>\\nWe are determined to offer even better produ...</td>\n",
       "      <td>4.76</td>\n",
       "      <td>4.76</td>\n",
       "    </tr>\n",
       "    <tr>\n",
       "      <th>2</th>\n",
       "      <td>3</td>\n",
       "      <td>420BLAZEUP</td>\n",
       "      <td>19/09/2016</td>\n",
       "      <td>-----BEGIN PGP PUBLIC KEY BLOCK-----\\n\\nmQINBF...</td>\n",
       "      <td>\\n                420BLAZEUP     \\n\\nWE ARE HE...</td>\n",
       "      <td>4.88</td>\n",
       "      <td>4.88</td>\n",
       "    </tr>\n",
       "    <tr>\n",
       "      <th>3</th>\n",
       "      <td>4</td>\n",
       "      <td>420BooBooKittyfk69</td>\n",
       "      <td>12/07/2016</td>\n",
       "      <td>-----BEGIN PGP PUBLIC KEY BLOCK-----\\n\\nmQINBF...</td>\n",
       "      <td>\\nRunning low on stock, if u are interested in...</td>\n",
       "      <td>4.85</td>\n",
       "      <td>4.85</td>\n",
       "    </tr>\n",
       "    <tr>\n",
       "      <th>4</th>\n",
       "      <td>5</td>\n",
       "      <td>ACAB2016</td>\n",
       "      <td>15/07/2016</td>\n",
       "      <td>-----BEGIN PGP PUBLIC KEY BLOCK-----\\n\\nmQENBF...</td>\n",
       "      <td>\\nHello, we are up and running again. We can d...</td>\n",
       "      <td>4.6Â</td>\n",
       "      <td>4.60</td>\n",
       "    </tr>\n",
       "  </tbody>\n",
       "</table>\n",
       "</div>"
      ],
      "text/plain": [
       "   seqNo         seller_name member_since  \\\n",
       "0      1        0ldamsterdam   13/07/2016   \n",
       "1      2            2good4DN   09/05/2016   \n",
       "2      3          420BLAZEUP   19/09/2016   \n",
       "3      4  420BooBooKittyfk69   12/07/2016   \n",
       "4      5            ACAB2016   15/07/2016   \n",
       "\n",
       "                                                 pgp  \\\n",
       "0  -----BEGIN PGP PUBLIC KEY BLOCK-----\\nVersion:...   \n",
       "1  -----BEGIN PGP PUBLIC KEY BLOCK-----\\n\\nmQENBF...   \n",
       "2  -----BEGIN PGP PUBLIC KEY BLOCK-----\\n\\nmQINBF...   \n",
       "3  -----BEGIN PGP PUBLIC KEY BLOCK-----\\n\\nmQINBF...   \n",
       "4  -----BEGIN PGP PUBLIC KEY BLOCK-----\\n\\nmQENBF...   \n",
       "\n",
       "                                         description positive_feedbacks  \\\n",
       "0  \\n-.-.-.-. OLDAMSTERDAM -.-.-.-.\\n\\nwe ship on...               4.83   \n",
       "1  \\nWe are determined to offer even better produ...               4.76   \n",
       "2  \\n                420BLAZEUP     \\n\\nWE ARE HE...               4.88   \n",
       "3  \\nRunning low on stock, if u are interested in...               4.85   \n",
       "4  \\nHello, we are up and running again. We can d...               4.6Â   \n",
       "\n",
       "   feedback_cleaned  \n",
       "0              4.83  \n",
       "1              4.76  \n",
       "2              4.88  \n",
       "3              4.85  \n",
       "4              4.60  "
      ]
     },
     "execution_count": 23,
     "metadata": {},
     "output_type": "execute_result"
    }
   ],
   "source": [
    "sellers16_v2.head()"
   ]
  },
  {
   "cell_type": "markdown",
   "metadata": {},
   "source": [
    "### 2017"
   ]
  },
  {
   "cell_type": "code",
   "execution_count": 5,
   "metadata": {},
   "outputs": [
    {
     "data": {
      "image/png": "[encoded data removed]",
      "text/plain": [
       "<Figure size 1440x432 with 1 Axes>"
      ]
     },
     "metadata": {
      "needs_background": "light"
     },
     "output_type": "display_data"
    }
   ],
   "source": [
    "utils.plot_null_val_heatmap(sellers17, 'Null Values of Raw \"Sellers 2017\" Dataset', (20,6))"
   ]
  },
  {
   "cell_type": "code",
   "execution_count": 14,
   "metadata": {},
   "outputs": [
    {
     "name": "stdout",
     "output_type": "stream",
     "text": [
      "<class 'pandas.core.frame.DataFrame'>\n",
      "RangeIndex: 2092 entries, 0 to 2091\n",
      "Data columns (total 11 columns):\n",
      " #   Column              Non-Null Count  Dtype \n",
      "---  ------              --------------  ----- \n",
      " 0   seqNo               2092 non-null   int64 \n",
      " 1   seller_name         2092 non-null   object\n",
      " 2   member_since        2092 non-null   object\n",
      " 3   contracts           2092 non-null   object\n",
      " 4   contact             2092 non-null   object\n",
      " 5   pgp                 2092 non-null   object\n",
      " 6   level               2092 non-null   object\n",
      " 7   description         2092 non-null   object\n",
      " 8   positive_feedbacks  2092 non-null   object\n",
      " 9   negative_feedbacks  2092 non-null   object\n",
      " 10  market_name         2092 non-null   object\n",
      "dtypes: int64(1), object(10)\n",
      "memory usage: 179.9+ KB\n"
     ]
    }
   ],
   "source": [
    "sellers17.info()"
   ]
  },
  {
   "cell_type": "code",
   "execution_count": 18,
   "metadata": {},
   "outputs": [
    {
     "name": "stdout",
     "output_type": "stream",
     "text": [
      "['-']\n",
      "['-']\n",
      "['-']\n",
      "['-']\n",
      "['Dream']\n"
     ]
    }
   ],
   "source": [
    "cols_to_review = ['contracts', 'contact', 'level', 'negative_feedbacks', 'market_name']\n",
    "for col in cols_to_review:\n",
    "    print(sellers17[col].unique())\n",
    "    \n",
    "sellers17_v2 = sellers17.drop(cols_to_review, axis=1)"
   ]
  },
  {
   "cell_type": "code",
   "execution_count": 24,
   "metadata": {},
   "outputs": [],
   "source": [
    "sellers17_v2['feedback_cleaned'] = sellers17_v2['positive_feedbacks'].apply(lambda x: convert_str_to_float(x))"
   ]
  },
  {
   "cell_type": "markdown",
   "metadata": {},
   "source": [
    "---\n",
    "## EDA"
   ]
  },
  {
   "cell_type": "code",
   "execution_count": 36,
   "metadata": {},
   "outputs": [
    {
     "data": {
      "image/png": "[encoded data removed]",
      "text/plain": [
       "<Figure size 576x720 with 2 Axes>"
      ]
     },
     "metadata": {
      "needs_background": "light"
     },
     "output_type": "display_data"
    }
   ],
   "source": [
    "fig, (ax1, ax2) = plt.subplots(2, 1, figsize=(8, 10))\n",
    "\n",
    "sns.distplot(sellers16_v2['feedback_cleaned'], bins= 40, ax=ax1)\n",
    "ax1.set_title('2016 Sellers Rating Distribution')\n",
    "\n",
    "sns.distplot(sellers17_v2['feedback_cleaned'], bins= 40, ax=ax2)\n",
    "ax2.set_title('2017 Sellers Rating Distribution')\n",
    "\n",
    "plt.tight_layout();"
   ]
  },
  {
   "cell_type": "code",
   "execution_count": null,
   "metadata": {},
   "outputs": [],
   "source": []
  }
 ],
 "metadata": {
  "kernelspec": {
   "display_name": "Python 3",
   "language": "python",
   "name": "python3"
  },
  "language_info": {
   "codemirror_mode": {
    "name": "ipython",
    "version": 3
   },
   "file_extension": ".py",
   "mimetype": "text/x-python",
   "name": "python",
   "nbconvert_exporter": "python",
   "pygments_lexer": "ipython3",
   "version": "3.7.6"
  }
 },
 "nbformat": 4,
 "nbformat_minor": 4
}
