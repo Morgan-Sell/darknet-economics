{
 "cells": [
  {
   "cell_type": "code",
   "execution_count": 1,
   "metadata": {},
   "outputs": [],
   "source": [
    "import numpy as np\n",
    "import pandas as pd\n",
    "\n",
    "import gensim\n",
    "from gensim import corpora, models\n",
    "from gensim.utils import simple_preprocess\n",
    "from gensim.models import CoherenceModel\n",
    "\n",
    "import spacy\n",
    "\n",
    "import pyLDAvis\n",
    "import pyLDAvis.gensim\n",
    "\n",
    "import matplotlib.pyplot as plt\n",
    "import seaborn as sns\n",
    "%matplotlib inline\n",
    "\n",
    "from src import nlp_utils\n",
    "from src.process_text_variables import contracted_words_dict, stop_words_dict, punc, stop_words_incl_in_sentiment_dict \n",
    "from collections import Counter"
   ]
  },
  {
   "cell_type": "markdown",
   "metadata": {},
   "source": [
    "# 1) Import and Process Data"
   ]
  },
  {
   "cell_type": "code",
   "execution_count": 2,
   "metadata": {},
   "outputs": [
    {
     "name": "stderr",
     "output_type": "stream",
     "text": [
      "C:\\Users\\morga\\anaconda3\\lib\\site-packages\\ipykernel\\ipkernel.py:287: DeprecationWarning: `should_run_async` will not call `transform_cell` automatically in the future. Please pass the result to `transformed_cell` argument and any exception that happen during thetransform in `preprocessing_exc_tuple` in IPython 7.17 and above.\n",
      "  and should_run_async(code)\n"
     ]
    }
   ],
   "source": [
    "wsm = pd.read_csv('data/wallstreet_master.csv')\n",
    "stop_words_dict = stop_words_dict + stop_words_incl_in_sentiment_dict\n",
    "wsm['tokens'] = wsm['contentWithHTMLTag'].apply(lambda x: nlp_utils.process_text(x, contracted_words_dict, punc, stop_words_dict, min_len=2))"
   ]
  },
  {
   "cell_type": "code",
   "execution_count": 3,
   "metadata": {},
   "outputs": [
    {
     "name": "stderr",
     "output_type": "stream",
     "text": [
      "C:\\Users\\morga\\anaconda3\\lib\\site-packages\\ipykernel\\ipkernel.py:287: DeprecationWarning: `should_run_async` will not call `transform_cell` automatically in the future. Please pass the result to `transformed_cell` argument and any exception that happen during thetransform in `preprocessing_exc_tuple` in IPython 7.17 and above.\n",
      "  and should_run_async(code)\n"
     ]
    }
   ],
   "source": [
    "all_docs_tokenized = wsm['tokens'].tolist()"
   ]
  },
  {
   "cell_type": "markdown",
   "metadata": {},
   "source": [
    "## 2) Create Bigrams/Trigrams and Remove Neglible Words Based on Parts of Sentence (PoS)"
   ]
  },
  {
   "cell_type": "code",
   "execution_count": 4,
   "metadata": {},
   "outputs": [
    {
     "name": "stderr",
     "output_type": "stream",
     "text": [
      "C:\\Users\\morga\\anaconda3\\lib\\site-packages\\ipykernel\\ipkernel.py:287: DeprecationWarning: `should_run_async` will not call `transform_cell` automatically in the future. Please pass the result to `transformed_cell` argument and any exception that happen during thetransform in `preprocessing_exc_tuple` in IPython 7.17 and above.\n",
      "  and should_run_async(code)\n"
     ]
    }
   ],
   "source": [
    "def make_bigrams(texts):\n",
    "    return [bigram_mod[doc] for doc in texts]\n",
    "\n",
    "def make_trigrams(texts):\n",
    "    return [trigram_mod[bigram_mod[doc]] for doc in texts]\n",
    "\n",
    "# English multi-task CNN trained on OntoNotes. Assigns context-specific token vectors, POS tags, dependency parse and named entities.\n",
    "nlp = spacy.load(\"en_core_web_sm\", disable=['parser', 'ner'])\n",
    "\n",
    "def lemmatization(texts, allowed_postags=['NOUN', 'ADJ', 'VERB', 'ADJ', 'PROPN']):\n",
    "    texts_revised =[]\n",
    "    for post in texts:\n",
    "        doc = nlp(' '.join(post))\n",
    "        texts_revised.append([token.lemma_ for token in doc if token.pos_ in allowed_postags])\n",
    "    return texts_revised"
   ]
  },
  {
   "cell_type": "markdown",
   "metadata": {},
   "source": [
    "**Function Used to Calculate Score that Corresponds to \"threshold\" hyperparameter**\n",
    "\n",
    "```\n",
    "def original_scorer(worda_count, wordb_count, bigram_count, len_vocab, min_count, corpus_word_count):\n",
    "   #...\n",
    "   \"\"\"\n",
    "    worda_count : int\n",
    "        Number of occurrences for first word.\n",
    "    wordb_count : int\n",
    "        Number of occurrences for second word.\n",
    "    bigram_count : int\n",
    "        Number of co-occurrences for phrase \"worda_wordb\".\n",
    "    len_vocab : int\n",
    "        Size of vocabulary.\n",
    "    min_count: int\n",
    "        Minimum collocation count threshold.\n",
    "    corpus_word_count : int\n",
    "        Not used in this particular scoring technique.\n",
    "    \"\"\"\n",
    "    #...\n",
    "\n",
    "    return (bigram_count - min_count) / worda_count / wordb_count * len_vocab\n",
    "  ```"
   ]
  },
  {
   "cell_type": "code",
   "execution_count": 5,
   "metadata": {},
   "outputs": [
    {
     "name": "stderr",
     "output_type": "stream",
     "text": [
      "C:\\Users\\morga\\anaconda3\\lib\\site-packages\\ipykernel\\ipkernel.py:287: DeprecationWarning: `should_run_async` will not call `transform_cell` automatically in the future. Please pass the result to `transformed_cell` argument and any exception that happen during thetransform in `preprocessing_exc_tuple` in IPython 7.17 and above.\n",
      "  and should_run_async(code)\n"
     ]
    }
   ],
   "source": [
    "min_count = 10\n",
    "# greater the threshold, the lower the number of words.\n",
    "threshold = 50\n",
    "\n",
    "\n",
    "bigram = gensim.models.Phrases(all_docs_tokenized, min_count=min_count, threshold=threshold)\n",
    "trigram = gensim.models.Phrases(bigram[all_docs_tokenized], threshold=threshold)\n",
    "\n",
    "bigram_mod = gensim.models.phrases.Phraser(bigram)\n",
    "trigram_mod = gensim.models.phrases.Phraser(trigram)"
   ]
  },
  {
   "cell_type": "code",
   "execution_count": 6,
   "metadata": {},
   "outputs": [
    {
     "name": "stderr",
     "output_type": "stream",
     "text": [
      "C:\\Users\\morga\\anaconda3\\lib\\site-packages\\ipykernel\\ipkernel.py:287: DeprecationWarning: `should_run_async` will not call `transform_cell` automatically in the future. Please pass the result to `transformed_cell` argument and any exception that happen during thetransform in `preprocessing_exc_tuple` in IPython 7.17 and above.\n",
      "  and should_run_async(code)\n"
     ]
    }
   ],
   "source": [
    "docs_incl_bigrams = make_bigrams(all_docs_tokenized)\n",
    "\n",
    "docs_lemmatized = lemmatization(docs_incl_bigrams, allowed_postags=['NOUN', 'ADJ', 'VERB', 'ADJ', 'PROPN'])"
   ]
  },
  {
   "cell_type": "code",
   "execution_count": null,
   "metadata": {},
   "outputs": [],
   "source": [
    "docs_lemmatized[22222]"
   ]
  },
  {
   "cell_type": "markdown",
   "metadata": {},
   "source": [
    "## 3) Create Corpus"
   ]
  },
  {
   "cell_type": "code",
   "execution_count": 7,
   "metadata": {},
   "outputs": [
    {
     "name": "stderr",
     "output_type": "stream",
     "text": [
      "C:\\Users\\morga\\anaconda3\\lib\\site-packages\\ipykernel\\ipkernel.py:287: DeprecationWarning: `should_run_async` will not call `transform_cell` automatically in the future. Please pass the result to `transformed_cell` argument and any exception that happen during thetransform in `preprocessing_exc_tuple` in IPython 7.17 and above.\n",
      "  and should_run_async(code)\n"
     ]
    },
    {
     "name": "stdout",
     "output_type": "stream",
     "text": [
      "go\n"
     ]
    }
   ],
   "source": [
    "# Bag of Words corpus\n",
    "id2word = corpora.Dictionary(docs_lemmatized)\n",
    "\n",
    "# Create unique ID for each word in corpus.\n",
    "bow_corpus = [id2word.doc2bow(post) for post in  docs_lemmatized]\n",
    "\n",
    "# Use the unique id as the index in id2word to see the corresponding token.\n",
    "print(id2word[3])"
   ]
  },
  {
   "cell_type": "code",
   "execution_count": 8,
   "metadata": {},
   "outputs": [
    {
     "name": "stderr",
     "output_type": "stream",
     "text": [
      "C:\\Users\\morga\\anaconda3\\lib\\site-packages\\ipykernel\\ipkernel.py:287: DeprecationWarning: `should_run_async` will not call `transform_cell` automatically in the future. Please pass the result to `transformed_cell` argument and any exception that happen during thetransform in `preprocessing_exc_tuple` in IPython 7.17 and above.\n",
      "  and should_run_async(code)\n"
     ]
    }
   ],
   "source": [
    "# Tfidf corpus\n",
    "tfidf = models.TfidfModel(bow_corpus)\n",
    "tfidf_corpus = tfidf[bow_corpus]"
   ]
  },
  {
   "cell_type": "markdown",
   "metadata": {},
   "source": [
    "## 4) Develop LDA Model"
   ]
  },
  {
   "cell_type": "code",
   "execution_count": 9,
   "metadata": {},
   "outputs": [
    {
     "name": "stderr",
     "output_type": "stream",
     "text": [
      "C:\\Users\\morga\\anaconda3\\lib\\site-packages\\ipykernel\\ipkernel.py:287: DeprecationWarning: `should_run_async` will not call `transform_cell` automatically in the future. Please pass the result to `transformed_cell` argument and any exception that happen during thetransform in `preprocessing_exc_tuple` in IPython 7.17 and above.\n",
      "  and should_run_async(code)\n"
     ]
    }
   ],
   "source": [
    "# BoW \n",
    "lda_model_bow = gensim.models.ldamodel.LdaModel(corpus=bow_corpus,\n",
    "                                               id2word=id2word,\n",
    "                                               num_topics=20, \n",
    "                                               random_state=3,\n",
    "                                               update_every=1,\n",
    "                                               chunksize=100,\n",
    "                                               passes=10,\n",
    "                                               alpha='auto',\n",
    "                                               per_word_topics=True)"
   ]
  },
  {
   "cell_type": "code",
   "execution_count": 10,
   "metadata": {},
   "outputs": [
    {
     "name": "stderr",
     "output_type": "stream",
     "text": [
      "C:\\Users\\morga\\anaconda3\\lib\\site-packages\\ipykernel\\ipkernel.py:287: DeprecationWarning: `should_run_async` will not call `transform_cell` automatically in the future. Please pass the result to `transformed_cell` argument and any exception that happen during thetransform in `preprocessing_exc_tuple` in IPython 7.17 and above.\n",
      "  and should_run_async(code)\n"
     ]
    }
   ],
   "source": [
    "# Tf-Idf\n",
    "lda_model_tfidf = gensim.models.ldamodel.LdaModel(corpus=tfidf_corpus,\n",
    "                                               id2word=id2word,\n",
    "                                               num_topics=20, \n",
    "                                               random_state=3,\n",
    "                                               update_every=1,\n",
    "                                               chunksize=100,\n",
    "                                               passes=10,\n",
    "                                               alpha='auto',\n",
    "                                               per_word_topics=True)"
   ]
  },
  {
   "cell_type": "code",
   "execution_count": 11,
   "metadata": {},
   "outputs": [
    {
     "name": "stdout",
     "output_type": "stream",
     "text": [
      "BoW TOPICS:\n",
      "(0, '0.155*\"cash\" + 0.100*\"custom\" + 0.078*\"eu\" + 0.074*\"access\" + 0.073*\"setup\" + 0.049*\"release\" + 0.038*\"tutorial\" + 0.035*\"multiple\" + 0.030*\"worry\" + 0.029*\"bin\"')\n",
      "\n",
      "\n",
      "(1, '0.306*\"bank\" + 0.225*\"account\" + 0.127*\"credit\" + 0.067*\"fullz\" + 0.040*\"cc\" + 0.035*\"paypal\" + 0.032*\"fraud\" + 0.027*\"login\" + 0.011*\"serious\" + 0.011*\"asap\"')\n",
      "\n",
      "\n",
      "(2, '0.219*\"allow\" + 0.117*\"external_contact\" + 0.042*\"passport\" + 0.019*\"hologram\" + 0.000*\"_\" + 0.000*\"phished_rule\" + 0.000*\"delivery_dot\" + 0.000*\"transfer\" + 0.000*\"fake\" + 0.000*\"real\"')\n",
      "\n",
      "\n",
      "(3, '0.416*\"guide\" + 0.054*\"nice\" + 0.049*\"place\" + 0.046*\"interested\" + 0.040*\"s\" + 0.030*\"drug\" + 0.029*\"learn\" + 0.024*\"word\" + 0.023*\"opsec\" + 0.022*\"safe\"')\n",
      "\n",
      "\n",
      "(4, '0.188*\"note\" + 0.088*\"sign\" + 0.048*\"euro\" + 0.040*\"pas\" + 0.035*\"cannabis\" + 0.034*\"print\" + 0.031*\"normal\" + 0.025*\"grade\" + 0.024*\"water\" + 0.021*\"like\"')\n",
      "\n",
      "\n",
      "(5, '0.151*\"name\" + 0.062*\"escrow\" + 0.057*\"cheap\" + 0.038*\"scan\" + 0.035*\"topic\" + 0.032*\"join\" + 0.030*\"worth\" + 0.028*\"large\" + 0.028*\"deliver\" + 0.025*\"mail\"')\n",
      "\n",
      "\n",
      "(6, '0.444*\"offer\" + 0.123*\"service\" + 0.032*\"welcome\" + 0.031*\"score\" + 0.026*\"phone\" + 0.022*\"private\" + 0.020*\"scammer\" + 0.020*\"person\" + 0.019*\"good_luck\" + 0.015*\"limit\"')\n",
      "\n",
      "\n",
      "(7, '0.198*\"pm\" + 0.136*\"weed\" + 0.131*\"guy\" + 0.091*\"uk\" + 0.063*\"able\" + 0.062*\"wait\" + 0.039*\"email\" + 0.034*\"fresh\" + 0.034*\"jabber\" + 0.019*\"several\"')\n",
      "\n",
      "\n",
      "(8, '0.217*\"may\" + 0.173*\"tell\" + 0.070*\"idea\" + 0.070*\"hear\" + 0.032*\"forget\" + 0.031*\"box\" + 0.020*\"text\" + 0.016*\"door\" + 0.010*\"notification\" + 0.009*\"annoying\"')\n",
      "\n",
      "\n",
      "(9, '0.078*\"book\" + 0.022*\"se\" + 0.022*\"domain\" + 0.000*\"real\" + 0.000*\"window\" + 0.000*\"envelope\" + 0.000*\"room\" + 0.000*\"brave\" + 0.000*\"society\" + 0.000*\"bardon\"')\n",
      "\n",
      "\n",
      "(10, '0.309*\"drop\" + 0.110*\"sale\" + 0.105*\"end\" + 0.073*\"le\" + 0.046*\"type\" + 0.035*\"become\" + 0.028*\"e\" + 0.023*\"wish\" + 0.021*\"wall_street\" + 0.015*\"min\"')\n",
      "\n",
      "\n",
      "(11, '0.065*\"market\" + 0.058*\"write\" + 0.044*\"new\" + 0.039*\"vendor\" + 0.028*\"need\" + 0.027*\"go\" + 0.026*\"know\" + 0.024*\"want\" + 0.024*\"help\" + 0.022*\"look\"')\n",
      "\n",
      "\n",
      "(12, '0.128*\"answer\" + 0.101*\"month\" + 0.072*\"line\" + 0.056*\"security\" + 0.052*\"appreciate\" + 0.045*\"version\" + 0.044*\"datum\" + 0.041*\"password\" + 0.027*\"und\" + 0.025*\"die\"')\n",
      "\n",
      "\n",
      "(13, '0.161*\"link\" + 0.098*\"sell\" + 0.090*\"check\" + 0.072*\"contact\" + 0.064*\"shop\" + 0.063*\"gram\" + 0.040*\"info\" + 0.030*\"problem\" + 0.028*\"block\" + 0.028*\"signature\"')\n",
      "\n",
      "\n",
      "(14, '0.115*\"address\" + 0.096*\"btc\" + 0.094*\"say\" + 0.056*\"code\" + 0.051*\"bitcoin\" + 0.046*\"fund\" + 0.043*\"wallet\" + 0.038*\"today\" + 0.036*\"issue\" + 0.034*\"payment\"')\n",
      "\n",
      "\n",
      "(15, '0.080*\"good\" + 0.056*\"make\" + 0.054*\"use\" + 0.042*\"time\" + 0.040*\"money\" + 0.036*\"work\" + 0.035*\"buy\" + 0.027*\"day\" + 0.023*\"take\" + 0.023*\"extra\"')\n",
      "\n",
      "\n",
      "(16, '0.379*\"card\" + 0.141*\"store\" + 0.084*\"wallstreet\" + 0.035*\"seller\" + 0.031*\"point\" + 0.031*\"team\" + 0.026*\"course\" + 0.022*\"physical\" + 0.021*\"atm\" + 0.019*\"debit\"')\n",
      "\n",
      "\n",
      "(17, '0.263*\"order\" + 0.091*\"price\" + 0.090*\"quality\" + 0.084*\"product\" + 0.067*\"customer\" + 0.059*\"great\" + 0.037*\"mg\" + 0.036*\"ship\" + 0.033*\"day\" + 0.033*\"top\"')\n",
      "\n",
      "\n",
      "(18, '0.282*\"high_quality\" + 0.216*\"d\" + 0.028*\"document\" + 0.021*\"license\" + 0.014*\"icq\" + 0.011*\"security_feature\" + 0.006*\"producer\" + 0.001*\"certificate\" + 0.000*\"figured\" + 0.000*\"utopia\"')\n",
      "\n",
      "\n",
      "(19, '0.172*\"feedback\" + 0.116*\"long\" + 0.109*\"review\" + 0.046*\"result\" + 0.040*\"onion\" + 0.037*\"batch\" + 0.034*\"member\" + 0.032*\"cocaine\" + 0.030*\"super\" + 0.027*\"grow\"')\n",
      "\n",
      "\n"
     ]
    },
    {
     "name": "stderr",
     "output_type": "stream",
     "text": [
      "C:\\Users\\morga\\anaconda3\\lib\\site-packages\\ipykernel\\ipkernel.py:287: DeprecationWarning: `should_run_async` will not call `transform_cell` automatically in the future. Please pass the result to `transformed_cell` argument and any exception that happen during thetransform in `preprocessing_exc_tuple` in IPython 7.17 and above.\n",
      "  and should_run_async(code)\n"
     ]
    }
   ],
   "source": [
    "print('BoW TOPICS:')\n",
    "for t in lda_model_bow.print_topics(): \n",
    "    print(t)\n",
    "    print('\\n')"
   ]
  },
  {
   "cell_type": "code",
   "execution_count": 12,
   "metadata": {},
   "outputs": [
    {
     "name": "stdout",
     "output_type": "stream",
     "text": [
      "Tf-Idf TOPICS:\n",
      "(0, '0.039*\"put\" + 0.033*\"problem\" + 0.033*\"allow\" + 0.027*\"eu\" + 0.026*\"kind\" + 0.023*\"setup\" + 0.023*\"thing\" + 0.016*\"external_contact\" + 0.016*\"item\" + 0.011*\"tutorial\"')\n",
      "\n",
      "\n",
      "(1, '0.069*\"cc\" + 0.035*\"asap\" + 0.023*\"serious\" + 0.016*\"canada\" + 0.000*\"bump\" + 0.000*\"_\" + 0.000*\"record_cashout\" + 0.000*\"phished_rule\" + 0.000*\"room\" + 0.000*\"everythingcc_bank\"')\n",
      "\n",
      "\n",
      "(2, '0.021*\"atm\" + 0.011*\"moment\" + 0.010*\"solution\" + 0.000*\"bump\" + 0.000*\"_\" + 0.000*\"record_cashout\" + 0.000*\"phished_rule\" + 0.000*\"room\" + 0.000*\"everythingcc_bank\" + 0.000*\"picsou\"')\n",
      "\n",
      "\n",
      "(3, '0.058*\"profile\" + 0.055*\"guide\" + 0.053*\"order\" + 0.041*\"write\" + 0.036*\"pm\" + 0.032*\"message\" + 0.026*\"go\" + 0.025*\"buy\" + 0.022*\"day\" + 0.021*\"thank\"')\n",
      "\n",
      "\n",
      "(4, '0.193*\"bank\" + 0.088*\"drop\" + 0.035*\"cash\" + 0.028*\"end\" + 0.012*\"e\" + 0.012*\"pas\" + 0.011*\"depend\" + 0.010*\"trouble\" + 0.008*\"wall_street\" + 0.008*\"decrypt\"')\n",
      "\n",
      "\n",
      "(5, '0.030*\"sign\" + 0.030*\"scan\" + 0.026*\"cheap\" + 0.026*\"join\" + 0.022*\"topic\" + 0.017*\"worth\" + 0.013*\"interesting\" + 0.011*\"original\" + 0.010*\"smoke\" + 0.010*\"large\"')\n",
      "\n",
      "\n",
      "(6, '0.047*\"market\" + 0.026*\"offer\" + 0.022*\"good\" + 0.022*\"card\" + 0.022*\"help\" + 0.021*\"new\" + 0.019*\"need\" + 0.018*\"product\" + 0.018*\"vendor\" + 0.017*\"link\"')\n",
      "\n",
      "\n",
      "(7, '0.055*\"weed\" + 0.047*\"wait\" + 0.042*\"move\" + 0.019*\"set\" + 0.011*\"several\" + 0.010*\"error\" + 0.008*\"rating\" + 0.007*\"double\" + 0.007*\"verification\" + 0.003*\"promotion\"')\n",
      "\n",
      "\n",
      "(8, '0.039*\"fraud\" + 0.027*\"wonder\" + 0.000*\"bump\" + 0.000*\"_\" + 0.000*\"record_cashout\" + 0.000*\"phished_rule\" + 0.000*\"room\" + 0.000*\"everythingcc_bank\" + 0.000*\"picsou\" + 0.000*\"day_change\"')\n",
      "\n",
      "\n",
      "(9, '0.000*\"torrent\" + 0.000*\"technitium.com/tmac/-ccleanerjust\" + 0.000*\"weekday\" + 0.000*\"vpneveryone\" + 0.000*\"vanquis\" + 0.000*\"transaction.now\" + 0.000*\"apologizes\" + 0.000*\"tordata\" + 0.000*\"socksnow\" + 0.000*\"string.fullz\"')\n",
      "\n",
      "\n",
      "(10, '0.070*\"uk\" + 0.045*\"long\" + 0.012*\"grow\" + 0.012*\"dnm\" + 0.006*\"face\" + 0.005*\"random\" + 0.002*\"heroin\" + 0.000*\"bump\" + 0.000*\"_\" + 0.000*\"record_cashout\"')\n",
      "\n",
      "\n",
      "(11, '0.049*\"answer\" + 0.044*\"regard\" + 0.043*\"receive\" + 0.027*\"able\" + 0.025*\"key\" + 0.024*\"support\" + 0.017*\"access\" + 0.014*\"security\" + 0.013*\"encrypt\" + 0.013*\"ticket\"')\n",
      "\n",
      "\n",
      "(12, '0.098*\"store\" + 0.056*\"account\" + 0.031*\"extra\" + 0.025*\"method\" + 0.024*\"take\" + 0.019*\"start\" + 0.018*\"pay\" + 0.018*\"many\" + 0.016*\"talk\" + 0.015*\"btc\"')\n",
      "\n",
      "\n",
      "(13, '0.070*\"want\" + 0.036*\"can\" + 0.026*\"scam\" + 0.026*\"get\" + 0.026*\"number\" + 0.019*\"batch\" + 0.019*\"seller\" + 0.019*\"block\" + 0.017*\"mean\" + 0.016*\"sir\"')\n",
      "\n",
      "\n",
      "(14, '0.034*\"appreciate\" + 0.015*\"multiple\" + 0.009*\"passport\" + 0.000*\"bump\" + 0.000*\"_\" + 0.000*\"record_cashout\" + 0.000*\"phished_rule\" + 0.000*\"room\" + 0.000*\"everythingcc_bank\" + 0.000*\"picsou\"')\n",
      "\n",
      "\n",
      "(15, '0.075*\"log\" + 0.047*\"guy\" + 0.038*\"name\" + 0.034*\"review\" + 0.033*\"paypal\" + 0.030*\"login\" + 0.029*\"lot\" + 0.029*\"week\" + 0.026*\"purchase\" + 0.020*\"tx\"')\n",
      "\n",
      "\n",
      "(16, '0.102*\"wsm\" + 0.026*\"wallstreet\" + 0.022*\"verify\" + 0.019*\"point\" + 0.018*\"team\" + 0.018*\"debit\" + 0.018*\"gift\" + 0.015*\"dream\" + 0.012*\"course\" + 0.011*\"wish\"')\n",
      "\n",
      "\n",
      "(17, '0.025*\"track\" + 0.021*\"save\" + 0.016*\"datum\" + 0.015*\"advertise\" + 0.011*\"choose\" + 0.009*\"enter\" + 0.005*\"selling\" + 0.000*\"bump\" + 0.000*\"_\" + 0.000*\"record_cashout\"')\n",
      "\n",
      "\n",
      "(18, '0.000*\"torrent\" + 0.000*\"technitium.com/tmac/-ccleanerjust\" + 0.000*\"weekday\" + 0.000*\"vpneveryone\" + 0.000*\"vanquis\" + 0.000*\"transaction.now\" + 0.000*\"apologizes\" + 0.000*\"tordata\" + 0.000*\"socksnow\" + 0.000*\"string.fullz\"')\n",
      "\n",
      "\n",
      "(19, '0.038*\"sample\" + 0.017*\"mate\" + 0.006*\"thc\" + 0.000*\"bump\" + 0.000*\"_\" + 0.000*\"record_cashout\" + 0.000*\"phished_rule\" + 0.000*\"room\" + 0.000*\"everythingcc_bank\" + 0.000*\"picsou\"')\n",
      "\n",
      "\n"
     ]
    },
    {
     "name": "stderr",
     "output_type": "stream",
     "text": [
      "C:\\Users\\morga\\anaconda3\\lib\\site-packages\\ipykernel\\ipkernel.py:287: DeprecationWarning: `should_run_async` will not call `transform_cell` automatically in the future. Please pass the result to `transformed_cell` argument and any exception that happen during thetransform in `preprocessing_exc_tuple` in IPython 7.17 and above.\n",
      "  and should_run_async(code)\n"
     ]
    }
   ],
   "source": [
    "print('Tf-Idf TOPICS:')\n",
    "for t in lda_model_tfidf.print_topics(): \n",
    "    print(t)\n",
    "    print('\\n')"
   ]
  },
  {
   "cell_type": "markdown",
   "metadata": {},
   "source": [
    "## 4) Model Performance Evaluation\n",
    "\n",
    "### Bag-of-Words"
   ]
  },
  {
   "cell_type": "code",
   "execution_count": 13,
   "metadata": {},
   "outputs": [
    {
     "name": "stderr",
     "output_type": "stream",
     "text": [
      "C:\\Users\\morga\\anaconda3\\lib\\site-packages\\ipykernel\\ipkernel.py:287: DeprecationWarning: `should_run_async` will not call `transform_cell` automatically in the future. Please pass the result to `transformed_cell` argument and any exception that happen during thetransform in `preprocessing_exc_tuple` in IPython 7.17 and above.\n",
      "  and should_run_async(code)\n"
     ]
    },
    {
     "name": "stdout",
     "output_type": "stream",
     "text": [
      "Perplexity:  -17.098545791997772\n",
      "Coherence Score:  0.35361736822624434\n"
     ]
    }
   ],
   "source": [
    "# The lower, the better.\n",
    "print('Perplexity: ', lda_model_bow.log_perplexity(bow_corpus))\n",
    "\n",
    "coherence_model_bow = CoherenceModel(model=lda_model_bow, texts=docs_lemmatized, dictionary=id2word, coherence='c_v')\n",
    "coherence_bow = coherence_model_bow.get_coherence()\n",
    "print('Coherence Score: ', coherence_bow)"
   ]
  },
  {
   "cell_type": "markdown",
   "metadata": {},
   "source": [
    "### Tf-Idf"
   ]
  },
  {
   "cell_type": "code",
   "execution_count": 14,
   "metadata": {},
   "outputs": [
    {
     "name": "stderr",
     "output_type": "stream",
     "text": [
      "C:\\Users\\morga\\anaconda3\\lib\\site-packages\\ipykernel\\ipkernel.py:287: DeprecationWarning: `should_run_async` will not call `transform_cell` automatically in the future. Please pass the result to `transformed_cell` argument and any exception that happen during thetransform in `preprocessing_exc_tuple` in IPython 7.17 and above.\n",
      "  and should_run_async(code)\n"
     ]
    },
    {
     "name": "stdout",
     "output_type": "stream",
     "text": [
      "Perplexity:  -19.951403084908748\n",
      "Coherence Score:  0.31366446152744454\n"
     ]
    }
   ],
   "source": [
    "print('Perplexity: ', lda_model_tfidf.log_perplexity(tfidf_corpus))\n",
    "\n",
    "coherence_model_tfidf = CoherenceModel(model=lda_model_tfidf, texts=docs_lemmatized, dictionary=id2word, coherence='c_v')\n",
    "coherence_tfidf = coherence_model_tfidf.get_coherence()\n",
    "print('Coherence Score: ', coherence_tfidf)"
   ]
  },
  {
   "cell_type": "code",
   "execution_count": null,
   "metadata": {},
   "outputs": [],
   "source": []
  }
 ],
 "metadata": {
  "kernelspec": {
   "display_name": "Python 3",
   "language": "python",
   "name": "python3"
  },
  "language_info": {
   "codemirror_mode": {
    "name": "ipython",
    "version": 3
   },
   "file_extension": ".py",
   "mimetype": "text/x-python",
   "name": "python",
   "nbconvert_exporter": "python",
   "pygments_lexer": "ipython3",
   "version": "3.7.9"
  }
 },
 "nbformat": 4,
 "nbformat_minor": 4
}
