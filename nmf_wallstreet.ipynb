{
 "cells": [
  {
   "cell_type": "code",
   "execution_count": 37,
   "metadata": {},
   "outputs": [],
   "source": [
    "import pandas as pd\n",
    "import numpy as np\n",
    "\n",
    "import matplotlib.pyplot as plt\n",
    "import seaborn as sns\n",
    "%matplotlib inline\n",
    "\n",
    "import re\n",
    "from src import utils, nmf_utils, lda_utils\n",
    "from bs4 import BeautifulSoup\n",
    "\n",
    "import nltk\n",
    "from nltk.corpus import stopwords\n",
    "#nltk.download('wordnet')\n",
    "\n",
    "from sklearn.feature_extraction.text import CountVectorizer, TfidfVectorizer\n",
    "from sklearn.decomposition import NMF\n",
    "\n",
    "from gensim.models.coherencemodel import CoherenceModel\n",
    "from gensim.corpora.dictionary import Dictionary\n",
    "from gensim.models.nmf import Nmf\n",
    "\n",
    "from collections import Counter\n",
    "from operator import itemgetter"
   ]
  },
  {
   "cell_type": "markdown",
   "metadata": {},
   "source": [
    "# NMF - Wall Street Forum"
   ]
  },
  {
   "cell_type": "code",
   "execution_count": 4,
   "metadata": {},
   "outputs": [],
   "source": [
    "def bow_vectorizer(docs_raw, min_doc_freq, max_doc_freq, max_feats, ngram_rng):\n",
    "    '''\n",
    "    \n",
    "    Args:\n",
    "        \n",
    "    Return:\n",
    "    \n",
    "    '''\n",
    "    vectorizer = CountVectorizer(min_df=min_doc_freq, max_df=max_doc_freq, max_features=max_feats, ngram_range=ngram_rng)\n",
    "    docs_vectorized = vectorizer.fit_transform(docs_raw)\n",
    "    return docs_vectorized, vectorizer\n"
   ]
  },
  {
   "cell_type": "code",
   "execution_count": 5,
   "metadata": {},
   "outputs": [],
   "source": [
    "def tfidf_vectorizer(docs_raw, min_doc_freq, max_doc_freq, max_feats, ngram_rng):\n",
    "    '''\n",
    "    \n",
    "    Args:\n",
    "        \n",
    "    Return:\n",
    "    \n",
    "    '''\n",
    "    vectorizer = TfidfVectorizer(min_df=min_doc_freq, max_df=max_doc_freq, max_features=max_feats, ngram_range=ngram_rng)\n",
    "    docs_vectorized = vectorizer.fit_transform(docs_raw)\n",
    "    return docs_vectorized, vectorizer"
   ]
  },
  {
   "cell_type": "code",
   "execution_count": 6,
   "metadata": {},
   "outputs": [],
   "source": [
    "def print_topics(model, count_vectorizer, n_top_words):\n",
    "    '''\n",
    "   \n",
    "    Args:\n",
    "    \n",
    "        \n",
    "    Return:\n",
    "    \n",
    "        \n",
    "    '''\n",
    "    \n",
    "    words = count_vectorizer.get_feature_names()\n",
    "    for topic_idx, topic in enumerate(model.components_):\n",
    "        top_words_arr = [words[i] for i in topic.argsort()[:-n_top_words - 1:-1]]\n",
    "        print(\"\\nTopic #{}:\".format(topic_idx))\n",
    "        print(\" \".join(top_words_arr))"
   ]
  },
  {
   "cell_type": "code",
   "execution_count": 27,
   "metadata": {},
   "outputs": [],
   "source": [
    "# wsm = Wall Street Market\n",
    "# append_to_stopwords = ['wsm']\n",
    "\n",
    "stop_words = stopwords.words(\"english\")# .append(append_to_stopwords)\n",
    "stopwords_dict = Counter(stop_words)\n",
    "\n",
    "\n",
    "def tokenize_lemmatize(text):\n",
    "    '''\n",
    "    \n",
    "    \n",
    "    Args:\n",
    "        comment (str) : Content of the author's post in Wall Street Market.\n",
    "        \n",
    "    Return:\n",
    "        lem_tokens (arr) : The cleaned, tokenized and lemmetized version of comment.\n",
    "        \n",
    "    '''\n",
    "    \n",
    "    \n",
    "    \n",
    "    tokens = nltk.word_tokenize(text)\n",
    "    tokens = [t for t in tokens if t not in stopwords_dict]\n",
    "    \n",
    "    wordnet_lemma = nltk.WordNetLemmatizer()\n",
    "    lem_tokens = [wordnet_lemma.lemmatize(t) for t in tokens]\n",
    "    \n",
    "    return lem_tokens"
   ]
  },
  {
   "cell_type": "markdown",
   "metadata": {},
   "source": [
    "## Import Dataset and Model Inputs"
   ]
  },
  {
   "cell_type": "code",
   "execution_count": 28,
   "metadata": {},
   "outputs": [],
   "source": [
    "wallstreet = pd.read_csv('data/wallstreet_master.csv')"
   ]
  },
  {
   "cell_type": "code",
   "execution_count": 29,
   "metadata": {},
   "outputs": [],
   "source": [
    "# Must perform again b/c tokens are transformed to strings when saved to \"data/wallstreet_master.csv\" in \"wallstreet_feat_eng_eda.ipynb\"\n",
    "wallstreet['tokens_for_nmf'] = wallstreet['cleaned_text'].apply(tokenize_lemmatize)"
   ]
  },
  {
   "cell_type": "code",
   "execution_count": 31,
   "metadata": {},
   "outputs": [
    {
     "data": {
      "text/html": [
       "<div>\n",
       "<style scoped>\n",
       "    .dataframe tbody tr th:only-of-type {\n",
       "        vertical-align: middle;\n",
       "    }\n",
       "\n",
       "    .dataframe tbody tr th {\n",
       "        vertical-align: top;\n",
       "    }\n",
       "\n",
       "    .dataframe thead th {\n",
       "        text-align: right;\n",
       "    }\n",
       "</style>\n",
       "<table border=\"1\" class=\"dataframe\">\n",
       "  <thead>\n",
       "    <tr style=\"text-align: right;\">\n",
       "      <th></th>\n",
       "      <th>postID</th>\n",
       "      <th>threadID</th>\n",
       "      <th>threadTitle</th>\n",
       "      <th>subforum</th>\n",
       "      <th>authorName</th>\n",
       "      <th>postAuthorMembership</th>\n",
       "      <th>authorReputation</th>\n",
       "      <th>postSequence</th>\n",
       "      <th>flatContent</th>\n",
       "      <th>contentWithHTMLTag</th>\n",
       "      <th>post_date_dt</th>\n",
       "      <th>author_join_date</th>\n",
       "      <th>num_days_member_when_posted</th>\n",
       "      <th>wordcloud_text</th>\n",
       "      <th>cleaned_text</th>\n",
       "      <th>lemmatized_tokens</th>\n",
       "      <th>tokens_for_nmf</th>\n",
       "    </tr>\n",
       "  </thead>\n",
       "  <tbody>\n",
       "    <tr>\n",
       "      <th>0</th>\n",
       "      <td>6</td>\n",
       "      <td>5</td>\n",
       "      <td>Hi</td>\n",
       "      <td>Introductions</td>\n",
       "      <td>Punka421</td>\n",
       "      <td>New member</td>\n",
       "      <td>-3</td>\n",
       "      <td>1</td>\n",
       "      <td>\\nJust thought I'd introduce myself. I am new ...</td>\n",
       "      <td>&lt;div class=\"entry-content\"&gt;\\n&lt;p&gt;Just thought I...</td>\n",
       "      <td>2016-10-26 13:58:36</td>\n",
       "      <td>2016-10-26 00:00:00</td>\n",
       "      <td>0.0</td>\n",
       "      <td>thought id introduce new communities trying le...</td>\n",
       "      <td>just thought id introduce myself i am new to ...</td>\n",
       "      <td>['thought', 'id', 'introduce', 'new', 'communi...</td>\n",
       "      <td>[thought, id, introduce, new, community, tryin...</td>\n",
       "    </tr>\n",
       "    <tr>\n",
       "      <th>1</th>\n",
       "      <td>7</td>\n",
       "      <td>5</td>\n",
       "      <td>Hi</td>\n",
       "      <td>Introductions</td>\n",
       "      <td>WSM</td>\n",
       "      <td>Administrator</td>\n",
       "      <td>66</td>\n",
       "      <td>2</td>\n",
       "      <td>\\nHello  Nice to see you here!Regards\\n</td>\n",
       "      <td>&lt;div class=\"entry-content\"&gt;\\n&lt;p&gt;Hello &lt;img alt...</td>\n",
       "      <td>2016-10-26 14:04:04</td>\n",
       "      <td>2016-10-02 00:00:00</td>\n",
       "      <td>24.0</td>\n",
       "      <td>hello nice see hereregards</td>\n",
       "      <td>hello  nice to see you hereregards</td>\n",
       "      <td>['hello', 'nice', 'see', 'hereregards']</td>\n",
       "      <td>[hello, nice, see, hereregards]</td>\n",
       "    </tr>\n",
       "    <tr>\n",
       "      <th>2</th>\n",
       "      <td>8</td>\n",
       "      <td>6</td>\n",
       "      <td>WSM Updates - Changelog (Page 1 of 4)</td>\n",
       "      <td>Announcements</td>\n",
       "      <td>WSM</td>\n",
       "      <td>Administrator</td>\n",
       "      <td>74</td>\n",
       "      <td>1</td>\n",
       "      <td>\\nHello everyone.I would like to tell you that...</td>\n",
       "      <td>&lt;div class=\"entry-content\"&gt;\\n&lt;p&gt;Hello everyone...</td>\n",
       "      <td>2016-10-26 16:54:27</td>\n",
       "      <td>2016-10-02 00:00:00</td>\n",
       "      <td>24.0</td>\n",
       "      <td>hello everyonei would like tell weve implement...</td>\n",
       "      <td>hello everyonei would like to tell you that w...</td>\n",
       "      <td>['hello', 'everyonei', 'would', 'like', 'tell'...</td>\n",
       "      <td>[hello, everyonei, would, like, tell, weve, im...</td>\n",
       "    </tr>\n",
       "    <tr>\n",
       "      <th>3</th>\n",
       "      <td>11</td>\n",
       "      <td>5</td>\n",
       "      <td>Hi</td>\n",
       "      <td>Introductions</td>\n",
       "      <td>Estrazy</td>\n",
       "      <td>Banned</td>\n",
       "      <td>0</td>\n",
       "      <td>3</td>\n",
       "      <td>\\nHello Punka! nice to meet you!As you asked h...</td>\n",
       "      <td>&lt;div class=\"entry-content\"&gt;\\n&lt;p&gt;Hello Punka! n...</td>\n",
       "      <td>2016-10-27 14:00:16</td>\n",
       "      <td>2016-10-27 00:00:00</td>\n",
       "      <td>0.0</td>\n",
       "      <td>hello punka nice meet youas asked stay secure ...</td>\n",
       "      <td>hello punka nice to meet youas you asked how ...</td>\n",
       "      <td>['hello', 'punka', 'nice', 'meet', 'youas', 'a...</td>\n",
       "      <td>[hello, punka, nice, meet, youas, asked, stay,...</td>\n",
       "    </tr>\n",
       "    <tr>\n",
       "      <th>4</th>\n",
       "      <td>13</td>\n",
       "      <td>6</td>\n",
       "      <td>WSM Updates - Changelog (Page 1 of 4)</td>\n",
       "      <td>Announcements</td>\n",
       "      <td>WSM</td>\n",
       "      <td>Administrator</td>\n",
       "      <td>74</td>\n",
       "      <td>2</td>\n",
       "      <td>\\nChangelog from Wednesday, 2nd November 2016F...</td>\n",
       "      <td>&lt;div class=\"entry-content\"&gt;\\n&lt;h5&gt;Changelog fro...</td>\n",
       "      <td>2016-11-02 15:42:27</td>\n",
       "      <td>2016-10-02 00:00:00</td>\n",
       "      <td>31.0</td>\n",
       "      <td>changelog wednesday november lot small issues ...</td>\n",
       "      <td>changelog from wednesday  november  a lot of ...</td>\n",
       "      <td>['changelog', 'wednesday', 'november', 'lot', ...</td>\n",
       "      <td>[changelog, wednesday, november, lot, small, i...</td>\n",
       "    </tr>\n",
       "  </tbody>\n",
       "</table>\n",
       "</div>"
      ],
      "text/plain": [
       "   postID  threadID                            threadTitle       subforum  \\\n",
       "0       6         5                                     Hi  Introductions   \n",
       "1       7         5                                     Hi  Introductions   \n",
       "2       8         6  WSM Updates - Changelog (Page 1 of 4)  Announcements   \n",
       "3      11         5                                     Hi  Introductions   \n",
       "4      13         6  WSM Updates - Changelog (Page 1 of 4)  Announcements   \n",
       "\n",
       "  authorName postAuthorMembership  authorReputation  postSequence  \\\n",
       "0   Punka421           New member                -3             1   \n",
       "1        WSM        Administrator                66             2   \n",
       "2        WSM        Administrator                74             1   \n",
       "3    Estrazy               Banned                 0             3   \n",
       "4        WSM        Administrator                74             2   \n",
       "\n",
       "                                         flatContent  \\\n",
       "0  \\nJust thought I'd introduce myself. I am new ...   \n",
       "1            \\nHello  Nice to see you here!Regards\\n   \n",
       "2  \\nHello everyone.I would like to tell you that...   \n",
       "3  \\nHello Punka! nice to meet you!As you asked h...   \n",
       "4  \\nChangelog from Wednesday, 2nd November 2016F...   \n",
       "\n",
       "                                  contentWithHTMLTag         post_date_dt  \\\n",
       "0  <div class=\"entry-content\">\\n<p>Just thought I...  2016-10-26 13:58:36   \n",
       "1  <div class=\"entry-content\">\\n<p>Hello <img alt...  2016-10-26 14:04:04   \n",
       "2  <div class=\"entry-content\">\\n<p>Hello everyone...  2016-10-26 16:54:27   \n",
       "3  <div class=\"entry-content\">\\n<p>Hello Punka! n...  2016-10-27 14:00:16   \n",
       "4  <div class=\"entry-content\">\\n<h5>Changelog fro...  2016-11-02 15:42:27   \n",
       "\n",
       "      author_join_date  num_days_member_when_posted  \\\n",
       "0  2016-10-26 00:00:00                          0.0   \n",
       "1  2016-10-02 00:00:00                         24.0   \n",
       "2  2016-10-02 00:00:00                         24.0   \n",
       "3  2016-10-27 00:00:00                          0.0   \n",
       "4  2016-10-02 00:00:00                         31.0   \n",
       "\n",
       "                                      wordcloud_text  \\\n",
       "0  thought id introduce new communities trying le...   \n",
       "1                         hello nice see hereregards   \n",
       "2  hello everyonei would like tell weve implement...   \n",
       "3  hello punka nice meet youas asked stay secure ...   \n",
       "4  changelog wednesday november lot small issues ...   \n",
       "\n",
       "                                        cleaned_text  \\\n",
       "0   just thought id introduce myself i am new to ...   \n",
       "1                hello  nice to see you hereregards    \n",
       "2   hello everyonei would like to tell you that w...   \n",
       "3   hello punka nice to meet youas you asked how ...   \n",
       "4   changelog from wednesday  november  a lot of ...   \n",
       "\n",
       "                                   lemmatized_tokens  \\\n",
       "0  ['thought', 'id', 'introduce', 'new', 'communi...   \n",
       "1            ['hello', 'nice', 'see', 'hereregards']   \n",
       "2  ['hello', 'everyonei', 'would', 'like', 'tell'...   \n",
       "3  ['hello', 'punka', 'nice', 'meet', 'youas', 'a...   \n",
       "4  ['changelog', 'wednesday', 'november', 'lot', ...   \n",
       "\n",
       "                                      tokens_for_nmf  \n",
       "0  [thought, id, introduce, new, community, tryin...  \n",
       "1                    [hello, nice, see, hereregards]  \n",
       "2  [hello, everyonei, would, like, tell, weve, im...  \n",
       "3  [hello, punka, nice, meet, youas, asked, stay,...  \n",
       "4  [changelog, wednesday, november, lot, small, i...  "
      ]
     },
     "execution_count": 31,
     "metadata": {},
     "output_type": "execute_result"
    }
   ],
   "source": [
    "wallstreet.head()"
   ]
  },
  {
   "cell_type": "code",
   "execution_count": 67,
   "metadata": {},
   "outputs": [],
   "source": [
    "docs_raw = wallstreet['tokens_for_nmf']"
   ]
  },
  {
   "cell_type": "code",
   "execution_count": 33,
   "metadata": {},
   "outputs": [],
   "source": []
  },
  {
   "cell_type": "markdown",
   "metadata": {},
   "source": [
    "---\n",
    "## Use Gensim to Identify Optimal Number of Topics"
   ]
  },
  {
   "cell_type": "code",
   "execution_count": 35,
   "metadata": {},
   "outputs": [],
   "source": [
    "gensim_dict = Dictionary(docs_raw)\n",
    "gensim_dict.filter_extremes(no_below=0.1, no_above=0.85, keep_n=10000)\n",
    "\n",
    "corpus = [gensim_dict.doc2bow(doc) for doc in docs_raw]\n",
    "\n"
   ]
  },
  {
   "cell_type": "code",
   "execution_count": 62,
   "metadata": {},
   "outputs": [
    {
     "name": "stdout",
     "output_type": "stream",
     "text": [
      "[(12, 0.58383), (3, 0.58256), (21, 0.55279), (30, 0.5517), (9, 0.54829), (15, 0.54409), (18, 0.53731), (27, 0.53252), (39, 0.53201), (24, 0.52232), (42, 0.51588), (36, 0.50996), (33, 0.49448), (6, 0.48693)]\n"
     ]
    }
   ],
   "source": [
    "num_topics_rng = list(np.arange(3, 42 + 1, 3)) \n",
    "coherence_scores = []\n",
    "\n",
    "# NMF MODEL PARAMS\n",
    "num_passes_over_training_docs = 5\n",
    "gradient_desc_step = 0.1\n",
    "\n",
    "# the \"normalized\" arg must equal true to be relevant.\n",
    "floor_probs_for_topics = 0.005\n",
    "normalize = True\n",
    "num_training_docs_per_chunk = 5000\n",
    "\n",
    "# W = topics by words\n",
    "w_max_iter=300\n",
    "w_stop_condition=0.0001\n",
    "\n",
    "# H = articles by topics\n",
    "h_max_iter=100\n",
    "h_stop_condition=0.001\n",
    "eval_every=10\n",
    "random_state = 3\n",
    "\n",
    "for num in num_topics_rng:\n",
    "    nmf = Nmf(corpus=corpus, num_topics=num, id2word=gensim_dict, chunksize=num_training_docs_per_chunk,  passes=num_passes_over_training_docs, kappa=gradient_desc_step,\n",
    "             normalize=normalize, minimum_probability=floor_probs_for_topics, w_max_iter=w_max_iter, w_stop_condition=w_stop_condition, h_max_iter=h_max_iter,\n",
    "             h_stop_condition=h_stop_condition, eval_every=eval_every, random_state=random_state)\n",
    "    \n",
    "    coherence_model = CoherenceModel(model=nmf, texts=docs_raw, dictionary=gensim_dict, coherence='c_v')\n",
    "    \n",
    "    coherence_scores.append(round(coherence_model.get_coherence(), 5))\n",
    "\n",
    "scores = list(zip(num_topics_rng, coherence_scores))\n",
    "topics_sorted_by_co_score = sorted(scores, key=itemgetter(1), reverse=True)\n",
    "print(topics_sorted_by_co_score)"
   ]
  },
  {
   "cell_type": "code",
   "execution_count": 66,
   "metadata": {},
   "outputs": [
    {
     "data": {
      "image/png": "[encoded data removed]",
      "text/plain": [
       "<Figure size 576x360 with 1 Axes>"
      ]
     },
     "metadata": {
      "needs_background": "light"
     },
     "output_type": "display_data"
    }
   ],
   "source": [
    "coherence_scores = [scores[i][1] for i in range(len(scores))]\n",
    "\n",
    "fig, ax = plt.subplots(figsize=(8,5))\n",
    "ax.plot(num_topics_rng, coherence_scores, linewidth=3)\n",
    "ax.set_title('NMF Model Performance by Number of Topics', fontsize=14)\n",
    "ax.set_xlabel('# of Topics')\n",
    "ax.set_ylabel('Coherence Score')\n",
    "plt.tight_layout();"
   ]
  },
  {
   "cell_type": "code",
   "execution_count": 59,
   "metadata": {},
   "outputs": [
    {
     "data": {
      "image/png": "[encoded data removed]",
      "text/plain": [
       "<Figure size 504x288 with 1 Axes>"
      ]
     },
     "metadata": {
      "needs_background": "light"
     },
     "output_type": "display_data"
    }
   ],
   "source": [
    "coherence_scores = [scores[i][1] for i in range(len(scores))]\n",
    "\n",
    "fig, ax = plt.subplots(figsize=(7,4))\n",
    "ax.plot(num_topics_rng, coherence_scores, linewidth=3)\n",
    "ax.set_title('NMF Model Performance by Number of Topics', fontsize=14)\n",
    "ax.set_xlabel('# of Topics')\n",
    "ax.set_ylabel('Coherence Score')\n",
    "plt.tight_layout();"
   ]
  },
  {
   "cell_type": "markdown",
   "metadata": {},
   "source": [
    "---\n",
    "## NMF Inputs"
   ]
  },
  {
   "cell_type": "code",
   "execution_count": 69,
   "metadata": {},
   "outputs": [],
   "source": [
    "lemmatized_tokens = wallstreet['lemmatized_tokens']"
   ]
  },
  {
   "cell_type": "markdown",
   "metadata": {},
   "source": [
    "---\n",
    "## NMF - Bag of Words "
   ]
  },
  {
   "cell_type": "code",
   "execution_count": null,
   "metadata": {},
   "outputs": [],
   "source": []
  },
  {
   "cell_type": "code",
   "execution_count": 72,
   "metadata": {},
   "outputs": [],
   "source": [
    "# bow_docs_vectorized,  bow_vectorizer = bow_vectorizer(docs_raw, min_doc_freq, max_doc_freq, max_feats, ngram_rng)\n",
    "\n",
    "best_num_topics = 20\n",
    "\n",
    "bow_vectorizer = CountVectorizer(min_df=min_doc_freq, max_df=max_doc_freq, max_features=max_feats, ngram_range=ngram_rng)\n",
    "bow_docs_vectorized = bow_vectorizer.fit_transform(lemmatized_tokens)\n",
    "nmf_bow = NMF(\n",
    "    n_components=best_num_topics,\n",
    "    init='nndsvd',\n",
    "    max_iter=500,\n",
    "    l1_ratio=0.0,\n",
    "    solver='cd',\n",
    "    alpha=0.0,\n",
    "    tol=1e-4,\n",
    "    random_state=3).fit(bow_docs_vectorized)"
   ]
  },
  {
   "cell_type": "code",
   "execution_count": 73,
   "metadata": {},
   "outputs": [
    {
     "ename": "AttributeError",
     "evalue": "'list' object has no attribute 'lower'",
     "output_type": "error",
     "traceback": [
      "\u001b[1;31m---------------------------------------------------------------------------\u001b[0m",
      "\u001b[1;31mAttributeError\u001b[0m                            Traceback (most recent call last)",
      "\u001b[1;32m<ipython-input-73-153dcd85227d>\u001b[0m in \u001b[0;36m<module>\u001b[1;34m\u001b[0m\n\u001b[1;32m----> 1\u001b[1;33m \u001b[0mdoc_weights\u001b[0m \u001b[1;33m=\u001b[0m \u001b[0mnmf_bow\u001b[0m\u001b[1;33m.\u001b[0m\u001b[0mtransform\u001b[0m\u001b[1;33m(\u001b[0m\u001b[0mbow_vectorizer\u001b[0m\u001b[1;33m.\u001b[0m\u001b[0mtransform\u001b[0m\u001b[1;33m(\u001b[0m\u001b[0mdocs_raw\u001b[0m\u001b[1;33m)\u001b[0m\u001b[1;33m)\u001b[0m\u001b[1;33m\u001b[0m\u001b[1;33m\u001b[0m\u001b[0m\n\u001b[0m",
      "\u001b[1;32m~\\anaconda3\\lib\\site-packages\\sklearn\\feature_extraction\\text.py\u001b[0m in \u001b[0;36mtransform\u001b[1;34m(self, raw_documents)\u001b[0m\n\u001b[0;32m   1247\u001b[0m \u001b[1;33m\u001b[0m\u001b[0m\n\u001b[0;32m   1248\u001b[0m         \u001b[1;31m# use the same matrix-building strategy as fit_transform\u001b[0m\u001b[1;33m\u001b[0m\u001b[1;33m\u001b[0m\u001b[1;33m\u001b[0m\u001b[0m\n\u001b[1;32m-> 1249\u001b[1;33m         \u001b[0m_\u001b[0m\u001b[1;33m,\u001b[0m \u001b[0mX\u001b[0m \u001b[1;33m=\u001b[0m \u001b[0mself\u001b[0m\u001b[1;33m.\u001b[0m\u001b[0m_count_vocab\u001b[0m\u001b[1;33m(\u001b[0m\u001b[0mraw_documents\u001b[0m\u001b[1;33m,\u001b[0m \u001b[0mfixed_vocab\u001b[0m\u001b[1;33m=\u001b[0m\u001b[1;32mTrue\u001b[0m\u001b[1;33m)\u001b[0m\u001b[1;33m\u001b[0m\u001b[1;33m\u001b[0m\u001b[0m\n\u001b[0m\u001b[0;32m   1250\u001b[0m         \u001b[1;32mif\u001b[0m \u001b[0mself\u001b[0m\u001b[1;33m.\u001b[0m\u001b[0mbinary\u001b[0m\u001b[1;33m:\u001b[0m\u001b[1;33m\u001b[0m\u001b[1;33m\u001b[0m\u001b[0m\n\u001b[0;32m   1251\u001b[0m             \u001b[0mX\u001b[0m\u001b[1;33m.\u001b[0m\u001b[0mdata\u001b[0m\u001b[1;33m.\u001b[0m\u001b[0mfill\u001b[0m\u001b[1;33m(\u001b[0m\u001b[1;36m1\u001b[0m\u001b[1;33m)\u001b[0m\u001b[1;33m\u001b[0m\u001b[1;33m\u001b[0m\u001b[0m\n",
      "\u001b[1;32m~\\anaconda3\\lib\\site-packages\\sklearn\\feature_extraction\\text.py\u001b[0m in \u001b[0;36m_count_vocab\u001b[1;34m(self, raw_documents, fixed_vocab)\u001b[0m\n\u001b[0;32m   1108\u001b[0m         \u001b[1;32mfor\u001b[0m \u001b[0mdoc\u001b[0m \u001b[1;32min\u001b[0m \u001b[0mraw_documents\u001b[0m\u001b[1;33m:\u001b[0m\u001b[1;33m\u001b[0m\u001b[1;33m\u001b[0m\u001b[0m\n\u001b[0;32m   1109\u001b[0m             \u001b[0mfeature_counter\u001b[0m \u001b[1;33m=\u001b[0m \u001b[1;33m{\u001b[0m\u001b[1;33m}\u001b[0m\u001b[1;33m\u001b[0m\u001b[1;33m\u001b[0m\u001b[0m\n\u001b[1;32m-> 1110\u001b[1;33m             \u001b[1;32mfor\u001b[0m \u001b[0mfeature\u001b[0m \u001b[1;32min\u001b[0m \u001b[0manalyze\u001b[0m\u001b[1;33m(\u001b[0m\u001b[0mdoc\u001b[0m\u001b[1;33m)\u001b[0m\u001b[1;33m:\u001b[0m\u001b[1;33m\u001b[0m\u001b[1;33m\u001b[0m\u001b[0m\n\u001b[0m\u001b[0;32m   1111\u001b[0m                 \u001b[1;32mtry\u001b[0m\u001b[1;33m:\u001b[0m\u001b[1;33m\u001b[0m\u001b[1;33m\u001b[0m\u001b[0m\n\u001b[0;32m   1112\u001b[0m                     \u001b[0mfeature_idx\u001b[0m \u001b[1;33m=\u001b[0m \u001b[0mvocabulary\u001b[0m\u001b[1;33m[\u001b[0m\u001b[0mfeature\u001b[0m\u001b[1;33m]\u001b[0m\u001b[1;33m\u001b[0m\u001b[1;33m\u001b[0m\u001b[0m\n",
      "\u001b[1;32m~\\anaconda3\\lib\\site-packages\\sklearn\\feature_extraction\\text.py\u001b[0m in \u001b[0;36m_analyze\u001b[1;34m(doc, analyzer, tokenizer, ngrams, preprocessor, decoder, stop_words)\u001b[0m\n\u001b[0;32m    102\u001b[0m     \u001b[1;32melse\u001b[0m\u001b[1;33m:\u001b[0m\u001b[1;33m\u001b[0m\u001b[1;33m\u001b[0m\u001b[0m\n\u001b[0;32m    103\u001b[0m         \u001b[1;32mif\u001b[0m \u001b[0mpreprocessor\u001b[0m \u001b[1;32mis\u001b[0m \u001b[1;32mnot\u001b[0m \u001b[1;32mNone\u001b[0m\u001b[1;33m:\u001b[0m\u001b[1;33m\u001b[0m\u001b[1;33m\u001b[0m\u001b[0m\n\u001b[1;32m--> 104\u001b[1;33m             \u001b[0mdoc\u001b[0m \u001b[1;33m=\u001b[0m \u001b[0mpreprocessor\u001b[0m\u001b[1;33m(\u001b[0m\u001b[0mdoc\u001b[0m\u001b[1;33m)\u001b[0m\u001b[1;33m\u001b[0m\u001b[1;33m\u001b[0m\u001b[0m\n\u001b[0m\u001b[0;32m    105\u001b[0m         \u001b[1;32mif\u001b[0m \u001b[0mtokenizer\u001b[0m \u001b[1;32mis\u001b[0m \u001b[1;32mnot\u001b[0m \u001b[1;32mNone\u001b[0m\u001b[1;33m:\u001b[0m\u001b[1;33m\u001b[0m\u001b[1;33m\u001b[0m\u001b[0m\n\u001b[0;32m    106\u001b[0m             \u001b[0mdoc\u001b[0m \u001b[1;33m=\u001b[0m \u001b[0mtokenizer\u001b[0m\u001b[1;33m(\u001b[0m\u001b[0mdoc\u001b[0m\u001b[1;33m)\u001b[0m\u001b[1;33m\u001b[0m\u001b[1;33m\u001b[0m\u001b[0m\n",
      "\u001b[1;32m~\\anaconda3\\lib\\site-packages\\sklearn\\feature_extraction\\text.py\u001b[0m in \u001b[0;36m_preprocess\u001b[1;34m(doc, accent_function, lower)\u001b[0m\n\u001b[0;32m     67\u001b[0m     \"\"\"\n\u001b[0;32m     68\u001b[0m     \u001b[1;32mif\u001b[0m \u001b[0mlower\u001b[0m\u001b[1;33m:\u001b[0m\u001b[1;33m\u001b[0m\u001b[1;33m\u001b[0m\u001b[0m\n\u001b[1;32m---> 69\u001b[1;33m         \u001b[0mdoc\u001b[0m \u001b[1;33m=\u001b[0m \u001b[0mdoc\u001b[0m\u001b[1;33m.\u001b[0m\u001b[0mlower\u001b[0m\u001b[1;33m(\u001b[0m\u001b[1;33m)\u001b[0m\u001b[1;33m\u001b[0m\u001b[1;33m\u001b[0m\u001b[0m\n\u001b[0m\u001b[0;32m     70\u001b[0m     \u001b[1;32mif\u001b[0m \u001b[0maccent_function\u001b[0m \u001b[1;32mis\u001b[0m \u001b[1;32mnot\u001b[0m \u001b[1;32mNone\u001b[0m\u001b[1;33m:\u001b[0m\u001b[1;33m\u001b[0m\u001b[1;33m\u001b[0m\u001b[0m\n\u001b[0;32m     71\u001b[0m         \u001b[0mdoc\u001b[0m \u001b[1;33m=\u001b[0m \u001b[0maccent_function\u001b[0m\u001b[1;33m(\u001b[0m\u001b[0mdoc\u001b[0m\u001b[1;33m)\u001b[0m\u001b[1;33m\u001b[0m\u001b[1;33m\u001b[0m\u001b[0m\n",
      "\u001b[1;31mAttributeError\u001b[0m: 'list' object has no attribute 'lower'"
     ]
    }
   ],
   "source": [
    "# doc_weights = nmf_bow.transform(bow_vectorizer.transform(docs_raw))"
   ]
  },
  {
   "cell_type": "code",
   "execution_count": 74,
   "metadata": {},
   "outputs": [
    {
     "name": "stdout",
     "output_type": "stream",
     "text": [
      "\n",
      "Topic #0:\n",
      "bank one account know day dont get get phished good help\n",
      "\n",
      "Topic #1:\n",
      "dont phished wsm help know bank day get get phished good help\n",
      "\n",
      "Topic #2:\n",
      "phished help get get phished wsm help phished rule get wsm help rule im\n",
      "\n",
      "Topic #3:\n",
      "account phished bank know day dont get get phished good help\n",
      "\n",
      "Topic #4:\n",
      "market vendor bank wsm help know day dont get get phished good\n",
      "\n",
      "Topic #5:\n",
      "vendor wsm help know bank day dont get get phished good help\n",
      "\n",
      "Topic #6:\n",
      "new bank offer wsm help know day dont get get phished good\n",
      "\n",
      "Topic #7:\n",
      "get help get wsm help wsm bank day dont get phished good help\n",
      "\n",
      "Topic #8:\n",
      "one need wsm help know bank day dont get get phished good\n",
      "\n",
      "Topic #9:\n",
      "need get know like vendor please dont im bank day\n",
      "\n",
      "Topic #10:\n",
      "like know good need bank day dont get get phished help\n",
      "\n",
      "Topic #11:\n",
      "good know wsm help wsm bank day dont get get phished help\n",
      "\n",
      "Topic #12:\n",
      "im phished wsm help know bank day dont get get phished good\n",
      "\n",
      "Topic #13:\n",
      "offer market bank get new wsm help im day dont get phished\n",
      "\n",
      "Topic #14:\n",
      "know need dont day wsm help bank get get phished good help\n",
      "\n",
      "Topic #15:\n",
      "day market new need dont offer wsm help im bank get\n",
      "\n",
      "Topic #16:\n",
      "please phished market vendor like new help get bank day dont\n",
      "\n",
      "Topic #17:\n",
      "wsm phished offer wsm help im bank day dont get get phished\n",
      "\n",
      "Topic #18:\n",
      "help help get need dont im please new offer wsm help bank\n",
      "\n",
      "Topic #19:\n",
      "rule help get wsm help phished rule please need dont im good\n"
     ]
    }
   ],
   "source": [
    "n_top_words = 10\n",
    "\n",
    "print_topics(nmf_bow, bow_vectorizer, n_top_words)"
   ]
  },
  {
   "cell_type": "markdown",
   "metadata": {},
   "source": [
    "---\n",
    "## NMF - Tf-Idf"
   ]
  },
  {
   "cell_type": "code",
   "execution_count": 75,
   "metadata": {},
   "outputs": [],
   "source": [
    "# bow_docs_vectorized,  bow_vectorizer = bow_vectorizer(docs_raw, min_doc_freq, max_doc_freq, max_feats, ngram_rng)\n",
    "\n",
    "best_num_topics = 20\n",
    "\n",
    "tfidf_vectorizer = TfidfVectorizer(min_df=min_doc_freq, max_df=max_doc_freq, max_features=max_feats, ngram_range=ngram_rng)\n",
    "tfidf_docs_vectorized = tfidf_vectorizer.fit_transform(lemmatized_tokens)\n",
    "nmf_tfidf = NMF(\n",
    "    n_components=best_num_topics,\n",
    "    init='nndsvd',\n",
    "    max_iter=500,\n",
    "    l1_ratio=0.0,\n",
    "    solver='cd',\n",
    "    alpha=0.0,\n",
    "    tol=1e-4,\n",
    "    random_state=3).fit(tfidf_docs_vectorized)"
   ]
  },
  {
   "cell_type": "code",
   "execution_count": 76,
   "metadata": {},
   "outputs": [
    {
     "name": "stdout",
     "output_type": "stream",
     "text": [
      "\n",
      "Topic #0:\n",
      "bank account wsm day dont get get phished good help help get\n",
      "\n",
      "Topic #1:\n",
      "phished wsm help phished rule get phished help get rule help wsm get im\n",
      "\n",
      "Topic #2:\n",
      "market phished wsm help know bank day dont get get phished good\n",
      "\n",
      "Topic #3:\n",
      "vendor wsm help know bank day dont get get phished good help\n",
      "\n",
      "Topic #4:\n",
      "know phished good wsm help bank day dont get get phished help\n",
      "\n",
      "Topic #5:\n",
      "account phished good know bank day dont get get phished help\n",
      "\n",
      "Topic #6:\n",
      "good wsm help wsm bank day dont get get phished help help get\n",
      "\n",
      "Topic #7:\n",
      "need help get wsm help know bank day dont get get phished good\n",
      "\n",
      "Topic #8:\n",
      "get help get wsm help wsm bank day dont get phished good help\n",
      "\n",
      "Topic #9:\n",
      "im phished wsm help know bank day dont get get phished good\n",
      "\n",
      "Topic #10:\n",
      "like im know dont wsm bank day get get phished good\n",
      "\n",
      "Topic #11:\n",
      "offer help get account new market know dont im please bank\n",
      "\n",
      "Topic #12:\n",
      "please phished new wsm help im bank day dont get get phished\n",
      "\n",
      "Topic #13:\n",
      "wsm wsm help bank day dont get get phished good help help get\n",
      "\n",
      "Topic #14:\n",
      "dont phished vendor wsm help know bank day get get phished good\n",
      "\n",
      "Topic #15:\n",
      "one help get new know dont day wsm help bank get get phished\n",
      "\n",
      "Topic #16:\n",
      "new account day vendor know bank dont get get phished good\n",
      "\n",
      "Topic #17:\n",
      "day bank one vendor like know dont get get phished good\n",
      "\n",
      "Topic #18:\n",
      "help help get im know dont market please bank vendor like\n",
      "\n",
      "Topic #19:\n",
      "rule help wsm help phished rule get phished wsm get please im dont\n"
     ]
    }
   ],
   "source": [
    "n_top_words = 10\n",
    "\n",
    "print_topics(nmf_tfidf, tfidf_vectorizer, n_top_words)"
   ]
  }
 ],
 "metadata": {
  "kernelspec": {
   "display_name": "Python 3",
   "language": "python",
   "name": "python3"
  },
  "language_info": {
   "codemirror_mode": {
    "name": "ipython",
    "version": 3
   },
   "file_extension": ".py",
   "mimetype": "text/x-python",
   "name": "python",
   "nbconvert_exporter": "python",
   "pygments_lexer": "ipython3",
   "version": "3.7.9"
  }
 },
 "nbformat": 4,
 "nbformat_minor": 4
}
