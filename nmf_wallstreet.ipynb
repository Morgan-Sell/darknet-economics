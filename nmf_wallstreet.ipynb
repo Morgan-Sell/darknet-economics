{
 "cells": [
  {
   "cell_type": "code",
   "execution_count": 2,
   "metadata": {},
   "outputs": [
    {
     "name": "stdout",
     "output_type": "stream",
     "text": [
      "Collecting pip\n",
      "  Using cached pip-20.2.3-py2.py3-none-any.whl (1.5 MB)\n",
      "Installing collected packages: pip\n",
      "  Attempting uninstall: pip\n",
      "    Found existing installation: pip 20.0.2\n",
      "    Uninstalling pip-20.0.2:\n",
      "      Successfully uninstalled pip-20.0.2\n",
      "Successfully installed pip-20.2.3\n",
      "Collecting gensim\n",
      "  Downloading gensim-3.8.3-cp36-cp36m-manylinux1_x86_64.whl (24.2 MB)\n",
      "\u001b[K     |████████████████████████████████| 24.2 MB 215 kB/s eta 0:00:01    |███▏                            | 2.4 MB 4.0 MB/s eta 0:00:06\n",
      "\u001b[?25hRequirement already satisfied: six>=1.5.0 in /home/ec2-user/anaconda3/envs/python3/lib/python3.6/site-packages (from gensim) (1.14.0)\n",
      "Requirement already satisfied: numpy>=1.11.3 in /home/ec2-user/anaconda3/envs/python3/lib/python3.6/site-packages (from gensim) (1.18.1)\n",
      "Requirement already satisfied: scipy>=0.18.1 in /home/ec2-user/anaconda3/envs/python3/lib/python3.6/site-packages (from gensim) (1.4.1)\n",
      "Collecting smart-open>=1.8.1\n",
      "  Downloading smart_open-2.2.1.tar.gz (122 kB)\n",
      "\u001b[K     |████████████████████████████████| 122 kB 44.2 MB/s eta 0:00:01\n",
      "\u001b[?25hRequirement already satisfied: requests in /home/ec2-user/anaconda3/envs/python3/lib/python3.6/site-packages (from smart-open>=1.8.1->gensim) (2.22.0)\n",
      "Requirement already satisfied: boto3 in /home/ec2-user/anaconda3/envs/python3/lib/python3.6/site-packages (from smart-open>=1.8.1->gensim) (1.15.8)\n",
      "Requirement already satisfied: certifi>=2017.4.17 in /home/ec2-user/anaconda3/envs/python3/lib/python3.6/site-packages (from requests->smart-open>=1.8.1->gensim) (2020.6.20)\n",
      "Requirement already satisfied: chardet<3.1.0,>=3.0.2 in /home/ec2-user/anaconda3/envs/python3/lib/python3.6/site-packages (from requests->smart-open>=1.8.1->gensim) (3.0.4)\n",
      "Requirement already satisfied: idna<2.9,>=2.5 in /home/ec2-user/anaconda3/envs/python3/lib/python3.6/site-packages (from requests->smart-open>=1.8.1->gensim) (2.8)\n",
      "Requirement already satisfied: urllib3!=1.25.0,!=1.25.1,<1.26,>=1.21.1 in /home/ec2-user/anaconda3/envs/python3/lib/python3.6/site-packages (from requests->smart-open>=1.8.1->gensim) (1.25.8)\n",
      "Requirement already satisfied: s3transfer<0.4.0,>=0.3.0 in /home/ec2-user/anaconda3/envs/python3/lib/python3.6/site-packages (from boto3->smart-open>=1.8.1->gensim) (0.3.3)\n",
      "Requirement already satisfied: jmespath<1.0.0,>=0.7.1 in /home/ec2-user/anaconda3/envs/python3/lib/python3.6/site-packages (from boto3->smart-open>=1.8.1->gensim) (0.10.0)\n",
      "Requirement already satisfied: botocore<1.19.0,>=1.18.8 in /home/ec2-user/anaconda3/envs/python3/lib/python3.6/site-packages (from boto3->smart-open>=1.8.1->gensim) (1.18.8)\n",
      "Requirement already satisfied: python-dateutil<3.0.0,>=2.1 in /home/ec2-user/anaconda3/envs/python3/lib/python3.6/site-packages (from botocore<1.19.0,>=1.18.8->boto3->smart-open>=1.8.1->gensim) (2.8.1)\n",
      "Building wheels for collected packages: smart-open\n",
      "  Building wheel for smart-open (setup.py) ... \u001b[?25ldone\n",
      "\u001b[?25h  Created wheel for smart-open: filename=smart_open-2.2.1-py3-none-any.whl size=114113 sha256=7cca0d6c41a12b4fff4d304c7a7125744cfad5c8998f5c275965a55c0ed17c2a\n",
      "  Stored in directory: /home/ec2-user/.cache/pip/wheels/12/6f/d1/6b06b392acb738f552f25dcfe0aac54a20ec854a20f55240aa\n",
      "Successfully built smart-open\n",
      "Installing collected packages: smart-open, gensim\n",
      "Successfully installed gensim-3.8.3 smart-open-2.2.1\n"
     ]
    }
   ],
   "source": [
    "!pip install --upgrade pip\n",
    "!pip install gensim"
   ]
  },
  {
   "cell_type": "code",
   "execution_count": 3,
   "metadata": {},
   "outputs": [],
   "source": [
    "import pandas as pd\n",
    "import numpy as np\n",
    "\n",
    "import matplotlib.pyplot as plt\n",
    "import seaborn as sns\n",
    "%matplotlib inline\n",
    "\n",
    "\n",
    "from src import utils, nmf_utils, nlp_topic_utils\n",
    "from src.process_text_variables import contracted_words_dict, stop_words_dict, punc \n",
    "\n",
    "import re\n",
    "from bs4 import BeautifulSoup\n",
    "\n",
    "import nltk\n",
    "from nltk.corpus import stopwords\n",
    "from nltk.tokenize import TweetTokenizer\n",
    "import string\n",
    "\n",
    "from sklearn.feature_extraction.text import CountVectorizer, TfidfVectorizer\n",
    "from sklearn.decomposition import NMF\n",
    "\n",
    "from gensim.models.coherencemodel import CoherenceModel\n",
    "from gensim.corpora.dictionary import Dictionary\n",
    "from gensim.models.nmf import Nmf\n",
    "\n",
    "from collections import Counter\n",
    "from operator import itemgetter"
   ]
  },
  {
   "cell_type": "markdown",
   "metadata": {},
   "source": [
    "# NMF - Wall Street Forum"
   ]
  },
  {
   "cell_type": "code",
   "execution_count": 4,
   "metadata": {},
   "outputs": [],
   "source": [
    "def bow_vectorizer(docs_raw, min_doc_freq, max_doc_freq, max_feats, ngram_rng):\n",
    "    '''\n",
    "    \n",
    "    Args:\n",
    "        \n",
    "    Return:\n",
    "    \n",
    "    '''\n",
    "    vectorizer = CountVectorizer(min_df=min_doc_freq, max_df=max_doc_freq, max_features=max_feats, ngram_range=ngram_rng)\n",
    "    docs_vectorized = vectorizer.fit_transform(docs_raw)\n",
    "    return docs_vectorized, vectorizer\n"
   ]
  },
  {
   "cell_type": "code",
   "execution_count": 5,
   "metadata": {},
   "outputs": [],
   "source": [
    "def tfidf_vectorizer(docs_raw, min_doc_freq, max_doc_freq, max_feats, ngram_rng):\n",
    "    '''\n",
    "    \n",
    "    Args:\n",
    "        \n",
    "    Return:\n",
    "    \n",
    "    '''\n",
    "    vectorizer = TfidfVectorizer(min_df=min_doc_freq, max_df=max_doc_freq, max_features=max_feats, ngram_range=ngram_rng)\n",
    "    docs_vectorized = vectorizer.fit_transform(docs_raw)\n",
    "    return docs_vectorized, vectorizer"
   ]
  },
  {
   "cell_type": "code",
   "execution_count": 6,
   "metadata": {},
   "outputs": [],
   "source": [
    "def print_topics(model, count_vectorizer, n_top_words):\n",
    "    '''\n",
    "   \n",
    "    Args:\n",
    "    \n",
    "        \n",
    "    Return:\n",
    "    \n",
    "        \n",
    "    '''\n",
    "    \n",
    "    words = count_vectorizer.get_feature_names()\n",
    "    for topic_idx, topic in enumerate(model.components_):\n",
    "        top_words_arr = [words[i] for i in topic.argsort()[:-n_top_words - 1:-1]]\n",
    "        print(\"\\nTopic #{}:\".format(topic_idx))\n",
    "        print(\" \".join(top_words_arr))"
   ]
  },
  {
   "cell_type": "code",
   "execution_count": 7,
   "metadata": {},
   "outputs": [],
   "source": [
    "# wsm = Wall Street Market\n",
    "# append_to_stopwords = ['wsm']\n",
    "\n",
    "stop_words = stopwords.words(\"english\")# .append(append_to_stopwords)\n",
    "stopwords_dict = Counter(stop_words)\n",
    "\n",
    "\n",
    "def tokenize_lemmatize(text):\n",
    "    '''\n",
    "    \n",
    "    \n",
    "    Args:\n",
    "        comment (str) : Content of the author's post in Wall Street Market.\n",
    "        \n",
    "    Return:\n",
    "        lem_tokens (arr) : The cleaned, tokenized and lemmetized version of comment.\n",
    "        \n",
    "    '''\n",
    "    \n",
    "    \n",
    "    \n",
    "    tokens = nltk.word_tokenize(text)\n",
    "    tokens = [t for t in tokens if t not in stopwords_dict]\n",
    "    \n",
    "    wordnet_lemma = nltk.WordNetLemmatizer()\n",
    "    lem_tokens = [wordnet_lemma.lemmatize(t) for t in tokens]\n",
    "    \n",
    "    return lem_tokens"
   ]
  },
  {
   "cell_type": "markdown",
   "metadata": {},
   "source": [
    "## Import Dataset and Model Inputs"
   ]
  },
  {
   "cell_type": "code",
   "execution_count": 4,
   "metadata": {},
   "outputs": [],
   "source": [
    "wallstreet = pd.read_csv('data/wallstreet_master.csv')"
   ]
  },
  {
   "cell_type": "code",
   "execution_count": 6,
   "metadata": {},
   "outputs": [],
   "source": [
    "wallstreet['nmf_tokens'] = wallstreet['processed_text'].apply(lambda x: nlp_topic_utils.process_text(x, contracted_words_dict, punc, stop_words_dict, min_len=1))"
   ]
  },
  {
   "cell_type": "code",
   "execution_count": 7,
   "metadata": {},
   "outputs": [],
   "source": [
    "docs_raw = wallstreet['nmf_tokens']"
   ]
  },
  {
   "cell_type": "markdown",
   "metadata": {},
   "source": [
    "---\n",
    "## Use Gensim to Identify Optimal Number of Topics"
   ]
  },
  {
   "cell_type": "code",
   "execution_count": 15,
   "metadata": {},
   "outputs": [],
   "source": [
    "def create_gensim_dict_corpus(docs_raw, num_below, num_above, num_features):\n",
    "    '''\n",
    "    Create corpus to be used to determine optimal number of components using the gensim package.\n",
    "    \n",
    "    '''\n",
    "    gensim_dict = Dictionary(docs_raw)\n",
    "    gensim_dict.filter_extremes(no_below=num_below, no_above=num_above, keep_n=num_features)\n",
    "    corpus = [gensim_dict.doc2bow(doc) for doc in docs_raw]\n",
    "    \n",
    "    return gensim_dict, corpus\n"
   ]
  },
  {
   "cell_type": "code",
   "execution_count": 16,
   "metadata": {},
   "outputs": [],
   "source": [
    "gensim_dict, corpus = create_gensim_dict_corpus(docs_raw, 3, 0.70, 10000)"
   ]
  },
  {
   "cell_type": "code",
   "execution_count": 17,
   "metadata": {},
   "outputs": [
    {
     "name": "stdout",
     "output_type": "stream",
     "text": [
      "[(6, 0.59677), (21, 0.5887), (15, 0.56236), (12, 0.56207), (30, 0.56167), (24, 0.55983), (39, 0.54707), (9, 0.54517), (27, 0.53694), (3, 0.53544), (42, 0.53417), (36, 0.53037), (18, 0.52463), (33, 0.51486)]\n"
     ]
    }
   ],
   "source": [
    "num_topics_rng = list(np.arange(3, 42 + 1, 3)) \n",
    "coherence_scores = []\n",
    "\n",
    "# NMF MODEL PARAMS\n",
    "num_passes_over_training_docs = 5\n",
    "gradient_desc_step = 0.1\n",
    "\n",
    "# the \"normalized\" arg must equal true to be relevant.\n",
    "floor_probs_for_topics = 0.005\n",
    "normalize = True\n",
    "num_training_docs_per_chunk = 5000\n",
    "\n",
    "# W = topics by words\n",
    "w_max_iter=300\n",
    "w_stop_condition=0.0001\n",
    "\n",
    "# H = articles by topics\n",
    "h_max_iter=100\n",
    "h_stop_condition=0.001\n",
    "eval_every=10\n",
    "random_state = 3\n",
    "\n",
    "for num in num_topics_rng:\n",
    "    nmf = Nmf(corpus=corpus, num_topics=num, id2word=gensim_dict, chunksize=num_training_docs_per_chunk,  passes=num_passes_over_training_docs, kappa=gradient_desc_step,\n",
    "             normalize=normalize, minimum_probability=floor_probs_for_topics, w_max_iter=w_max_iter, w_stop_condition=w_stop_condition, h_max_iter=h_max_iter,\n",
    "             h_stop_condition=h_stop_condition, eval_every=eval_every, random_state=random_state)\n",
    "    \n",
    "    coherence_model = CoherenceModel(model=nmf, texts=docs_raw, dictionary=gensim_dict, coherence='c_v')\n",
    "    \n",
    "    coherence_scores.append(round(coherence_model.get_coherence(), 5))\n",
    "\n",
    "scores = list(zip(num_topics_rng, coherence_scores))\n",
    "topics_sorted_by_co_score = sorted(scores, key=itemgetter(1), reverse=True)\n",
    "print(topics_sorted_by_co_score)"
   ]
  },
  {
   "cell_type": "code",
   "execution_count": 18,
   "metadata": {},
   "outputs": [],
   "source": [
    "def plot_coherence_scores(num_topics_rng, scores):\n",
    "    '''\n",
    "    Visualize coherence scores for their respective number of topics.\n",
    "    Use to determine optimal number of topics for sklearn NMF model.\n",
    "    '''\n",
    "    \n",
    "    coherence_scores = [scores[i][1] for i in range(len(scores))]\n",
    "\n",
    "    fig, ax = plt.subplots(figsize=(9,5))\n",
    "    ax.plot(num_topics_rng, coherence_scores, linewidth=3)\n",
    "    ax.set_title('NMF Model Performance by Number of Topics', fontsize=14)\n",
    "    ax.set_xlabel('# of Topics')\n",
    "    ax.set_ylabel('Coherence Score')\n",
    "    plt.tight_layout();"
   ]
  },
  {
   "cell_type": "code",
   "execution_count": 19,
   "metadata": {},
   "outputs": [
    {
     "data": {
      "image/png": "[encoded data removed]",
      "text/plain": [
       "<Figure size 648x360 with 1 Axes>"
      ]
     },
     "metadata": {
      "needs_background": "light"
     },
     "output_type": "display_data"
    }
   ],
   "source": [
    "plot_coherence_scores(num_topics_rng, scores)"
   ]
  },
  {
   "cell_type": "code",
   "execution_count": 98,
   "metadata": {},
   "outputs": [
    {
     "data": {
      "image/png": "[encoded data removed]",
      "text/plain": [
       "<Figure size 648x360 with 1 Axes>"
      ]
     },
     "metadata": {
      "needs_background": "light"
     },
     "output_type": "display_data"
    }
   ],
   "source": [
    "coherence_scores = [scores[i][1] for i in range(len(scores))]\n",
    "\n",
    "fig, ax = plt.subplots(figsize=(9,5))\n",
    "ax.plot(num_topics_rng, coherence_scores, linewidth=3)\n",
    "ax.set_title('NMF Model Performance by Number of Topics', fontsize=14)\n",
    "ax.set_xlabel('# of Topics')\n",
    "ax.set_ylabel('Coherence Score')\n",
    "plt.tight_layout();"
   ]
  },
  {
   "cell_type": "markdown",
   "metadata": {},
   "source": [
    "---\n",
    "# NMF Inputs"
   ]
  },
  {
   "cell_type": "code",
   "execution_count": 100,
   "metadata": {},
   "outputs": [],
   "source": [
    "docs_raw_sklearn = wallstreet['processed_text']"
   ]
  },
  {
   "cell_type": "markdown",
   "metadata": {},
   "source": [
    "---\n",
    "# NMF - Bag of Words "
   ]
  },
  {
   "cell_type": "code",
   "execution_count": null,
   "metadata": {},
   "outputs": [],
   "source": []
  },
  {
   "cell_type": "code",
   "execution_count": 101,
   "metadata": {},
   "outputs": [],
   "source": [
    "# bow_docs_vectorized,  bow_vectorizer = bow_vectorizer(docs_raw, min_doc_freq, max_doc_freq, max_feats, ngram_rng)\n",
    "\n",
    "best_num_topics = 12\n",
    "\n",
    "bow_vectorizer = CountVectorizer(min_df=min_doc_freq, max_df=max_doc_freq, max_features=max_feats, ngram_range=ngram_rng)\n",
    "bow_docs_vectorized = bow_vectorizer.fit_transform(docs_raw_sklearn)\n",
    "nmf_bow = NMF(\n",
    "    n_components=best_num_topics,\n",
    "    init='nndsvd',\n",
    "    max_iter=500,\n",
    "    l1_ratio=0.0,\n",
    "    solver='cd',\n",
    "    alpha=0.0,\n",
    "    tol=1e-4,\n",
    "    random_state=3).fit(bow_docs_vectorized)"
   ]
  },
  {
   "cell_type": "code",
   "execution_count": 102,
   "metadata": {},
   "outputs": [
    {
     "name": "stdout",
     "output_type": "stream",
     "text": [
      "\n",
      "Topic #0:\n",
      "bank one money day link new wsm help market contact good\n",
      "\n",
      "Topic #1:\n",
      "like one know time good day money help wsm wsm help\n",
      "\n",
      "Topic #2:\n",
      "wsm help rule phished wsm help phished rule help phished link time bank\n",
      "\n",
      "Topic #3:\n",
      "account money link know time help bank contact day good\n",
      "\n",
      "Topic #4:\n",
      "order day time one good offer wsm wsm help link bank\n",
      "\n",
      "Topic #5:\n",
      "market wsm link like wsm help money bank contact day good\n",
      "\n",
      "Topic #6:\n",
      "offer link money wsm wsm help market bank contact day good\n",
      "\n",
      "Topic #7:\n",
      "vendor good wsm know time like wsm help market bank contact\n",
      "\n",
      "Topic #8:\n",
      "wrote know good money help day wsm help bank contact help phished\n",
      "\n",
      "Topic #9:\n",
      "need help money time know one market bank contact day\n",
      "\n",
      "Topic #10:\n",
      "contact link rule time wsm help market bank day good help\n",
      "\n",
      "Topic #11:\n",
      "new link help one time wsm help market bank contact day\n"
     ]
    }
   ],
   "source": [
    "n_top_words = 10\n",
    "\n",
    "print_topics(nmf_bow, bow_vectorizer, n_top_words)"
   ]
  },
  {
   "cell_type": "markdown",
   "metadata": {},
   "source": [
    "---\n",
    "## NMF - Tf-Idf"
   ]
  },
  {
   "cell_type": "code",
   "execution_count": 108,
   "metadata": {},
   "outputs": [],
   "source": [
    "# bow_docs_vectorized,  bow_vectorizer = bow_vectorizer(docs_raw, min_doc_freq, max_doc_freq, max_feats, ngram_rng)\n",
    "\n",
    "best_num_topics = 12\n",
    "\n",
    "tfidf_vectorizer = TfidfVectorizer(min_df=min_doc_freq, max_df=max_doc_freq, max_features=max_feats, ngram_range=ngram_rng)\n",
    "tfidf_docs_vectorized = tfidf_vectorizer.fit_transform(docs_raw_sklearn)\n",
    "nmf_tfidf = NMF(\n",
    "    n_components=best_num_topics,\n",
    "    init='nndsvd',\n",
    "    max_iter=500,\n",
    "    l1_ratio=0.0,\n",
    "    solver='cd',\n",
    "    alpha=0.0,\n",
    "    tol=1e-4,\n",
    "    random_state=3).fit(tfidf_docs_vectorized)"
   ]
  },
  {
   "cell_type": "code",
   "execution_count": 109,
   "metadata": {},
   "outputs": [
    {
     "name": "stdout",
     "output_type": "stream",
     "text": [
      "\n",
      "Topic #0:\n",
      "offer link contact new money rule bank time wsm help day\n",
      "\n",
      "Topic #1:\n",
      "help wsm rule phished phished rule help phished wsm help contact link time\n",
      "\n",
      "Topic #2:\n",
      "market wsm time new link wsm help bank contact day good\n",
      "\n",
      "Topic #3:\n",
      "vendor time one new contact day account link bank good\n",
      "\n",
      "Topic #4:\n",
      "wrote contact time one help money market wsm help link bank\n",
      "\n",
      "Topic #5:\n",
      "bank one day money time new help market wsm help link\n",
      "\n",
      "Topic #6:\n",
      "order time day new wsm one help money wsm help like\n",
      "\n",
      "Topic #7:\n",
      "need money help time new contact market bank day good\n",
      "\n",
      "Topic #8:\n",
      "good time day money new one help wsm help link bank\n",
      "\n",
      "Topic #9:\n",
      "know time one help money new wsm help link bank contact\n",
      "\n",
      "Topic #10:\n",
      "account bank money new link market contact day good help\n",
      "\n",
      "Topic #11:\n",
      "like time money one new help day wsm help link bank\n"
     ]
    }
   ],
   "source": [
    "n_top_words = 10\n",
    "\n",
    "print_topics(nmf_tfidf, tfidf_vectorizer, n_top_words)"
   ]
  },
  {
   "cell_type": "markdown",
   "metadata": {},
   "source": [
    "### Evaluate nmf_tfidf Model Performance\n",
    "Calculate the residuals"
   ]
  },
  {
   "cell_type": "code",
   "execution_count": 110,
   "metadata": {},
   "outputs": [
    {
     "name": "stdout",
     "output_type": "stream",
     "text": [
      "A = 45372 x 25\n",
      "W = 12 x 25\n",
      "H = 45372 x 12\n"
     ]
    }
   ],
   "source": [
    "A = tfidf_docs_vectorized\n",
    "W = nmf_tfidf.components_\n",
    "H = nmf_tfidf.transform(A)\n",
    "\n",
    "print('A = {} x {}'.format(A.shape[0], A.shape[1]))\n",
    "print('W = {} x {}'.format(W.shape[0], W.shape[1]))\n",
    "print('H = {} x {}'.format(H.shape[0], H.shape[1]))"
   ]
  },
  {
   "cell_type": "code",
   "execution_count": 112,
   "metadata": {},
   "outputs": [
    {
     "name": "stdout",
     "output_type": "stream",
     "text": [
      "Sum of the squared residuals:  22848.651\n"
     ]
    }
   ],
   "source": [
    "residuals = np.zeros(A.shape[0])\n",
    "\n",
    "for row in range(A.shape[0]):\n",
    "    residuals[row] = np.linalg.norm(A[row, :] - H[row, :].dot(W), ord='fro')\n",
    "\n",
    "sum_sqrt_resids = round(sum(np.sqrt(residuals)), 3)\n",
    "print('Sum of the squared residuals: ', sum_sqrt_resids)"
   ]
  },
  {
   "cell_type": "code",
   "execution_count": null,
   "metadata": {},
   "outputs": [],
   "source": []
  }
 ],
 "metadata": {
  "kernelspec": {
   "display_name": "conda_python3",
   "language": "python",
   "name": "conda_python3"
  },
  "language_info": {
   "codemirror_mode": {
    "name": "ipython",
    "version": 3
   },
   "file_extension": ".py",
   "mimetype": "text/x-python",
   "name": "python",
   "nbconvert_exporter": "python",
   "pygments_lexer": "ipython3",
   "version": "3.6.10"
  }
 },
 "nbformat": 4,
 "nbformat_minor": 4
}
