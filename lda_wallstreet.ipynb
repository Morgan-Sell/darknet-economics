{
 "cells": [
  {
   "cell_type": "code",
   "execution_count": 2,
   "metadata": {},
   "outputs": [
    {
     "name": "stdout",
     "output_type": "stream",
     "text": [
      "Collecting pyLDAvis\n",
      "  Downloading pyLDAvis-2.1.2.tar.gz (1.6 MB)\n",
      "\u001b[K     |████████████████████████████████| 1.6 MB 4.7 MB/s eta 0:00:01\n",
      "\u001b[?25hRequirement already satisfied: wheel>=0.23.0 in /home/ec2-user/anaconda3/envs/python3/lib/python3.6/site-packages (from pyLDAvis) (0.34.2)\n",
      "Requirement already satisfied: numpy>=1.9.2 in /home/ec2-user/anaconda3/envs/python3/lib/python3.6/site-packages (from pyLDAvis) (1.18.1)\n",
      "Requirement already satisfied: scipy>=0.18.0 in /home/ec2-user/anaconda3/envs/python3/lib/python3.6/site-packages (from pyLDAvis) (1.4.1)\n",
      "Requirement already satisfied: pandas>=0.17.0 in /home/ec2-user/anaconda3/envs/python3/lib/python3.6/site-packages (from pyLDAvis) (1.0.5)\n",
      "Requirement already satisfied: joblib>=0.8.4 in /home/ec2-user/anaconda3/envs/python3/lib/python3.6/site-packages (from pyLDAvis) (0.14.1)\n",
      "Requirement already satisfied: jinja2>=2.7.2 in /home/ec2-user/anaconda3/envs/python3/lib/python3.6/site-packages (from pyLDAvis) (2.11.1)\n",
      "Requirement already satisfied: numexpr in /home/ec2-user/anaconda3/envs/python3/lib/python3.6/site-packages (from pyLDAvis) (2.7.1)\n",
      "Requirement already satisfied: pytest in /home/ec2-user/anaconda3/envs/python3/lib/python3.6/site-packages (from pyLDAvis) (5.4.1)\n",
      "Requirement already satisfied: future in /home/ec2-user/anaconda3/envs/python3/lib/python3.6/site-packages (from pyLDAvis) (0.18.2)\n",
      "Collecting funcy\n",
      "  Downloading funcy-1.15-py2.py3-none-any.whl (32 kB)\n",
      "Requirement already satisfied: python-dateutil>=2.6.1 in /home/ec2-user/anaconda3/envs/python3/lib/python3.6/site-packages (from pandas>=0.17.0->pyLDAvis) (2.8.1)\n",
      "Requirement already satisfied: pytz>=2017.2 in /home/ec2-user/anaconda3/envs/python3/lib/python3.6/site-packages (from pandas>=0.17.0->pyLDAvis) (2019.3)\n",
      "Requirement already satisfied: MarkupSafe>=0.23 in /home/ec2-user/anaconda3/envs/python3/lib/python3.6/site-packages (from jinja2>=2.7.2->pyLDAvis) (1.1.1)\n",
      "Requirement already satisfied: py>=1.5.0 in /home/ec2-user/anaconda3/envs/python3/lib/python3.6/site-packages (from pytest->pyLDAvis) (1.8.1)\n",
      "Requirement already satisfied: packaging in /home/ec2-user/anaconda3/envs/python3/lib/python3.6/site-packages (from pytest->pyLDAvis) (20.3)\n",
      "Requirement already satisfied: attrs>=17.4.0 in /home/ec2-user/anaconda3/envs/python3/lib/python3.6/site-packages (from pytest->pyLDAvis) (19.3.0)\n",
      "Requirement already satisfied: more-itertools>=4.0.0 in /home/ec2-user/anaconda3/envs/python3/lib/python3.6/site-packages (from pytest->pyLDAvis) (8.2.0)\n",
      "Requirement already satisfied: pluggy<1.0,>=0.12 in /home/ec2-user/anaconda3/envs/python3/lib/python3.6/site-packages (from pytest->pyLDAvis) (0.13.1)\n",
      "Requirement already satisfied: wcwidth in /home/ec2-user/anaconda3/envs/python3/lib/python3.6/site-packages (from pytest->pyLDAvis) (0.1.9)\n",
      "Requirement already satisfied: importlib-metadata>=0.12 in /home/ec2-user/anaconda3/envs/python3/lib/python3.6/site-packages (from pytest->pyLDAvis) (1.5.0)\n",
      "Requirement already satisfied: six>=1.5 in /home/ec2-user/anaconda3/envs/python3/lib/python3.6/site-packages (from python-dateutil>=2.6.1->pandas>=0.17.0->pyLDAvis) (1.14.0)\n",
      "Requirement already satisfied: pyparsing>=2.0.2 in /home/ec2-user/anaconda3/envs/python3/lib/python3.6/site-packages (from packaging->pytest->pyLDAvis) (2.4.6)\n",
      "Requirement already satisfied: zipp>=0.5 in /home/ec2-user/anaconda3/envs/python3/lib/python3.6/site-packages (from importlib-metadata>=0.12->pytest->pyLDAvis) (2.2.0)\n",
      "Building wheels for collected packages: pyLDAvis\n",
      "  Building wheel for pyLDAvis (setup.py) ... \u001b[?25ldone\n",
      "\u001b[?25h  Created wheel for pyLDAvis: filename=pyLDAvis-2.1.2-py2.py3-none-any.whl size=97711 sha256=ba9ea1be6d09fcc32bf8de8a1c10ddab5b198f69331305b229779f3d368f4c34\n",
      "  Stored in directory: /home/ec2-user/.cache/pip/wheels/57/de/11/0a038be70c2c212ce45fa0f4f9da165bb5dd87de1288394dc3\n",
      "Successfully built pyLDAvis\n",
      "Installing collected packages: funcy, pyLDAvis\n",
      "Successfully installed funcy-1.15 pyLDAvis-2.1.2\n"
     ]
    }
   ],
   "source": [
    "!pip install pyLDAvis"
   ]
  },
  {
   "cell_type": "code",
   "execution_count": 1,
   "metadata": {},
   "outputs": [],
   "source": [
    "import pandas as pd\n",
    "import numpy as np\n",
    "\n",
    "import matplotlib.pyplot as plt\n",
    "import seaborn as sns\n",
    "%matplotlib inline\n",
    "\n",
    "\n",
    "from src import lda_utils, nlp_topic_utils\n",
    "from src.process_text_variables import contracted_words_dict, stop_words_dict, punc \n",
    "\n",
    "import re\n",
    "from bs4 import BeautifulSoup\n",
    "\n",
    "import nltk\n",
    "from nltk.corpus import stopwords\n",
    "\n",
    "from datetime import datetime\n",
    "\n",
    "#nltk.download('wordnet')\n",
    "\n",
    "from sklearn.feature_extraction.text import CountVectorizer, TfidfVectorizer\n",
    "from sklearn.decomposition import LatentDirichletAllocation\n",
    "\n",
    "import pyLDAvis\n",
    "import pyLDAvis.sklearn\n",
    "pyLDAvis.enable_notebook()"
   ]
  },
  {
   "cell_type": "markdown",
   "metadata": {},
   "source": [
    "# LDA - Wall Street Market"
   ]
  },
  {
   "cell_type": "markdown",
   "metadata": {},
   "source": [
    "## Import Dataset and LDA Model Inputs"
   ]
  },
  {
   "cell_type": "code",
   "execution_count": 2,
   "metadata": {},
   "outputs": [
    {
     "name": "stderr",
     "output_type": "stream",
     "text": [
      "C:\\Users\\morga\\anaconda3\\lib\\site-packages\\ipykernel\\ipkernel.py:287: DeprecationWarning: `should_run_async` will not call `transform_cell` automatically in the future. Please pass the result to `transformed_cell` argument and any exception that happen during thetransform in `preprocessing_exc_tuple` in IPython 7.17 and above.\n",
      "  and should_run_async(code)\n"
     ]
    }
   ],
   "source": [
    "wallstreet = pd.read_csv('data/wallstreet_master.csv')\n",
    "wallstreet['lemmatized_tokens'] = wallstreet['contentWithHTMLTag'].apply(lambda x: nlp_topic_utils.process_text(x, contracted_words_dict, punc, stop_words_dict, min_len=1))"
   ]
  },
  {
   "cell_type": "code",
   "execution_count": 5,
   "metadata": {},
   "outputs": [
    {
     "name": "stderr",
     "output_type": "stream",
     "text": [
      "C:\\Users\\morga\\anaconda3\\lib\\site-packages\\ipykernel\\ipkernel.py:287: DeprecationWarning: `should_run_async` will not call `transform_cell` automatically in the future. Please pass the result to `transformed_cell` argument and any exception that happen during thetransform in `preprocessing_exc_tuple` in IPython 7.17 and above.\n",
      "  and should_run_async(code)\n"
     ]
    }
   ],
   "source": [
    "n_topics = 20\n",
    "max_doc_freq = 0.7\n",
    "max_feats = 10000\n",
    "max_iterations = 25\n",
    "\n",
    "docs_raw = [' '.join(d) for d in wallstreet['lemmatized_tokens']]"
   ]
  },
  {
   "cell_type": "markdown",
   "metadata": {},
   "source": [
    "--- \n",
    "# Bag of Words"
   ]
  },
  {
   "cell_type": "code",
   "execution_count": 8,
   "metadata": {},
   "outputs": [
    {
     "name": "stderr",
     "output_type": "stream",
     "text": [
      "C:\\Users\\morga\\anaconda3\\lib\\site-packages\\ipykernel\\ipkernel.py:287: DeprecationWarning: `should_run_async` will not call `transform_cell` automatically in the future. Please pass the result to `transformed_cell` argument and any exception that happen during thetransform in `preprocessing_exc_tuple` in IPython 7.17 and above.\n",
      "  and should_run_async(code)\n"
     ]
    }
   ],
   "source": [
    "vectorizer = CountVectorizer(max_features=max_feats, max_df=max_doc_freq)\n",
    "docs_vectorized = vectorizer.fit_transform(docs_raw)"
   ]
  },
  {
   "cell_type": "code",
   "execution_count": 9,
   "metadata": {},
   "outputs": [
    {
     "name": "stderr",
     "output_type": "stream",
     "text": [
      "C:\\Users\\morga\\anaconda3\\lib\\site-packages\\ipykernel\\ipkernel.py:287: DeprecationWarning: `should_run_async` will not call `transform_cell` automatically in the future. Please pass the result to `transformed_cell` argument and any exception that happen during thetransform in `preprocessing_exc_tuple` in IPython 7.17 and above.\n",
      "  and should_run_async(code)\n"
     ]
    }
   ],
   "source": [
    "# Must be even for visualizations.\n",
    "\n",
    "lda_output_bow, lda_model_bow, docs_vectorized_bow, vect_bow = lda_utils.convert_to_bow_and_fit_lda_model(docs_raw, max_features, max_doc_freq, n_topics, 'batch', max_iterations, 3)\n",
    "\n",
    "sorted_components = np.argsort(lda_model_bow.components_, axis=1)[:, ::-1]\n",
    "feat_names = np.array(vect_bow.get_feature_names())"
   ]
  },
  {
   "cell_type": "code",
   "execution_count": 10,
   "metadata": {},
   "outputs": [
    {
     "name": "stdout",
     "output_type": "stream",
     "text": [
      "\n",
      "Topic #0:\n",
      "order utopia quality kush refund best product reship weed price\n",
      "\n",
      "Topic #1:\n",
      "forum post way deal wrote free people become like thread\n",
      "\n",
      "Topic #2:\n",
      "drug consider ice arab sand nun smashed testicle eskimo name\n",
      "\n",
      "Topic #3:\n",
      "like good know one time wrote really make people vendor\n",
      "\n",
      "Topic #4:\n",
      "contact wrote allowed external link market read know pm rule\n",
      "\n",
      "Topic #5:\n",
      "self business service online need line po marketplace may mg\n",
      "\n",
      "Topic #6:\n",
      "per drug site porn the world high make video lifetime\n",
      "\n",
      "Topic #7:\n",
      "use using tor key file address click user tail server\n",
      "\n",
      "Topic #8:\n",
      "pgp message signature begin key end signed hash public vendor\n",
      "\n",
      "Topic #9:\n",
      "credit bank visa id license passport picsou fake driver scan\n",
      "\n",
      "Topic #10:\n",
      "vendor order market support wrote dispute escrow btc wallet ticket\n",
      "\n",
      "Topic #11:\n",
      "wsm help rule phished wrote vendor profile account external link\n",
      "\n",
      "Topic #12:\n",
      "mdma profile cocaine gram weed sample coke hash quality market\n",
      "\n",
      "Topic #13:\n",
      "method cashout day bank fraud chat one guide room log\n",
      "\n",
      "Topic #14:\n",
      "order shipping day product ship package free vendor pill shipped\n",
      "\n",
      "Topic #15:\n",
      "card use mirror cc phone onionshop carding number wrote credit\n",
      "\n",
      "Topic #16:\n",
      "account bank drop paypal transfer need money cash btc service\n",
      "\n",
      "Topic #17:\n",
      "store gold url uk wall wrote market bar street enough\n",
      "\n",
      "Topic #18:\n",
      "market listing offer vendor price check wsm new profile quality\n",
      "\n",
      "Topic #19:\n",
      "guide cashout bank record pack ssn extra link offer market\n"
     ]
    },
    {
     "name": "stderr",
     "output_type": "stream",
     "text": [
      "C:\\Users\\morga\\anaconda3\\lib\\site-packages\\ipykernel\\ipkernel.py:287: DeprecationWarning: `should_run_async` will not call `transform_cell` automatically in the future. Please pass the result to `transformed_cell` argument and any exception that happen during thetransform in `preprocessing_exc_tuple` in IPython 7.17 and above.\n",
      "  and should_run_async(code)\n"
     ]
    }
   ],
   "source": [
    "lda_utils.print_topics(lda_model_bow, vect_bow, 10)"
   ]
  },
  {
   "cell_type": "code",
   "execution_count": null,
   "metadata": {},
   "outputs": [],
   "source": []
  },
  {
   "cell_type": "code",
   "execution_count": 11,
   "metadata": {},
   "outputs": [
    {
     "name": "stderr",
     "output_type": "stream",
     "text": [
      "C:\\Users\\morga\\anaconda3\\lib\\site-packages\\ipykernel\\ipkernel.py:287: DeprecationWarning: `should_run_async` will not call `transform_cell` automatically in the future. Please pass the result to `transformed_cell` argument and any exception that happen during thetransform in `preprocessing_exc_tuple` in IPython 7.17 and above.\n",
      "  and should_run_async(code)\n"
     ]
    },
    {
     "data": {
      "image/png": "[encoded data removed]",
      "text/plain": [
       "<Figure size 1080x576 with 2 Axes>"
      ]
     },
     "metadata": {
      "needs_background": "light"
     },
     "output_type": "display_data"
    }
   ],
   "source": [
    "# Evaluate each topics (components) overall weight.\n",
    "# Topics are named by the two most common words.\n",
    "\n",
    "topics_per_plot = int(n_topics / 2)\n",
    "barh_xlim = 4000\n",
    "plot_pad = 100\n",
    "fig_size = (15,8)\n",
    "num_cols = 2\n",
    "\n",
    "fig, ax = plt.subplots(1, 2, figsize=fig_size)\n",
    "\n",
    "topic_names = ['{} {}'.format(i, ' '.join(words)) for i, words in enumerate(feat_names[sorted_components[:, :2]])]\n",
    "\n",
    "for col in range(num_cols):\n",
    "    start = col * topics_per_plot\n",
    "    end = (col + 1) * topics_per_plot\n",
    "    plot_width = np.sum(lda_output_bow, axis=0)[start:end]\n",
    "    ax[col].barh(np.arange(topics_per_plot), plot_width)\n",
    "    ax[col].set_yticks(np.arange(topics_per_plot))\n",
    "    ax[col].set_yticklabels(topic_names[start:end], ha='left', va='top')\n",
    "    ax[col].invert_yaxis()\n",
    "    ax[col].set_xlim(0, barh_xlim)\n",
    "    ax[col].set_xlabel('# of documents')\n",
    "    y_ax = ax[col].get_yaxis()\n",
    "    y_ax.set_tick_params(pad=plot_pad)\n",
    "\n",
    "plt.tight_layout();"
   ]
  },
  {
   "cell_type": "code",
   "execution_count": null,
   "metadata": {},
   "outputs": [],
   "source": []
  },
  {
   "cell_type": "code",
   "execution_count": null,
   "metadata": {},
   "outputs": [],
   "source": [
    "# Topic order is based on topic popularity.\n",
    "# The distance b/t circles reprsents an approximation topic similarity. It's approximation b/c only a 2D map.\n",
    "# When lambda = 0, the bar chart solely show topic-specific terms (jargon).\n",
    "doc_term_matrix = np.matrix(lda_model_bow.components_)\n",
    "pyLDAvis.sklearn.prepare(lda_model_bow, doc_term_matrix, vect_bow)"
   ]
  },
  {
   "cell_type": "markdown",
   "metadata": {},
   "source": [
    "### Model Performance"
   ]
  },
  {
   "cell_type": "code",
   "execution_count": null,
   "metadata": {},
   "outputs": [],
   "source": [
    "# Log Likelihood: Higher the better\n",
    "print('Log Likelihood: ', lda_model_bow.score(docs_vectorized_bow))\n",
    "\n",
    "# Perplexity: Lower the better. Perplexity = exp(-1. * log-likelihood per word)\n",
    "print('Perplexity: ', lda_model_bow.perplexity(docs_vectorized_bow))\n",
    "\n",
    "# Model parameters\n",
    "print(lda_model_bow.get_params())"
   ]
  },
  {
   "cell_type": "markdown",
   "metadata": {},
   "source": []
  },
  {
   "cell_type": "markdown",
   "metadata": {},
   "source": [
    "---\n",
    "# TF-IDF"
   ]
  },
  {
   "cell_type": "code",
   "execution_count": null,
   "metadata": {},
   "outputs": [],
   "source": [
    "lda_output_tfidf, lda_model_tfidf, docs_vectorized_tfidf, vect_tfidf = lda_utils.calculate_tfidf_and_fit_lda_model(docs_raw, max_features, max_doc_freq, \n",
    "                                                                                                                   n_topics, 'batch', max_iterations, 3)\n",
    "\n",
    "sorted_components = np.argsort(lda_model_tfidf.components_, axis=1)[:, ::-1]\n",
    "feat_names = np.array(vect_tfidf.get_feature_names())"
   ]
  },
  {
   "cell_type": "code",
   "execution_count": null,
   "metadata": {},
   "outputs": [],
   "source": [
    "lda_utils.print_topics(lda_model_tfidf, vect_tfidf, 10)"
   ]
  },
  {
   "cell_type": "code",
   "execution_count": null,
   "metadata": {},
   "outputs": [],
   "source": [
    "doc_term_matrix = np.matrix(lda_model_tfidf.components_)\n",
    "pyLDAvis.sklearn.prepare(lda_model_tfidf, doc_term_matrix, vect_tfidf)"
   ]
  },
  {
   "cell_type": "code",
   "execution_count": null,
   "metadata": {},
   "outputs": [],
   "source": [
    "# Log Likelihood: Higher the better\n",
    "print('Log Likelihood: ', round(lda_model_tfidf.score(docs_vectorized_tfidf), 2))\n",
    "\n",
    "# Perplexity: Lower the better. Perplexity = exp(-1. * log-likelihood per word)\n",
    "print('Perplexity: ', round(lda_model_tfidf.perplexity(docs_vectorized_tfidf), 2))\n",
    "\n",
    "# Model parameters\n",
    "print(lda_model_tfidf.get_params())"
   ]
  },
  {
   "cell_type": "code",
   "execution_count": null,
   "metadata": {},
   "outputs": [],
   "source": []
  },
  {
   "cell_type": "markdown",
   "metadata": {},
   "source": [
    "---\n",
    "## Design for Web App"
   ]
  },
  {
   "cell_type": "code",
   "execution_count": null,
   "metadata": {},
   "outputs": [],
   "source": [
    "for col in range(num_cols):\n",
    "    start = col * topics_per_plot\n",
    "    end = (col + 1) * topics_per_plot\n",
    "    plot_width = np.sum(lda_output_bow, axis=0)[start:end]\n",
    "    ax[col].barh(np.arange(topics_per_plot), plot_width)\n",
    "    ax[col].set_yticks(np.arange(topics_per_plot))\n",
    "    ax[col].set_yticklabels(topic_names[start:end], ha='left', va='top')\n",
    "    ax[col].invert_yaxis()\n",
    "    ax[col].set_xlim(0, barh_xlim)\n",
    "    ax[col].set_xlabel('# of documents')\n",
    "    y_ax = ax[col].get_yaxis()\n",
    "    y_ax.set_tick_params(pad=plot_pad)\n",
    "\n",
    "plt.tight_layout();"
   ]
  },
  {
   "cell_type": "code",
   "execution_count": null,
   "metadata": {},
   "outputs": [],
   "source": [
    "#def plot_components_freq()\n",
    "\n",
    "n_words_per_component = 3\n",
    "model_output = lda_output_bow\n",
    "\n",
    "topics_per_plot = int(n_topics / 2)\n",
    "num_docs_per_topic = np.sum(model_output, axis=0)\n",
    "barh_xlim = np.max(num_docs_per_topic) * 0.1\n",
    "y_arr = np.arange(topics_per_plot)\n",
    "\n",
    "topic_names = ['{} {}'.format(i, ' '.join(words)) for i, words in enumerate(feat_names[sorted_components[:, :n_words_per_component]])]\n",
    "\n",
    "fig = make_subplots(rows=1, cols=2)\n",
    "\n",
    "# Plot 1\n",
    "n_docs_plot_1 = num_docs_per_topic[:topics_per_plot]\n",
    "\n",
    "fig.add_trace(go.Scatter(x=n_docs_plot_1, y=topic_names[:topics_per_plot], row=1, col=1))\n",
    "fig.update_xaxes(title_text=\"# of Documents\", row=1, col=1)\n",
    "\n",
    "# Plot 2\n",
    "n_docs_plot_2 = num_docs_per_topic[topics_per_plot:]\n",
    "\n",
    "fig.add_trace(go.Scatter(x=n_docs_plot_2, y=topic_names[topics_per_plot:], row=1, col=2))\n",
    "fig.update_xaxes(title_text=\"# of Documents\", row=1, col=2)\n",
    "\n",
    "\n"
   ]
  }
 ],
 "metadata": {
  "kernelspec": {
   "display_name": "conda_python3",
   "language": "python",
   "name": "conda_python3"
  },
  "language_info": {
   "codemirror_mode": {
    "name": "ipython",
    "version": 3
   },
   "file_extension": ".py",
   "mimetype": "text/x-python",
   "name": "python",
   "nbconvert_exporter": "python",
   "pygments_lexer": "ipython3",
   "version": "3.6.10"
  }
 },
 "nbformat": 4,
 "nbformat_minor": 4
}
